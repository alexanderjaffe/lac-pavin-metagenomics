{
 "cells": [
  {
   "cell_type": "markdown",
   "metadata": {},
   "source": [
    "# Lac Pavin data binning and curation"
   ]
  },
  {
   "cell_type": "code",
   "execution_count": 1,
   "metadata": {},
   "outputs": [],
   "source": [
    "import matplotlib, re, os, glob, datetime, difflib, random, time, math, json, wget\n",
    "import matplotlib.pyplot as plt\n",
    "import seaborn as sns\n",
    "from drep import d_cluster\n",
    "from collections import defaultdict\n",
    "from scipy import stats\n",
    "import numpy as np\n",
    "import pandas as pd\n",
    "import seaborn as sns\n",
    "import subprocess as sp\n",
    "sns.set('notebook')\n",
    "%matplotlib inline \n",
    "# hide warnings\n",
    "import warnings\n",
    "warnings.filterwarnings('ignore')\n",
    "from Bio import SeqIO, SeqUtils, SearchIO"
   ]
  },
  {
   "cell_type": "code",
   "execution_count": 2,
   "metadata": {},
   "outputs": [],
   "source": [
    "def cmdir(path):\n",
    "    if not os.path.isdir(path):\n",
    "        os.mkdir(path)\n",
    "\n",
    "def scaffold(gene):\n",
    "    if gene != \"None\":\n",
    "        try: return re.search(\"(.+?)_[0-9]+$\", gene).group(1)\n",
    "        except: print(gene)\n",
    "            \n",
    "def encode(assembly):\n",
    "    return \"A\" + \"\".join(os.path.basename(assembly).split(\"_\")[1:3])"
   ]
  },
  {
   "cell_type": "code",
   "execution_count": 3,
   "metadata": {},
   "outputs": [],
   "source": [
    "rootdir = \"/groups/banfield/projects/environmental/LacPavin/analysis/\""
   ]
  },
  {
   "cell_type": "markdown",
   "metadata": {},
   "source": [
    "# binning"
   ]
  },
  {
   "cell_type": "code",
   "execution_count": 5,
   "metadata": {},
   "outputs": [],
   "source": [
    "cmdir(rootdir + \"binning\")\n",
    "cmdir(rootdir + \"binning/mapping\")"
   ]
  },
  {
   "cell_type": "markdown",
   "metadata": {},
   "source": [
    "### define samples/reads"
   ]
  },
  {
   "cell_type": "code",
   "execution_count": 4,
   "metadata": {},
   "outputs": [],
   "source": [
    "# gather read files\n",
    "reads = {\"water_column\":[], \"sediment\":[]}\n",
    "\n",
    "# project dir\n",
    "for sample in glob.glob(rootdir.replace(\"analysis/\", \"QB3*/raw.d/*/\")):\n",
    "    if ((\"Creux\" not in sample) and (\"07_03\" not in sample)):\n",
    "        fwd = glob.glob(sample + \"/*.PE.1.fastq.gz\")[0]\n",
    "        rev = glob.glob(sample + \"/*.PE.2.fastq.gz\")[0]\n",
    "        reads[\"water_column\"].append((fwd,rev))\n",
    "\n",
    "# /banfield/sequences\n",
    "for sample in glob.glob(\"/groups/banfield/sequences/2020/LacPavin*/\"):\n",
    "    if \"ALN\" not in sample:\n",
    "        fwd = glob.glob(sample + \"raw.d/*.PE.1.fastq.gz\")[0]\n",
    "        rev = glob.glob(sample + \"raw.d/*.PE.2.fastq.gz\")[0]\n",
    "        if \"SED\" in sample:\n",
    "            reads[\"sediment\"].append((fwd, rev))\n",
    "        else: reads[\"water_column\"].append((fwd, rev))"
   ]
  },
  {
   "cell_type": "code",
   "execution_count": 5,
   "metadata": {},
   "outputs": [],
   "source": [
    "# define samples/assemblies of interest\n",
    "assemblies = {\"water_column\":[], \"sediment\":[]}\n",
    "for assembly in glob.glob(rootdir.replace(\"analysis/\", \"QB3*/assembly.d/*/*megahit*/*min1000.fa\")):\n",
    "    if (\"Creux\" not in assembly) and (\"ALN\" not in assembly):\n",
    "        if \"SED\" in assembly:\n",
    "            assemblies[\"sediment\"].append(assembly)\n",
    "        else: assemblies[\"water_column\"].append(assembly)"
   ]
  },
  {
   "cell_type": "markdown",
   "metadata": {},
   "source": [
    "### cross mapping"
   ]
  },
  {
   "cell_type": "code",
   "execution_count": 38,
   "metadata": {},
   "outputs": [],
   "source": [
    "for biome in assemblies:\n",
    "    \n",
    "    for assembly in assemblies[biome]:\n",
    "    \n",
    "        #assembly shorthand\n",
    "        acode = encode(assembly)\n",
    "        \n",
    "        #open job file\n",
    "        with open(rootdir + \"binning/mapping/\" + acode + \".sh\", \"w\") as outfile:\n",
    "\n",
    "            # bowtie build\n",
    "            build = \"/shared/software/bin/bowtie2-build --threads 48 \" + assembly + \\\n",
    "                \" \" + rootdir + \"binning/mapping/\" + acode\n",
    "            outfile.write(build + \"\\n\")\n",
    "\n",
    "            for read_tuple in reads[biome]:\n",
    "\n",
    "                # read shorthand\n",
    "                rcode = \"R\" + \"\".join(os.path.basename(read_tuple[0]).split(\"_\")[1:3])\n",
    "                filecode = rootdir + \"/binning/mapping/\" + acode + \"_\" + rcode\n",
    "                # generate mapping\n",
    "                mapping = \"/shared/software/bin/bowtie2 -p 48 -x \" + rootdir + \"binning/mapping/\" + acode + \" -1 \" + \\\n",
    "                    read_tuple[0] + \" -2 \" + read_tuple[1] + \" 2> \" + filecode + \".log\" + \\\n",
    "                    \" | /shared/software/bin/shrinksam | /shared/software/bin/samtools view -S -b > \" + filecode + \".bam\"\n",
    "                outfile.write(mapping + \"\\n\")\n",
    "                # generate sorted bam + idx\n",
    "                sort = \"/shared/software/bin/samtools sort --threads 45 \" + filecode + \".bam > \" + filecode + \".sorted.bam\"\n",
    "                index = \"/shared/software/bin/samtools index -@ 48 \" + filecode + \".sorted.bam\"\n",
    "                outfile.write(sort + \"\\n\" + index + \"\\n\")     "
   ]
  },
  {
   "cell_type": "markdown",
   "metadata": {},
   "source": [
    "`chmod +x *` then `for item in $(ls *.sh); do sbatch --wrap $(pwd)/$item; done`"
   ]
  },
  {
   "cell_type": "markdown",
   "metadata": {},
   "source": [
    "### metabat"
   ]
  },
  {
   "cell_type": "code",
   "execution_count": 39,
   "metadata": {},
   "outputs": [],
   "source": [
    "cmdir(rootdir + \"binning/metabat\")"
   ]
  },
  {
   "cell_type": "code",
   "execution_count": 44,
   "metadata": {},
   "outputs": [],
   "source": [
    "# generate depth files\n",
    "with open(rootdir + \"scripts/runJGI.sh\", \"w\") as outfile:\n",
    "    \n",
    "    for biome in assemblies:\n",
    "        for assembly in assemblies[biome]:\n",
    "            #assembly shorthand\n",
    "            acode = encode(assembly)\n",
    "            jgi = \"/shared/software/bin/jgi_summarize_bam_contig_depths --outputDepth \" + rootdir + \\\n",
    "                \"binning/metabat/\" + acode + \".txt \" + rootdir + \"binning/mapping/\" + acode + \"*sorted.bam\"\n",
    "            #sp.call(jgi, shell=True)\n",
    "            outfile.write(jgi + \"\\n\")"
   ]
  },
  {
   "cell_type": "code",
   "execution_count": 46,
   "metadata": {},
   "outputs": [],
   "source": [
    "# run metabat per assembly\n",
    "for biome in assemblies:\n",
    "    \n",
    "    for assembly in assemblies[biome]:\n",
    "    \n",
    "        #assembly shorthand\n",
    "        acode = encode(assembly)\n",
    "    \n",
    "        cmdir(rootdir + \"binning/metabat/\" + acode + \"_bins/\")\n",
    "        metabat = \"sbatch -J \" + \"MB_\" + acode + \" --wrap '/shared/software/bin/metabat2 -t 48 -m 1500 -i \" + assembly + \" -a \" + \\\n",
    "            rootdir + \"binning/metabat/\" + acode + \".txt -o \" + rootdir + \"binning/metabat/\" + acode + \"_bins/\" + acode + \"'\"\n",
    "        sp.call(metabat, shell=True)"
   ]
  },
  {
   "cell_type": "markdown",
   "metadata": {},
   "source": [
    "### ggk manual"
   ]
  },
  {
   "cell_type": "code",
   "execution_count": 47,
   "metadata": {},
   "outputs": [],
   "source": [
    "cmdir(rootdir + \"binning/ggkbase\")"
   ]
  },
  {
   "cell_type": "markdown",
   "metadata": {},
   "source": [
    "Manually put ggkbase project scaf2bin in this folder for use below."
   ]
  },
  {
   "cell_type": "markdown",
   "metadata": {},
   "source": [
    "### DASTool"
   ]
  },
  {
   "cell_type": "code",
   "execution_count": 51,
   "metadata": {},
   "outputs": [],
   "source": [
    "cmdir(rootdir + \"binning/dastool\")\n",
    "cmdir(rootdir + \"binning/dastool/scaf2bin\")"
   ]
  },
  {
   "cell_type": "code",
   "execution_count": 52,
   "metadata": {},
   "outputs": [],
   "source": [
    "for scaf2bin in glob.glob(rootdir + \"binning/ggkbase/*\"):\n",
    "    \n",
    "    table = pd.read_csv(scaf2bin, sep = \"\\t\")\n",
    "    # filter out phage, virus, unk\n",
    "    filt = table[~table[\"bin\"].str.contains(\"phage|Phage|Virus|UNK\")]\n",
    "    \n",
    "    #write to dastool directory\n",
    "    acode = \"A\" + \"\".join(os.path.basename(scaf2bin).split(\"_\")[1:3]).split(\".\")[0]\n",
    "    filename = rootdir + \"binning/dastool/scaf2bin/\" + acode + \".ggkbase.scaf2bin\"\n",
    "\n",
    "    with open(filename, \"w\") as outfile:\n",
    "        for key, row in filt.iterrows():\n",
    "            outfile.write(row[\"scaffold_name\"] + \"\\t\" + row[\"bin\"] + \"\\n\")"
   ]
  },
  {
   "cell_type": "code",
   "execution_count": 53,
   "metadata": {},
   "outputs": [],
   "source": [
    "# generate scaffold to bin - rename bins\n",
    "for sample in glob.glob(rootdir + \"binning/metabat/*bins/\"):\n",
    "\n",
    "    acode = sample.split(\"/\")[-2].split(\"_\")[0]\n",
    "    filename = rootdir + \"binning/dastool/scaf2bin/\" + acode + \".metabat.scaf2bin\"\n",
    "    \n",
    "    with open(filename, \"w\") as outfile:\n",
    "        for bin in glob.glob(sample + \"/*fa\"):\n",
    "            newname = os.path.basename(bin).replace(acode, acode + \".metabat\")\n",
    "            # write out scaf2bin w/ newnames\n",
    "            for record in SeqIO.parse(open(bin), \"fasta\"):\n",
    "                outfile.write(record.description.split(\" \")[0] + \"\\t\" + newname + \"\\n\")"
   ]
  },
  {
   "cell_type": "code",
   "execution_count": 59,
   "metadata": {},
   "outputs": [],
   "source": [
    "with open(rootdir + \"scripts/runDasTool.sh\", \"w\") as outfile:\n",
    "    for biome in assemblies:\n",
    "        for assembly in assemblies[biome]:\n",
    "            acode = encode(assembly)\n",
    "            tables = \",\".join(glob.glob(rootdir + \"binning/dastool/scaf2bin/\" + acode + \"*\"))\n",
    "            labels = \",\".join(os.path.basename(path).split(\".\")[1] \n",
    "                for path in glob.glob(rootdir + \"binning/dastool/scaf2bin/\" + acode + \"*\"))\n",
    "\n",
    "            cmdir(rootdir + \"binning/dastool/\" + acode + \"/\")\n",
    "            dastool = \"sbatch -J DT\" + acode + \" --wrap '/shared/software/bin/DAS_Tool -t 48 -i \" + tables + \" -l \" + \\\n",
    "                labels + \" -c \" + assembly + \" -o \" + rootdir + \"binning/dastool/\" + acode + \"/\" + acode + \" --write_bins'\"\n",
    "            outfile.write(dastool + \"\\n\")"
   ]
  },
  {
   "cell_type": "markdown",
   "metadata": {},
   "source": [
    "### reupload to ggkbase"
   ]
  },
  {
   "cell_type": "code",
   "execution_count": 536,
   "metadata": {},
   "outputs": [],
   "source": [
    "cmdir(rootdir + \"ggkbase/temp_scaf2bin\")"
   ]
  },
  {
   "cell_type": "code",
   "execution_count": 686,
   "metadata": {},
   "outputs": [],
   "source": [
    "# cleanse old non-phage bins\n",
    "for file in glob.glob(rootdir + \"ggkbase/temp_scaf2bin/*tsv\"):\n",
    "    with open(rootdir + \"ggkbase/temp_scaf2bin/\" + \\\n",
    "        os.path.basename(file).split(\"scaffolds\")[0] + \"clean.txt\", \"w\") as out:\n",
    "        bins = []\n",
    "        for key, row in pd.read_csv(file, sep=\"\\t\").iterrows():\n",
    "            if (\"UNK\" not in row[\"bin\"]) and (\"PHAGE\" not in row[\"bin\"].upper()) and (\"VIRUS\" not in row[\"bin\"].upper()):\n",
    "                bins.append(row[\"bin\"])\n",
    "        for bin in list(set(bins)):\n",
    "            out.write(bin + \"\\t\" + os.path.basename(file).split(\".scaffolds\")[0] + \"\\n\")"
   ]
  },
  {
   "cell_type": "code",
   "execution_count": 688,
   "metadata": {},
   "outputs": [],
   "source": [
    "cmdir(rootdir + \"ggkbase/dastool_scaf2bin_cleaned\")"
   ]
  },
  {
   "cell_type": "code",
   "execution_count": 689,
   "metadata": {},
   "outputs": [],
   "source": [
    "# rename dastool output\n",
    "for file in glob.glob(rootdir + \"/binning/dastool/A*/*scaffolds2bin.txt\"):\n",
    "    name = os.path.basename(file).replace(\".txt\", \"_cleaned.txt\")\n",
    "    with open(rootdir + \"ggkbase/dastool_scaf2bin_cleaned/\" + name, \"w\") as out:\n",
    "        for line in open(file).readlines():\n",
    "            out.write(line.replace(\".fa\", \"\"))"
   ]
  },
  {
   "cell_type": "markdown",
   "metadata": {},
   "source": [
    "# genome curation prep"
   ]
  },
  {
   "cell_type": "code",
   "execution_count": 555,
   "metadata": {},
   "outputs": [],
   "source": [
    "cmdir(rootdir + \"genomes\")\n",
    "cmdir(rootdir + \"genomes/prelim_genomes\")"
   ]
  },
  {
   "cell_type": "markdown",
   "metadata": {},
   "source": [
    "Copy all dastool genomes over to prelim_genomes folder in terminal."
   ]
  },
  {
   "cell_type": "markdown",
   "metadata": {},
   "source": [
    "### prelim gtdb-tk run"
   ]
  },
  {
   "cell_type": "code",
   "execution_count": null,
   "metadata": {},
   "outputs": [],
   "source": [
    "cmdir(rootdir + \"genomes/gtdb-tk/\")"
   ]
  },
  {
   "cell_type": "code",
   "execution_count": 757,
   "metadata": {},
   "outputs": [],
   "source": [
    "genomes = glob.glob(rootdir + \"genomes/prelim_genomes/*\")\n",
    "n = math.ceil(len(genomes)/10)\n",
    "\n",
    "for a, i in enumerate(range(0, len(genomes), n)):\n",
    "    with open(rootdir + \"genomes/gtdb-tk/batch%d.txt\" %(a), \"w\") as out:\n",
    "        for genome in genomes[i:i + n]:\n",
    "            out.write(genome + \"\\t\" + os.path.basename(genome).split(\".fa\")[0] + \"\\n\")"
   ]
  },
  {
   "cell_type": "code",
   "execution_count": 759,
   "metadata": {},
   "outputs": [],
   "source": [
    "for batchfile in glob.glob(rootdir + \"genomes/gtdb-tk/batch*.txt\"):\n",
    "    dirname = rootdir + \"genomes/gtdb-tk/%s\" %(os.path.basename(batchfile).replace(\".txt\", \"\"))\n",
    "    call = \"sbatch --wrap '/shared/software/bin/gtdbtk classify_wf --cpus 48 -x .fa --batchfile %s --out_dir %s'\" %(batchfile, dirname)\n",
    "    #print(call)"
   ]
  },
  {
   "cell_type": "code",
   "execution_count": 6,
   "metadata": {},
   "outputs": [],
   "source": [
    "# parse\n",
    "gtresults = pd.concat([pd.read_csv(item, sep=\"\\t\") for item in glob.glob(rootdir + \"genomes/gtdb-tk/batch*/gtdbtk.*.summary.tsv\")])"
   ]
  },
  {
   "cell_type": "markdown",
   "metadata": {},
   "source": [
    "### cpr/dpann completeness"
   ]
  },
  {
   "cell_type": "code",
   "execution_count": 849,
   "metadata": {},
   "outputs": [],
   "source": [
    "cmdir(rootdir + \"genomes/quality\")\n",
    "cmdir(rootdir + \"genomes/quality/scg\")"
   ]
  },
  {
   "cell_type": "code",
   "execution_count": 7,
   "metadata": {},
   "outputs": [
    {
     "data": {
      "text/plain": [
       "p__Patescibacteria      240\n",
       "p__Nanoarchaeota         27\n",
       "p__Micrarchaeota         17\n",
       "p__Aenigmatarchaeota     10\n",
       "p__Iainarchaeota          7\n",
       "Name: phylum, dtype: int64"
      ]
     },
     "execution_count": 7,
     "metadata": {},
     "output_type": "execute_result"
    }
   ],
   "source": [
    "dpann_phyla = [\"p__Nanoarchaeota\", \"p__Huberarchaeota\", \"p__UAP2\", \"p__EX4484-52\", \"p__Nanohaloarchaeota\", \"p__Iainarchaeota\", \"p__Aenigmatarchaeota\", \"p__Micrarchaeota\"]\n",
    "gtresults[\"phylum\"] = gtresults[\"classification\"].apply(lambda x: x.split(\";\")[1])\n",
    "cpr_dpann = gtresults[(gtresults[\"phylum\"].isin(dpann_phyla)) | (gtresults[\"phylum\"]==\"p__Patescibacteria\")]\n",
    "cpr_dpann[\"phylum\"].value_counts()"
   ]
  },
  {
   "cell_type": "code",
   "execution_count": 322,
   "metadata": {},
   "outputs": [],
   "source": [
    "# problem bins - those needing the _sub\n",
    "problem_bins = [\"A0419WC90_metabat_209\", \"A0419WC90_metabat_52\", \"A0419WC90_metabat_130\", \n",
    "                \"A0419WC90_metabat_43\", \"A0818WC45_metabat_401\", \"A0818WC45_metabat_191\", \n",
    "                \"A0920WC90_metabat_16\", \"A0419WC90_metabat_203\", \"A0818WC55_metabat_187\", \"A0818WC55_metabat_70\"]"
   ]
  },
  {
   "cell_type": "code",
   "execution_count": 949,
   "metadata": {},
   "outputs": [],
   "source": [
    "# write out for bulk ggkbase pulldown\n",
    "with open(rootdir + \"genomes/quality/cpr_dpann_prelim_bins.tsv\", \"w\") as out:\n",
    "    for key, row in cpr_dpann.iterrows():\n",
    "        \n",
    "        domain = row[\"classification\"].split(\";\")[0].replace(\"d__\",\"\")\n",
    "        if \"LacPavin\" in row[\"user_genome\"]:\n",
    "            slug = \"_\".join(row[\"user_genome\"].split(\"_\")[0:3])\n",
    "        else:\n",
    "            m = re.search(\"A([0-9]*)([A-Z0-9]*)\", row[\"user_genome\"])\n",
    "            slug = \"LacPavin_%s_%s\" %(m.group(1), m.group(2))\n",
    "        \n",
    "        genome_name = row[\"user_genome\"].replace(\".contigs\",\"\").replace(\".\", \"_\")\n",
    "        if genome_name in problem_bins:\n",
    "            genome_name += \"_sub\"\n",
    "        out.write(genome_name + \"\\t\" + slug + \"\\t\" + domain + \"\\n\")"
   ]
  },
  {
   "cell_type": "code",
   "execution_count": 8,
   "metadata": {},
   "outputs": [],
   "source": [
    "# define bacterial scgs\n",
    "ncomms = pd.read_csv(rootdir + \"genomes/quality/ncomms_supp4.csv\")\n",
    "bac_scgs = [item.lower() for item in ncomms.columns if item not in [\"Organism\", \"Phylum\", \"Genome completion estimate (%)\"]]\n",
    "# define archaeal scgs\n",
    "ncomms_arc = pd.read_csv(rootdir + \"genomes/quality/ncomms_supp5.csv\")\n",
    "arc_scgs = [item.lower() for item in ncomms_arc.columns if item not in [\"Organism\", \"Phylum\", \"Genome completion estimate (%)\", 'Unnamed: 41']]\n",
    "scgs = {\"archaea\": arc_scgs, \"bacteria\": bac_scgs}"
   ]
  },
  {
   "cell_type": "code",
   "execution_count": 9,
   "metadata": {},
   "outputs": [],
   "source": [
    "# generate scaf2bin + bin2domain\n",
    "prelim_scaf2bin = {}\n",
    "\n",
    "for bin in glob.glob(rootdir + \"genomes/prelim_genomes/*\"):\n",
    "    for record in SeqIO.parse(open(bin), \"fasta\"):\n",
    "        prelim_scaf2bin[record.description.split(\" \")[0]] = os.path.basename(bin).split(\".fa\")[0]\n",
    "\n",
    "bin2domain = {row[\"user_genome\"]: row[\"classification\"].split(\";\")[0]\n",
    "                 for key, row in cpr_dpann.iterrows()}"
   ]
  },
  {
   "cell_type": "code",
   "execution_count": 10,
   "metadata": {},
   "outputs": [
    {
     "data": {
      "text/plain": [
       "301"
      ]
     },
     "execution_count": 10,
     "metadata": {},
     "output_type": "execute_result"
    }
   ],
   "source": [
    "len(cpr_dpann)"
   ]
  },
  {
   "cell_type": "code",
   "execution_count": 11,
   "metadata": {},
   "outputs": [],
   "source": [
    "gquality = defaultdict(list)\n",
    "\n",
    "for scg_table in glob.glob(rootdir + \"genomes/quality/scg/*\"):\n",
    "    \n",
    "    scg_dict = {}\n",
    "    table = pd.read_csv(scg_table, sep=\"\\t\")\n",
    "\n",
    "    for key, row in table.groupby(table.columns[0], as_index=False).count().iterrows():\n",
    "        scg_dict[row[table.columns[0]].lower()] = row[\"features\"]\n",
    "    \n",
    "    domain = bin2domain[prelim_scaf2bin[table[\"contig\"][0]]].replace(\"d__\", \"\").lower()\n",
    "    \n",
    "    #compute completeness/redundancy\n",
    "    markers_present, markers_redundant = 0,0\n",
    "    \n",
    "    for marker in scgs[domain]:\n",
    "        if marker in scg_dict.keys():\n",
    "            markers_present +=1\n",
    "            if scg_dict[marker] > 1:\n",
    "                markers_redundant +=1\n",
    "    \n",
    "    bin_name = glob.glob(rootdir + \"genomes/prelim_genomes/\" + \\\n",
    "        prelim_scaf2bin[table[\"contig\"][0]] + \".*\")[0]\n",
    "    gquality[\"genome\"].append(os.path.basename(bin_name))\n",
    "    gquality[\"completeness\"].append(markers_present/len(scgs[domain])*100)\n",
    "    gquality[\"contamination\"].append(markers_redundant/len(scgs[domain])*100)\n",
    "       \n",
    "gquality_df = pd.DataFrame(gquality)"
   ]
  },
  {
   "cell_type": "code",
   "execution_count": 12,
   "metadata": {},
   "outputs": [
    {
     "data": {
      "text/plain": [
       "301"
      ]
     },
     "execution_count": 12,
     "metadata": {},
     "output_type": "execute_result"
    }
   ],
   "source": [
    "len(gquality_df[\"genome\"].unique())"
   ]
  },
  {
   "cell_type": "markdown",
   "metadata": {},
   "source": [
    "### checkm everything else"
   ]
  },
  {
   "cell_type": "code",
   "execution_count": null,
   "metadata": {},
   "outputs": [],
   "source": [
    "cmdir(rootdir + \"genomes/quality/genomes_other\")"
   ]
  },
  {
   "cell_type": "code",
   "execution_count": null,
   "metadata": {},
   "outputs": [],
   "source": [
    "for genome in gtresults[~gtresults[\"user_genome\"].isin(cpr_dpann[\"user_genome\"].to_list())][\"user_genome\"].unique():\n",
    "    genome_path = glob.glob(rootdir + \"genomes/prelim_genomes/\" + genome + \".*fa\")\n",
    "    sp.call(\"cp %s %s\" %(genome_path[0], rootdir + \"genomes/quality/genomes_other/\"), shell=True)"
   ]
  },
  {
   "cell_type": "code",
   "execution_count": 346,
   "metadata": {},
   "outputs": [
    {
     "name": "stdout",
     "output_type": "stream",
     "text": [
      "checkm qa -t 16 -o 1 -f output_table.txt --tab_table lineage.ms .\n"
     ]
    }
   ],
   "source": [
    "call = \"sbatch -J checkm --wrap '/shared/software/bin/checkm lineage_wf -t 48 -x .fa \" + \\\n",
    "    rootdir + \"/genomes/quality/genomes_other/ \" + rootdir + \"genomes/quality/genomes_other_checkm/'\"\n",
    "call2 = \"checkm qa -t 16 -o 1 -f output_table.txt --tab_table lineage.ms .\"\n",
    "print(call2)"
   ]
  },
  {
   "cell_type": "code",
   "execution_count": 347,
   "metadata": {},
   "outputs": [
    {
     "name": "stdout",
     "output_type": "stream",
     "text": [
      "/shared/software/bin/checkm lineage_wf -t 10 -x .fa /groups/banfield/projects/environmental/LacPavin/analysis//genomes/raw_redos/ /groups/banfield/projects/environmental/LacPavin/analysis/genomes/quality/redo_genomes_other_checkm/\n"
     ]
    }
   ],
   "source": [
    "### redos for Alti\n",
    "call = \"/shared/software/bin/checkm lineage_wf -t 10 -x .fa \" + \\\n",
    "    rootdir + \"/genomes/raw_redos/ \" + rootdir + \"genomes/quality/redo_genomes_other_checkm/\"\n",
    "print(call)"
   ]
  },
  {
   "cell_type": "code",
   "execution_count": 13,
   "metadata": {},
   "outputs": [
    {
     "data": {
      "text/html": [
       "<div>\n",
       "<style scoped>\n",
       "    .dataframe tbody tr th:only-of-type {\n",
       "        vertical-align: middle;\n",
       "    }\n",
       "\n",
       "    .dataframe tbody tr th {\n",
       "        vertical-align: top;\n",
       "    }\n",
       "\n",
       "    .dataframe thead th {\n",
       "        text-align: right;\n",
       "    }\n",
       "</style>\n",
       "<table border=\"1\" class=\"dataframe\">\n",
       "  <thead>\n",
       "    <tr style=\"text-align: right;\">\n",
       "      <th></th>\n",
       "      <th>genome</th>\n",
       "      <th>completeness</th>\n",
       "      <th>contamination</th>\n",
       "    </tr>\n",
       "  </thead>\n",
       "  <tbody>\n",
       "    <tr>\n",
       "      <th>0</th>\n",
       "      <td>A0419WC90.metabat.56.fa.contigs.fa</td>\n",
       "      <td>50.23</td>\n",
       "      <td>0.93</td>\n",
       "    </tr>\n",
       "    <tr>\n",
       "      <th>1</th>\n",
       "      <td>A0920SED1.metabat.133.fa.contigs.fa</td>\n",
       "      <td>61.51</td>\n",
       "      <td>0.93</td>\n",
       "    </tr>\n",
       "    <tr>\n",
       "      <th>2</th>\n",
       "      <td>A0920SED5.metabat.204.fa.contigs.fa</td>\n",
       "      <td>65.76</td>\n",
       "      <td>1.49</td>\n",
       "    </tr>\n",
       "    <tr>\n",
       "      <th>3</th>\n",
       "      <td>A0920SED5.metabat.386.fa.contigs.fa</td>\n",
       "      <td>77.96</td>\n",
       "      <td>0.00</td>\n",
       "    </tr>\n",
       "    <tr>\n",
       "      <th>0</th>\n",
       "      <td>A0419WC53.metabat.10.fa.contigs.fa</td>\n",
       "      <td>96.29</td>\n",
       "      <td>1.58</td>\n",
       "    </tr>\n",
       "  </tbody>\n",
       "</table>\n",
       "</div>"
      ],
      "text/plain": [
       "                                genome  completeness  contamination\n",
       "0   A0419WC90.metabat.56.fa.contigs.fa         50.23           0.93\n",
       "1  A0920SED1.metabat.133.fa.contigs.fa         61.51           0.93\n",
       "2  A0920SED5.metabat.204.fa.contigs.fa         65.76           1.49\n",
       "3  A0920SED5.metabat.386.fa.contigs.fa         77.96           0.00\n",
       "0   A0419WC53.metabat.10.fa.contigs.fa         96.29           1.58"
      ]
     },
     "execution_count": 13,
     "metadata": {},
     "output_type": "execute_result"
    }
   ],
   "source": [
    "# read in and incorporate\n",
    "otherdf = pd.concat([pd.read_csv(item, sep=\"\\t\") for item in glob.glob(rootdir + \"genomes/quality/*genomes_other_checkm/output_table.txt\")])\n",
    "otherdf[\"genome\"] = otherdf[\"Bin Id\"].apply(lambda x: x + \".fa\")\n",
    "otherdf_sub = otherdf[[\"genome\", \"Completeness\", \"Contamination\"]]\n",
    "otherdf_sub.columns = [\"genome\", \"completeness\", \"contamination\"]\n",
    "otherdf_sub.head()"
   ]
  },
  {
   "cell_type": "code",
   "execution_count": 14,
   "metadata": {},
   "outputs": [],
   "source": [
    "#combine cpr/dpann +others\n",
    "combined = pd.concat([gquality_df, otherdf_sub])"
   ]
  },
  {
   "cell_type": "code",
   "execution_count": 15,
   "metadata": {},
   "outputs": [
    {
     "data": {
      "text/plain": [
       "2035"
      ]
     },
     "execution_count": 15,
     "metadata": {},
     "output_type": "execute_result"
    }
   ],
   "source": [
    "len(combined)"
   ]
  },
  {
   "cell_type": "markdown",
   "metadata": {},
   "source": [
    "### alti redos"
   ]
  },
  {
   "cell_type": "code",
   "execution_count": 16,
   "metadata": {},
   "outputs": [
    {
     "data": {
      "text/html": [
       "<div>\n",
       "<style scoped>\n",
       "    .dataframe tbody tr th:only-of-type {\n",
       "        vertical-align: middle;\n",
       "    }\n",
       "\n",
       "    .dataframe tbody tr th {\n",
       "        vertical-align: top;\n",
       "    }\n",
       "\n",
       "    .dataframe thead th {\n",
       "        text-align: right;\n",
       "    }\n",
       "</style>\n",
       "<table border=\"1\" class=\"dataframe\">\n",
       "  <thead>\n",
       "    <tr style=\"text-align: right;\">\n",
       "      <th></th>\n",
       "      <th>user_genome</th>\n",
       "      <th>classification</th>\n",
       "    </tr>\n",
       "  </thead>\n",
       "  <tbody>\n",
       "    <tr>\n",
       "      <th>6</th>\n",
       "      <td>A0920SED5.metabat.204</td>\n",
       "      <td>d__Archaea;p__Altarchaeota;c__;o__;f__;g__;s__</td>\n",
       "    </tr>\n",
       "    <tr>\n",
       "      <th>7</th>\n",
       "      <td>A0920SED1.metabat.133</td>\n",
       "      <td>d__Archaea;p__Altarchaeota;c__;o__;f__;g__;s__</td>\n",
       "    </tr>\n",
       "    <tr>\n",
       "      <th>5</th>\n",
       "      <td>A0419WC90.metabat.56</td>\n",
       "      <td>d__Archaea;p__Altarchaeota;c__Altarchaeia;o__I...</td>\n",
       "    </tr>\n",
       "    <tr>\n",
       "      <th>5</th>\n",
       "      <td>A0920SED5.metabat.386</td>\n",
       "      <td>d__Archaea;p__Altarchaeota;c__Altarchaeia;o__I...</td>\n",
       "    </tr>\n",
       "  </tbody>\n",
       "</table>\n",
       "</div>"
      ],
      "text/plain": [
       "             user_genome                                     classification\n",
       "6  A0920SED5.metabat.204     d__Archaea;p__Altarchaeota;c__;o__;f__;g__;s__\n",
       "7  A0920SED1.metabat.133     d__Archaea;p__Altarchaeota;c__;o__;f__;g__;s__\n",
       "5   A0419WC90.metabat.56  d__Archaea;p__Altarchaeota;c__Altarchaeia;o__I...\n",
       "5  A0920SED5.metabat.386  d__Archaea;p__Altarchaeota;c__Altarchaeia;o__I..."
      ]
     },
     "execution_count": 16,
     "metadata": {},
     "output_type": "execute_result"
    }
   ],
   "source": [
    "gtresults[gtresults[\"classification\"].str.contains(\"Alt\")][[\"user_genome\", \"classification\"]]"
   ]
  },
  {
   "cell_type": "code",
   "execution_count": 17,
   "metadata": {},
   "outputs": [
    {
     "data": {
      "text/html": [
       "<div>\n",
       "<style scoped>\n",
       "    .dataframe tbody tr th:only-of-type {\n",
       "        vertical-align: middle;\n",
       "    }\n",
       "\n",
       "    .dataframe tbody tr th {\n",
       "        vertical-align: top;\n",
       "    }\n",
       "\n",
       "    .dataframe thead th {\n",
       "        text-align: right;\n",
       "    }\n",
       "</style>\n",
       "<table border=\"1\" class=\"dataframe\">\n",
       "  <thead>\n",
       "    <tr style=\"text-align: right;\">\n",
       "      <th></th>\n",
       "      <th>genome</th>\n",
       "      <th>completeness</th>\n",
       "      <th>contamination</th>\n",
       "    </tr>\n",
       "  </thead>\n",
       "  <tbody>\n",
       "    <tr>\n",
       "      <th>3</th>\n",
       "      <td>A0920SED5.metabat.386.fa.contigs.fa</td>\n",
       "      <td>77.96</td>\n",
       "      <td>0.0</td>\n",
       "    </tr>\n",
       "  </tbody>\n",
       "</table>\n",
       "</div>"
      ],
      "text/plain": [
       "                                genome  completeness  contamination\n",
       "3  A0920SED5.metabat.386.fa.contigs.fa         77.96            0.0"
      ]
     },
     "execution_count": 17,
     "metadata": {},
     "output_type": "execute_result"
    }
   ],
   "source": [
    "combined[combined[\"genome\"].str.contains(\"A0920SED5.metabat.386\")]"
   ]
  },
  {
   "cell_type": "markdown",
   "metadata": {},
   "source": [
    "Re-computed Alti quality shows only one gets through based on completeness (386). This one formed own cluster in dRep, so just replace original Alti (204) with this one, recurate, and keep moving."
   ]
  },
  {
   "cell_type": "markdown",
   "metadata": {},
   "source": [
    "### preliminary dRep"
   ]
  },
  {
   "cell_type": "markdown",
   "metadata": {},
   "source": [
    "Do this to cut down on # of genomes to curate manually, in the absence of better options. The hope is that manual curation will 'save' some bins that might have been tossed in a more stringent dRep."
   ]
  },
  {
   "cell_type": "code",
   "execution_count": 363,
   "metadata": {},
   "outputs": [],
   "source": [
    "cmdir(rootdir + \"genomes/drep_prelim/\")\n",
    "combined.to_csv(rootdir + \"genomes/drep_prelim/genomeInformation.csv\", sep=\",\", index=False)"
   ]
  },
  {
   "cell_type": "code",
   "execution_count": 364,
   "metadata": {},
   "outputs": [
    {
     "name": "stdout",
     "output_type": "stream",
     "text": [
      "sbatch -J drep --wrap '/shared/software/bin/dRep dereplicate /groups/banfield/projects/environmental/LacPavin/analysis//genomes/drep_prelim/ -sa 0.95 -p 48 -comp 70 -con 100 -d -g /groups/banfield/projects/environmental/LacPavin/analysis//genomes/prelim_genomes/*fa --genomeInfo /groups/banfield/projects/environmental/LacPavin/analysis/genomes/drep_prelim/genomeInformation.csv'\n"
     ]
    }
   ],
   "source": [
    "call = \"sbatch -J drep --wrap '/shared/software/bin/dRep dereplicate \" + rootdir + \"/genomes/drep_prelim/\" + \\\n",
    "    \" -sa 0.95 -p 48 -comp 70 -con 100 -d -g \" + rootdir + \"/genomes/prelim_genomes/*fa --genomeInfo \" + \\\n",
    "    rootdir + \"genomes/drep_prelim/genomeInformation.csv'\"\n",
    "print(call)"
   ]
  },
  {
   "cell_type": "code",
   "execution_count": 18,
   "metadata": {},
   "outputs": [
    {
     "name": "stdout",
     "output_type": "stream",
     "text": [
      "prelim dRep cut down 2035 bins to 788.\n"
     ]
    }
   ],
   "source": [
    "print(\"prelim dRep cut down %d bins to %d.\" %(len(glob.glob(rootdir+\"genomes/prelim_genomes/*\")), len(glob.glob(rootdir+\"genomes/drep_prelim/dereplicated_genomes/*\"))))"
   ]
  },
  {
   "cell_type": "markdown",
   "metadata": {},
   "source": [
    "# genome curation"
   ]
  },
  {
   "cell_type": "markdown",
   "metadata": {},
   "source": [
    "### anvio"
   ]
  },
  {
   "cell_type": "code",
   "execution_count": 183,
   "metadata": {},
   "outputs": [],
   "source": [
    "adir = rootdir + \"anvio/\"\n",
    "cmdir(adir)\n",
    "cmdir(adir + \"/assembly.d/\")\n",
    "cmdir(adir + \"/contig.db/\")\n",
    "cmdir(adir + \"profiles\")\n",
    "cmdir(adir + \"binning\")\n",
    "cmdir(adir + \"binning/scaf2bin\")"
   ]
  },
  {
   "cell_type": "code",
   "execution_count": 527,
   "metadata": {},
   "outputs": [],
   "source": [
    "# clean assembly deflines\n",
    "for biome in assemblies.keys():\n",
    "    for assembly in assemblies[biome]:\n",
    "        call = \"cat \" + assembly + \" | sed -r 's/(>\\S+).+/\\\\1/' > \" + \\\n",
    "            rootdir + \"anvio/assembly.d/\" + encode(assembly) + \".fa\"\n",
    "        sp.call(call, shell=True)"
   ]
  },
  {
   "cell_type": "code",
   "execution_count": 531,
   "metadata": {},
   "outputs": [],
   "source": [
    "# create gene calls table\n",
    "for biome in assemblies.keys():\n",
    "    \n",
    "    for assembly in assemblies[biome]:\n",
    "    \n",
    "        orfinfo = defaultdict(list)\n",
    "        count = 1\n",
    "\n",
    "        for record in SeqIO.parse(open(assembly.replace(\".fa\", \".fa.genes.faa\")), \"fasta\"):\n",
    "\n",
    "            split = record.description.split(\" # \")\n",
    "            info = split[-1].split(\";\")\n",
    "\n",
    "            orfinfo[\"gene_callers_id\"].append(count)\n",
    "            orfinfo[\"contig\"].append(scaffold(split[0]))\n",
    "            orfinfo[\"start\"].append(int(split[1])-1)\n",
    "            orfinfo[\"stop\"].append(int(split[2])-1)\n",
    "            orfinfo[\"direction\"].append(\"f\" if split[3]==\"1\" else \"r\")\n",
    "            orfinfo[\"partial\"].append(1 if \"1\" in info[1] else 0)\n",
    "            orfinfo[\"source\"].append(\"prodigal\")\n",
    "            orfinfo[\"version\"].append(\"v2.6.3\")\n",
    "            orfinfo[\"aa_sequence\"].append(str(record.seq))\n",
    "            count+=1\n",
    "\n",
    "        orfdf = pd.DataFrame(orfinfo)\n",
    "        orfdf.to_csv(rootdir + \"anvio/assembly.d/\" + encode(assembly) + \".genes.tsv\", sep=\"\\t\", index=False)"
   ]
  },
  {
   "cell_type": "code",
   "execution_count": 532,
   "metadata": {},
   "outputs": [],
   "source": [
    "# generate contig db\n",
    "with open(adir + \"contig.db/createCDB.sh\", \"w\") as outfile:\n",
    "    \n",
    "    for sample in glob.glob(adir + \"assembly.d/*fa\"):\n",
    "\n",
    "        name = os.path.basename(sample).replace(\".fa\", \"\")\n",
    "        call = \"anvi-gen-contigs-database -f \" + sample + \" -o \" + adir + \"contig.db/\" + \\\n",
    "            name + \".contig.db -n \" + name + \" -L -999 --external-gene-calls \" + sample.replace(\"fa\", \"genes.tsv\")\n",
    "        outfile.write(call + \"\\n\")"
   ]
  },
  {
   "cell_type": "code",
   "execution_count": 365,
   "metadata": {},
   "outputs": [],
   "source": [
    "# run hmms\n",
    "with open(adir + \"contig.db/runHMMs.sh\", \"w\") as outfile:\n",
    "    for db in glob.glob(adir + \"contig.db/*contig.db\"):\n",
    "        call = \"anvi-run-hmms --num-threads 16 -c \" + db\n",
    "        outfile.write(call + \"\\n\") "
   ]
  },
  {
   "cell_type": "code",
   "execution_count": 370,
   "metadata": {},
   "outputs": [],
   "source": [
    "# construct profiles\n",
    "with open(adir + \"profiles/createProfiles.sh\", \"w\") as outfile:\n",
    "    \n",
    "    for db in glob.glob(adir + \"contig.db/*contig.db\"):\n",
    "        \n",
    "        if \"SED1\" not in db:\n",
    "            name = os.path.basename(db).replace(\".contig.db\", \"\")\n",
    "\n",
    "            for mapping in glob.glob(rootdir + \"/binning/mapping/\" + name + \"*sorted.bam\"):\n",
    "\n",
    "                comboname = os.path.basename(mapping).replace(\".sorted.bam\",\"\")\n",
    "                call = \"anvi-profile --min-contig-length 1000 --num-threads 16 -i \" + \\\n",
    "                    mapping + \" -c \" + db + \" -o \" + adir + \"profiles/\" + comboname + \" -S \" + comboname + \"\"\n",
    "                outfile.write(call + \"\\n\")"
   ]
  },
  {
   "cell_type": "markdown",
   "metadata": {},
   "source": [
    "Run note: some python error hit with --skip-SNV-profiling option, so removed for now."
   ]
  },
  {
   "cell_type": "code",
   "execution_count": 378,
   "metadata": {},
   "outputs": [],
   "source": [
    "# merge profiles\n",
    "cmdir(adir + \"/profiles/merged/\")\n",
    "\n",
    "with open(adir + \"profiles/merged/merge.sh\", \"w\") as outfile:\n",
    "    for db in glob.glob(adir + \"contig.db/*contig.db\"):\n",
    "        name = os.path.basename(db).replace(\".contig.db\", \"\")\n",
    "        call = \"anvi-merge --skip-hierarchical-clustering \" + adir + \"profiles/\" + name + \"*/PROFILE.db\" + \\\n",
    "            \" -o \" + adir + \"profiles/merged/\" + name + \"-MERGED -c \" + db + \" -S \" + name\n",
    "        outfile.write(call + \"\\n\")"
   ]
  },
  {
   "cell_type": "code",
   "execution_count": 606,
   "metadata": {},
   "outputs": [],
   "source": [
    "# generate scaf2bin for drep genomes\n",
    "dscaf2bin = {}\n",
    "\n",
    "for bin in glob.glob(rootdir + \"genomes/prelim_genomes/*\"):\n",
    "    for record in SeqIO.parse(open(bin), \"fasta\"):\n",
    "        dscaf2bin[record.description.split(\" \")[0]] = os.path.basename(bin)\n",
    "\n",
    "# read into df     \n",
    "ddf = pd.DataFrame.from_dict(dscaf2bin, orient=\"index\").reset_index()\n",
    "ddf.columns = [\"scaffold\", \"bin\"]"
   ]
  },
  {
   "cell_type": "code",
   "execution_count": 607,
   "metadata": {},
   "outputs": [],
   "source": [
    "# write out sample specific scaf2bins\n",
    "ddf[\"sample\"] = ddf[\"bin\"].apply(lambda x: (\"A\" + \\\n",
    "    \"\".join(x.split(\"_\")[1:3]) if \"Lac\" in x else x.split(\".\")[0]))\n",
    "\n",
    "for sample in ddf[\"sample\"].unique():\n",
    "    with open(adir + \"binning/scaf2bin/\" + sample + \".scaf2bin.txt\", \"w\") as outfile:\n",
    "        for key, row in ddf[ddf[\"sample\"]==sample].iterrows():\n",
    "            outfile.write(row[\"scaffold\"] + \"\\t\" + row[\"bin\"].replace(\".\", \"_\") + \"\\n\")"
   ]
  },
  {
   "cell_type": "code",
   "execution_count": 609,
   "metadata": {},
   "outputs": [],
   "source": [
    "# import collection\n",
    "with open(adir + \"binning/importcollections.sh\", \"w\") as out:\n",
    "    for db in glob.glob(adir + \"contig.db/*contig.db\"):\n",
    "        name = os.path.basename(db).replace(\".contig.db\", \"\")\n",
    "        scaf2bin = glob.glob(adir + \"binning/scaf2bin/*\" + name + \"*\")[0]\n",
    "        call = \"anvi-import-collection --contigs-mode \" + scaf2bin + \" -p \" + adir + \"/profiles/merged/\" + \\\n",
    "            name + \"-MERGED/PROFILE.db -c \" + db + \" -C 'PRELIM'\"\n",
    "        out.write(call + \"\\n\")"
   ]
  },
  {
   "cell_type": "code",
   "execution_count": 184,
   "metadata": {},
   "outputs": [
    {
     "name": "stdout",
     "output_type": "stream",
     "text": [
      "anvi-split -p /groups/banfield/projects/environmental/LacPavin/analysis/anvio/profiles/merged/A0818WC50-MERGED/PROFILE.db -c /groups/banfield/projects/environmental/LacPavin/analysis/anvio/contig.db/A0818WC50.contig.db -C PRELIM -o /groups/banfield/projects/environmental/LacPavin/analysis/anvio/profiles/split/A0818WC50\n"
     ]
    }
   ],
   "source": [
    "## finally, split merged profiles to be bin specific\n",
    "## this speeds up the refine load by 10x\n",
    "for db in glob.glob(adir + \"contig.db/*contig.db\"):\n",
    "    name = os.path.basename(db).replace(\".contig.db\", \"\")\n",
    "    # specify sample here\n",
    "    if name in [\"A0818WC50\"]:\n",
    "        call = \"anvi-split -p %s -c %s -C PRELIM -o %s\" \\\n",
    "            %(rootdir + \"anvio/profiles/merged/\" + name + \"-MERGED/PROFILE.db\", \n",
    "              rootdir + \"anvio/contig.db/\" + name + \".contig.db\", rootdir + \"anvio/profiles/split/\" + name)\n",
    "        print(call)"
   ]
  },
  {
   "cell_type": "code",
   "execution_count": 982,
   "metadata": {},
   "outputs": [],
   "source": [
    "# base refine command\n",
    "# log in to biotite with ssh -L 8080:localhost:8080 ajaffe@biotite.berkeley.edu\n",
    "with open(rootdir + \"anvio/refine/refine_calls.txt\", \"w\") as out:\n",
    "    for genome in sorted(glob.glob(rootdir + \"genomes/drep_prelim/dereplicated_genomes/*\")):\n",
    "        if \"LacPavin\" in os.path.basename(genome):\n",
    "            slug = \"A%s%s\" %tuple(os.path.basename(genome).split(\"_\")[1:3])\n",
    "        else: slug = os.path.basename(genome).split(\".\")[0]\n",
    "        call = \"anvi-refine -p /groups/banfield/projects/environmental/LacPavin/analysis/anvio/profiles/split/%s/%s/PROFILE.db -c /groups/banfield/projects/environmental/LacPavin/analysis/anvio/profiles/split/%s/%s/CONTIGS.db -C DEFAULT --server-only -P 8080\" %(slug, os.path.basename(genome).replace(\".\",\"_\"), slug, os.path.basename(genome).replace(\".\",\"_\"))\n",
    "        out.write(call + \"\\n\")"
   ]
  },
  {
   "cell_type": "code",
   "execution_count": 6,
   "metadata": {},
   "outputs": [],
   "source": [
    "# old export\n",
    "# export collections\n",
    "with open(rootdir + \"anvio/refine/export.sh\", \"w\") as out:\n",
    "    for prefix in [\"A0419WC53\", \"A0419WC70L\", \"A0419WC70S\", \"A0419WC90\"]:\n",
    "        call = \"anvi-export-collection -p \" + rootdir + \"anvio/profiles/merged/\" + prefix + \\\n",
    "            \"-MERGED/PROFILE.db -C PRELIM -O \" + rootdir + \"anvio/refine/\" + prefix + \".anvio.scaf2bin\"\n",
    "        out.write(call + \"\\n\")"
   ]
  },
  {
   "cell_type": "code",
   "execution_count": 7,
   "metadata": {},
   "outputs": [],
   "source": [
    "# new method export\n",
    "with open(rootdir + \"anvio/refine/export_bybin.sh\", \"w\") as out:\n",
    "    for bindir in glob.glob(rootdir + \"anvio/profiles/split/*/*\"):\n",
    "        call = \"anvi-export-collection -p \" + bindir + \"/PROFILE.db -C DEFAULT -O \" + bindir + \"/\" + bindir.split(\"/\")[-1]\n",
    "        out.write(call + \"\\n\")"
   ]
  },
  {
   "cell_type": "markdown",
   "metadata": {},
   "source": [
    "### write out refined bins"
   ]
  },
  {
   "cell_type": "code",
   "execution_count": 655,
   "metadata": {},
   "outputs": [],
   "source": [
    "cmdir(rootdir + \"genomes/refined_genomes\")"
   ]
  },
  {
   "cell_type": "code",
   "execution_count": 19,
   "metadata": {},
   "outputs": [],
   "source": [
    "# by bin\n",
    "scafdict = defaultdict(list)\n",
    "bindict = defaultdict(list)\n",
    "\n",
    "for sample in glob.glob(rootdir + \"anvio/profiles/split/*/*/\"):\n",
    "    \n",
    "    info = glob.glob(sample + \"*fa-info.txt\")[0]\n",
    "    scafs = glob.glob(sample + \"*fa.txt\")[0]\n",
    "    name = os.path.basename(scafs).split(\".txt\")[0]\n",
    "    \n",
    "    bindict[\"original_file\"].append(name)\n",
    "    bindict[\"refined\"].append(\"anvi-refine\")\n",
    "    bindict[\"color\"].append(\"#000000\")\n",
    "    \n",
    "    for key, row in pd.read_csv(scafs, sep=\"\\t\", header=None).iterrows():\n",
    "        scafdict[\"original_file\"].append(name)\n",
    "        scafdict[\"scaffold\"].append(row[0].split(\"_split\")[0])\n",
    "\n",
    "scafdf = pd.DataFrame(scafdict)\n",
    "bindf = pd.DataFrame(bindict)"
   ]
  },
  {
   "cell_type": "code",
   "execution_count": 20,
   "metadata": {},
   "outputs": [],
   "source": [
    "# by sample\n",
    "refine_bins = pd.concat([pd.read_csv(item, sep=\"\\t\", header=None) for item in glob.glob(rootdir + \"anvio/refine/*info.txt\")])\n",
    "refine_bins.columns = [\"file\", \"refined\", \"color\"]\n",
    "# add back in original name\n",
    "refine_bins[\"original_file\"] = refine_bins.apply(lambda x: \"_\".join(x[\"file\"].split(\"_\")[:-1]) if x[\"refined\"]!=\"UNKNOWN\" else x[\"file\"], axis=1)\n",
    "# new scaf2bins - by sample\n",
    "refine_scafs = pd.concat([pd.read_csv(item, sep=\"\\t\", header=None) for item in glob.glob(rootdir + \"anvio/refine/*scaf2bin.txt\")])\n",
    "refine_scafs.columns = [\"split\", \"file\"]\n",
    "refine_scafs[\"scaffold\"] = refine_scafs[\"split\"].apply(lambda x: x.split(\"_split\")[0])\n",
    "refine_scafs = refine_scafs.merge(refine_bins[[\"file\", \"original_file\"]], how=\"left\", on=\"file\")\n",
    "# clean up\n",
    "refine_scafs = refine_scafs[[\"scaffold\",\"original_file\"]]\n",
    "refine_bins = refine_bins.drop(\"file\", axis=1)"
   ]
  },
  {
   "cell_type": "code",
   "execution_count": 21,
   "metadata": {},
   "outputs": [
    {
     "data": {
      "text/plain": [
       "False    1247\n",
       "True      788\n",
       "Name: representative, dtype: int64"
      ]
     },
     "execution_count": 21,
     "metadata": {},
     "output_type": "execute_result"
    }
   ],
   "source": [
    "#merge\n",
    "refine_scafs_merged = pd.concat([refine_scafs, scafdf])\n",
    "refine_bins_merged = pd.concat([refine_bins, bindf])\n",
    "# in drep set?\n",
    "refine_bins_merged[\"representative\"] = refine_bins_merged[\"original_file\"].apply(lambda x: x in [os.path.basename(item).replace(\".\", \"_\") \n",
    "    for item in glob.glob(rootdir + \"genomes/drep_prelim/dereplicated_genomes/*\")])\n",
    "refine_bins_merged[\"representative\"].value_counts()"
   ]
  },
  {
   "cell_type": "code",
   "execution_count": 188,
   "metadata": {},
   "outputs": [],
   "source": [
    "# make seq dict\n",
    "seq_dict = {}\n",
    "\n",
    "for bin in glob.glob(rootdir + \"binning/dastool/*/*_DASTool_bins/*\"):\n",
    "    for record in SeqIO.parse(open(bin), \"fasta\"):\n",
    "        seq_dict[record.description.split(\" \")[0]] = str(record.seq)"
   ]
  },
  {
   "cell_type": "code",
   "execution_count": 194,
   "metadata": {},
   "outputs": [],
   "source": [
    "for bin in refine_bins_merged.query(\"representative==True\")[\"original_file\"].unique():\n",
    "    with open(rootdir + \"genomes/refined_genomes/\" + \\\n",
    "        bin.split(\"_fa\")[0] + \".refined.fa\", \"w\") as out:\n",
    "        for scaf in refine_scafs_merged[refine_scafs_merged[\"original_file\"]==bin][\"scaffold\"].unique():\n",
    "            out.write(\">%s\\n%s\\n\" %(scaf, seq_dict[scaf]))\n",
    "\n",
    "seq_dict = []"
   ]
  },
  {
   "cell_type": "markdown",
   "metadata": {},
   "source": [
    "### recompute cpr/dpann quality"
   ]
  },
  {
   "cell_type": "code",
   "execution_count": 22,
   "metadata": {},
   "outputs": [],
   "source": [
    "refined_gquality = defaultdict(list)\n",
    "\n",
    "for scg_table in glob.glob(rootdir + \"genomes/quality/scg/*\"):\n",
    "    \n",
    "    table = pd.read_csv(scg_table, sep=\"\\t\")\n",
    "    bin_name = os.path.basename(glob.glob(rootdir + \"genomes/prelim_genomes/\" + \\\n",
    "        prelim_scaf2bin[table[\"contig\"][0]] + \".*\")[0]).replace(\".\", \"_\")\n",
    "    \n",
    "    # only if processed\n",
    "    if bin_name in refine_bins_merged.query(\"representative==True\")[\"original_file\"].to_list():\n",
    "        \n",
    "        scg_dict = {}\n",
    "        # drop any pruned scaffolds from refine stage\n",
    "        new_scafs = refine_scafs_merged[refine_scafs_merged[\"original_file\"]==bin_name][\"scaffold\"].to_list()\n",
    "        new_table = table[table[\"contig\"].isin(new_scafs)]\n",
    "\n",
    "        for key, row in new_table.groupby(table.columns[0], as_index=False).count().iterrows():\n",
    "            scg_dict[row[new_table.columns[0]].lower()] = row[\"features\"]\n",
    "\n",
    "        domain = bin2domain[prelim_scaf2bin[table[\"contig\"][0]]].replace(\"d__\", \"\").lower()\n",
    "\n",
    "        #compute completeness/redundancy\n",
    "        markers_present, markers_redundant = 0,0\n",
    "\n",
    "        for marker in scgs[domain]:\n",
    "            if marker in scg_dict.keys():\n",
    "                markers_present +=1\n",
    "                if scg_dict[marker] > 1:\n",
    "                    markers_redundant +=1\n",
    "\n",
    "        refined_gquality[\"genome\"].append(os.path.basename(bin_name))\n",
    "        refined_gquality[\"new_completeness\"].append(markers_present/len(scgs[domain])*100)\n",
    "        refined_gquality[\"new_contamination\"].append(markers_redundant/len(scgs[domain])*100)\n",
    "       \n",
    "refined_gquality_df = pd.DataFrame(refined_gquality)"
   ]
  },
  {
   "cell_type": "code",
   "execution_count": 23,
   "metadata": {},
   "outputs": [
    {
     "data": {
      "text/html": [
       "<div>\n",
       "<style scoped>\n",
       "    .dataframe tbody tr th:only-of-type {\n",
       "        vertical-align: middle;\n",
       "    }\n",
       "\n",
       "    .dataframe tbody tr th {\n",
       "        vertical-align: top;\n",
       "    }\n",
       "\n",
       "    .dataframe thead th {\n",
       "        text-align: right;\n",
       "    }\n",
       "</style>\n",
       "<table border=\"1\" class=\"dataframe\">\n",
       "  <thead>\n",
       "    <tr style=\"text-align: right;\">\n",
       "      <th></th>\n",
       "      <th>genome</th>\n",
       "      <th>new_completeness</th>\n",
       "      <th>new_contamination</th>\n",
       "      <th>genome_slug</th>\n",
       "    </tr>\n",
       "  </thead>\n",
       "  <tbody>\n",
       "    <tr>\n",
       "      <th>0</th>\n",
       "      <td>A0419WC90_metabat_229_fa_contigs_fa</td>\n",
       "      <td>93.023256</td>\n",
       "      <td>0.000000</td>\n",
       "      <td>A0419WC90_metabat_229</td>\n",
       "    </tr>\n",
       "    <tr>\n",
       "      <th>1</th>\n",
       "      <td>A0419WC90_metabat_196_fa_contigs_fa</td>\n",
       "      <td>83.720930</td>\n",
       "      <td>4.651163</td>\n",
       "      <td>A0419WC90_metabat_196</td>\n",
       "    </tr>\n",
       "    <tr>\n",
       "      <th>2</th>\n",
       "      <td>A0818WC45_metabat_191_fa_sub_contigs_fa</td>\n",
       "      <td>88.372093</td>\n",
       "      <td>2.325581</td>\n",
       "      <td>A0818WC45_metabat_191</td>\n",
       "    </tr>\n",
       "    <tr>\n",
       "      <th>3</th>\n",
       "      <td>A0920WC90_metabat_176_fa_contigs_fa</td>\n",
       "      <td>100.000000</td>\n",
       "      <td>9.302326</td>\n",
       "      <td>A0920WC90_metabat_176</td>\n",
       "    </tr>\n",
       "    <tr>\n",
       "      <th>4</th>\n",
       "      <td>A0419WC90_metabat_176_fa_contigs_fa</td>\n",
       "      <td>92.105263</td>\n",
       "      <td>7.894737</td>\n",
       "      <td>A0419WC90_metabat_176</td>\n",
       "    </tr>\n",
       "  </tbody>\n",
       "</table>\n",
       "</div>"
      ],
      "text/plain": [
       "                                    genome  new_completeness  \\\n",
       "0      A0419WC90_metabat_229_fa_contigs_fa         93.023256   \n",
       "1      A0419WC90_metabat_196_fa_contigs_fa         83.720930   \n",
       "2  A0818WC45_metabat_191_fa_sub_contigs_fa         88.372093   \n",
       "3      A0920WC90_metabat_176_fa_contigs_fa        100.000000   \n",
       "4      A0419WC90_metabat_176_fa_contigs_fa         92.105263   \n",
       "\n",
       "   new_contamination            genome_slug  \n",
       "0           0.000000  A0419WC90_metabat_229  \n",
       "1           4.651163  A0419WC90_metabat_196  \n",
       "2           2.325581  A0818WC45_metabat_191  \n",
       "3           9.302326  A0920WC90_metabat_176  \n",
       "4           7.894737  A0419WC90_metabat_176  "
      ]
     },
     "execution_count": 23,
     "metadata": {},
     "output_type": "execute_result"
    }
   ],
   "source": [
    "refined_gquality_df[\"genome_slug\"] = refined_gquality_df[\"genome\"].apply(lambda x: x.replace(\"_sub\", \"\").split(\"_fa\")[0] if x.startswith(\"A\") else x.replace(\"_sub\", \"\").split(\"_contigs\")[0])\n",
    "refined_gquality_df.head()"
   ]
  },
  {
   "cell_type": "markdown",
   "metadata": {},
   "source": [
    "### recompute other quality"
   ]
  },
  {
   "cell_type": "code",
   "execution_count": 88,
   "metadata": {},
   "outputs": [],
   "source": [
    "cmdir(rootdir + \"genomes/quality/refined_genomes_checkm\")"
   ]
  },
  {
   "cell_type": "code",
   "execution_count": 92,
   "metadata": {},
   "outputs": [
    {
     "name": "stdout",
     "output_type": "stream",
     "text": [
      "checkm qa -t 16 -o 1 -f output_table.txt --tab_table lineage.ms .\n"
     ]
    }
   ],
   "source": [
    "call = \"sbatch -J checkm --wrap '/shared/software/bin/checkm lineage_wf -t 18 -x .fa \" + \\\n",
    "    rootdir + \"/genomes/refined_genomes/ \" + rootdir + \"genomes/quality/refined_genomes_checkm/'\"\n",
    "call2 = \"checkm qa -t 16 -o 1 -f output_table.txt --tab_table lineage.ms .\"\n",
    "print(call2)"
   ]
  },
  {
   "cell_type": "code",
   "execution_count": 25,
   "metadata": {},
   "outputs": [
    {
     "name": "stdout",
     "output_type": "stream",
     "text": [
      "/shared/software/bin/checkm lineage_wf -t 18 -x .fa /groups/banfield/projects/environmental/LacPavin/analysis//genomes/refined_redos/ /groups/banfield/projects/environmental/LacPavin/analysis/genomes/quality/redo_genomes_checkm/\n"
     ]
    }
   ],
   "source": [
    "### redos - last one 240 is just removed, not redone\n",
    "redos = [\"A0818WC50_metabat_347.refined\", \"A0920SED5_metabat_386.refined\", \"A0920SED5_metabat_204.refined\"]\n",
    "call = \"/shared/software/bin/checkm lineage_wf -t 18 -x .fa \" + \\\n",
    "    rootdir + \"/genomes/refined_redos/ \" + rootdir + \"genomes/quality/redo_genomes_checkm/\"\n",
    "print(call)"
   ]
  },
  {
   "cell_type": "code",
   "execution_count": 26,
   "metadata": {},
   "outputs": [
    {
     "data": {
      "text/html": [
       "<div>\n",
       "<style scoped>\n",
       "    .dataframe tbody tr th:only-of-type {\n",
       "        vertical-align: middle;\n",
       "    }\n",
       "\n",
       "    .dataframe tbody tr th {\n",
       "        vertical-align: top;\n",
       "    }\n",
       "\n",
       "    .dataframe thead th {\n",
       "        text-align: right;\n",
       "    }\n",
       "</style>\n",
       "<table border=\"1\" class=\"dataframe\">\n",
       "  <thead>\n",
       "    <tr style=\"text-align: right;\">\n",
       "      <th></th>\n",
       "      <th>genome</th>\n",
       "      <th>new_completeness</th>\n",
       "      <th>new_contamination</th>\n",
       "      <th>genome_slug</th>\n",
       "    </tr>\n",
       "  </thead>\n",
       "  <tbody>\n",
       "    <tr>\n",
       "      <th>0</th>\n",
       "      <td>A0419WC90_metabat_229_fa_contigs_fa</td>\n",
       "      <td>93.023256</td>\n",
       "      <td>0.000000</td>\n",
       "      <td>A0419WC90_metabat_229</td>\n",
       "    </tr>\n",
       "    <tr>\n",
       "      <th>1</th>\n",
       "      <td>A0419WC90_metabat_196_fa_contigs_fa</td>\n",
       "      <td>83.720930</td>\n",
       "      <td>4.651163</td>\n",
       "      <td>A0419WC90_metabat_196</td>\n",
       "    </tr>\n",
       "    <tr>\n",
       "      <th>2</th>\n",
       "      <td>A0818WC45_metabat_191_fa_sub_contigs_fa</td>\n",
       "      <td>88.372093</td>\n",
       "      <td>2.325581</td>\n",
       "      <td>A0818WC45_metabat_191</td>\n",
       "    </tr>\n",
       "    <tr>\n",
       "      <th>3</th>\n",
       "      <td>A0920WC90_metabat_176_fa_contigs_fa</td>\n",
       "      <td>100.000000</td>\n",
       "      <td>9.302326</td>\n",
       "      <td>A0920WC90_metabat_176</td>\n",
       "    </tr>\n",
       "    <tr>\n",
       "      <th>4</th>\n",
       "      <td>A0419WC90_metabat_176_fa_contigs_fa</td>\n",
       "      <td>92.105263</td>\n",
       "      <td>7.894737</td>\n",
       "      <td>A0419WC90_metabat_176</td>\n",
       "    </tr>\n",
       "  </tbody>\n",
       "</table>\n",
       "</div>"
      ],
      "text/plain": [
       "                                    genome  new_completeness  \\\n",
       "0      A0419WC90_metabat_229_fa_contigs_fa         93.023256   \n",
       "1      A0419WC90_metabat_196_fa_contigs_fa         83.720930   \n",
       "2  A0818WC45_metabat_191_fa_sub_contigs_fa         88.372093   \n",
       "3      A0920WC90_metabat_176_fa_contigs_fa        100.000000   \n",
       "4      A0419WC90_metabat_176_fa_contigs_fa         92.105263   \n",
       "\n",
       "   new_contamination            genome_slug  \n",
       "0           0.000000  A0419WC90_metabat_229  \n",
       "1           4.651163  A0419WC90_metabat_196  \n",
       "2           2.325581  A0818WC45_metabat_191  \n",
       "3           9.302326  A0920WC90_metabat_176  \n",
       "4           7.894737  A0419WC90_metabat_176  "
      ]
     },
     "execution_count": 26,
     "metadata": {},
     "output_type": "execute_result"
    }
   ],
   "source": [
    "# read in and incorporate\n",
    "refdf = pd.read_csv(rootdir + \"genomes/quality/refined_genomes_checkm/output_table.txt\", sep=\"\\t\")\n",
    "# remove redos from old run\n",
    "refdf = refdf[~refdf[\"Bin Id\"].isin(redos)]\n",
    "# incorporate\n",
    "refdf = pd.concat([refdf, pd.read_csv(rootdir + \"genomes/quality/redo_genomes_checkm/output_table.txt\", sep=\"\\t\")])\n",
    "refdf[\"genome\"] = refdf[\"Bin Id\"].apply(lambda x: x + \".fa\")\n",
    "refdf_sub = refdf[[\"genome\", \"Completeness\", \"Contamination\"]]\n",
    "refdf_sub.columns = [\"genome\", \"new_completeness\", \"new_contamination\"]\n",
    "refdf_sub[\"genome_slug\"] = refdf_sub[\"genome\"].apply(lambda x: x.replace(\"_sub\", \"\").split(\".refined\")[0] if x.startswith(\"A\") else x.replace(\"_sub\", \"\").split(\"_contigs\")[0])\n",
    "# remove cpr/dpann\n",
    "refdf_sub = refdf_sub[~refdf_sub[\"genome_slug\"].isin(refined_gquality_df[\"genome_slug\"].to_list())]\n",
    "# concatenate\n",
    "all_refined = pd.concat([refined_gquality_df, refdf_sub])\n",
    "all_refined.head()"
   ]
  },
  {
   "cell_type": "markdown",
   "metadata": {},
   "source": [
    "### compare"
   ]
  },
  {
   "cell_type": "code",
   "execution_count": 27,
   "metadata": {},
   "outputs": [
    {
     "data": {
      "text/html": [
       "<div>\n",
       "<style scoped>\n",
       "    .dataframe tbody tr th:only-of-type {\n",
       "        vertical-align: middle;\n",
       "    }\n",
       "\n",
       "    .dataframe tbody tr th {\n",
       "        vertical-align: top;\n",
       "    }\n",
       "\n",
       "    .dataframe thead th {\n",
       "        text-align: right;\n",
       "    }\n",
       "</style>\n",
       "<table border=\"1\" class=\"dataframe\">\n",
       "  <thead>\n",
       "    <tr style=\"text-align: right;\">\n",
       "      <th></th>\n",
       "      <th>genome_slug</th>\n",
       "      <th>completeness</th>\n",
       "      <th>contamination</th>\n",
       "      <th>new_completeness</th>\n",
       "      <th>new_contamination</th>\n",
       "      <th>delta_completeness</th>\n",
       "      <th>delta_contamination</th>\n",
       "    </tr>\n",
       "  </thead>\n",
       "  <tbody>\n",
       "    <tr>\n",
       "      <th>0</th>\n",
       "      <td>A0419WC90_metabat_229</td>\n",
       "      <td>93.023256</td>\n",
       "      <td>0.000000</td>\n",
       "      <td>93.023256</td>\n",
       "      <td>0.000000</td>\n",
       "      <td>0.0</td>\n",
       "      <td>0.000000</td>\n",
       "    </tr>\n",
       "    <tr>\n",
       "      <th>1</th>\n",
       "      <td>A0419WC90_metabat_196</td>\n",
       "      <td>83.720930</td>\n",
       "      <td>6.976744</td>\n",
       "      <td>83.720930</td>\n",
       "      <td>4.651163</td>\n",
       "      <td>0.0</td>\n",
       "      <td>-2.325581</td>\n",
       "    </tr>\n",
       "    <tr>\n",
       "      <th>2</th>\n",
       "      <td>A0818WC45_metabat_191</td>\n",
       "      <td>88.372093</td>\n",
       "      <td>2.325581</td>\n",
       "      <td>88.372093</td>\n",
       "      <td>2.325581</td>\n",
       "      <td>0.0</td>\n",
       "      <td>0.000000</td>\n",
       "    </tr>\n",
       "    <tr>\n",
       "      <th>3</th>\n",
       "      <td>A0920WC90_metabat_176</td>\n",
       "      <td>100.000000</td>\n",
       "      <td>11.627907</td>\n",
       "      <td>100.000000</td>\n",
       "      <td>9.302326</td>\n",
       "      <td>0.0</td>\n",
       "      <td>-2.325581</td>\n",
       "    </tr>\n",
       "    <tr>\n",
       "      <th>4</th>\n",
       "      <td>A0419WC90_metabat_176</td>\n",
       "      <td>92.105263</td>\n",
       "      <td>23.684211</td>\n",
       "      <td>92.105263</td>\n",
       "      <td>7.894737</td>\n",
       "      <td>0.0</td>\n",
       "      <td>-15.789474</td>\n",
       "    </tr>\n",
       "  </tbody>\n",
       "</table>\n",
       "</div>"
      ],
      "text/plain": [
       "             genome_slug  completeness  contamination  new_completeness  \\\n",
       "0  A0419WC90_metabat_229     93.023256       0.000000         93.023256   \n",
       "1  A0419WC90_metabat_196     83.720930       6.976744         83.720930   \n",
       "2  A0818WC45_metabat_191     88.372093       2.325581         88.372093   \n",
       "3  A0920WC90_metabat_176    100.000000      11.627907        100.000000   \n",
       "4  A0419WC90_metabat_176     92.105263      23.684211         92.105263   \n",
       "\n",
       "   new_contamination  delta_completeness  delta_contamination  \n",
       "0           0.000000                 0.0             0.000000  \n",
       "1           4.651163                 0.0            -2.325581  \n",
       "2           2.325581                 0.0             0.000000  \n",
       "3           9.302326                 0.0            -2.325581  \n",
       "4           7.894737                 0.0           -15.789474  "
      ]
     },
     "execution_count": 27,
     "metadata": {},
     "output_type": "execute_result"
    }
   ],
   "source": [
    "# combine with original\n",
    "combined[\"genome_slug\"] = combined[\"genome\"].apply(lambda x: x.replace(\"_sub\", \"\").split(\".fa\")[0].replace(\".\", \"_\") if x.startswith(\"A\") else x.replace(\"_sub\", \"\").split(\".contigs\")[0])\n",
    "merged_quality = all_refined.merge(combined[[\"genome_slug\", \"completeness\", \"contamination\"]], how=\"left\", on=\"genome_slug\")\n",
    "merged_quality = merged_quality[[\"genome_slug\", \"completeness\", \"contamination\", \"new_completeness\", \"new_contamination\"]]\n",
    "merged_quality[\"delta_completeness\"] = merged_quality.apply(lambda x: x[\"new_completeness\"]-x[\"completeness\"], axis=1)\n",
    "merged_quality[\"delta_contamination\"] = merged_quality.apply(lambda x: x[\"new_contamination\"]-x[\"contamination\"], axis=1)\n",
    "merged_quality.head()"
   ]
  },
  {
   "cell_type": "code",
   "execution_count": 28,
   "metadata": {},
   "outputs": [],
   "source": [
    "# build scaf len dict\n",
    "scaflens = {}\n",
    "for file in glob.glob(rootdir + \"binning/dastool/A*/*_DASTool_bins/*\"):\n",
    "    for record in SeqIO.parse(open(file), \"fasta\"):\n",
    "        scaflens[record.description.split(\" \")[0]] = len(record.seq)"
   ]
  },
  {
   "cell_type": "code",
   "execution_count": 29,
   "metadata": {},
   "outputs": [
    {
     "data": {
      "text/html": [
       "<div>\n",
       "<style scoped>\n",
       "    .dataframe tbody tr th:only-of-type {\n",
       "        vertical-align: middle;\n",
       "    }\n",
       "\n",
       "    .dataframe tbody tr th {\n",
       "        vertical-align: top;\n",
       "    }\n",
       "\n",
       "    .dataframe thead th {\n",
       "        text-align: right;\n",
       "    }\n",
       "</style>\n",
       "<table border=\"1\" class=\"dataframe\">\n",
       "  <thead>\n",
       "    <tr style=\"text-align: right;\">\n",
       "      <th></th>\n",
       "      <th>scaffold</th>\n",
       "      <th>bin</th>\n",
       "      <th>file</th>\n",
       "    </tr>\n",
       "  </thead>\n",
       "  <tbody>\n",
       "    <tr>\n",
       "      <th>0</th>\n",
       "      <td>LacPavin_0818_WC55_scaffold_13482</td>\n",
       "      <td>A0818WC55.metabat.198.fa</td>\n",
       "      <td>A0818WC55_metabat_198_fa</td>\n",
       "    </tr>\n",
       "    <tr>\n",
       "      <th>1</th>\n",
       "      <td>LacPavin_0818_WC55_scaffold_16313</td>\n",
       "      <td>A0818WC55.metabat.198.fa</td>\n",
       "      <td>A0818WC55_metabat_198_fa</td>\n",
       "    </tr>\n",
       "    <tr>\n",
       "      <th>2</th>\n",
       "      <td>LacPavin_0818_WC55_scaffold_22474</td>\n",
       "      <td>A0818WC55.metabat.198.fa</td>\n",
       "      <td>A0818WC55_metabat_198_fa</td>\n",
       "    </tr>\n",
       "    <tr>\n",
       "      <th>3</th>\n",
       "      <td>LacPavin_0818_WC55_scaffold_28541</td>\n",
       "      <td>A0818WC55.metabat.198.fa</td>\n",
       "      <td>A0818WC55_metabat_198_fa</td>\n",
       "    </tr>\n",
       "    <tr>\n",
       "      <th>4</th>\n",
       "      <td>LacPavin_0818_WC55_scaffold_32612</td>\n",
       "      <td>A0818WC55.metabat.198.fa</td>\n",
       "      <td>A0818WC55_metabat_198_fa</td>\n",
       "    </tr>\n",
       "  </tbody>\n",
       "</table>\n",
       "</div>"
      ],
      "text/plain": [
       "                            scaffold                       bin  \\\n",
       "0  LacPavin_0818_WC55_scaffold_13482  A0818WC55.metabat.198.fa   \n",
       "1  LacPavin_0818_WC55_scaffold_16313  A0818WC55.metabat.198.fa   \n",
       "2  LacPavin_0818_WC55_scaffold_22474  A0818WC55.metabat.198.fa   \n",
       "3  LacPavin_0818_WC55_scaffold_28541  A0818WC55.metabat.198.fa   \n",
       "4  LacPavin_0818_WC55_scaffold_32612  A0818WC55.metabat.198.fa   \n",
       "\n",
       "                       file  \n",
       "0  A0818WC55_metabat_198_fa  \n",
       "1  A0818WC55_metabat_198_fa  \n",
       "2  A0818WC55_metabat_198_fa  \n",
       "3  A0818WC55_metabat_198_fa  \n",
       "4  A0818WC55_metabat_198_fa  "
      ]
     },
     "execution_count": 29,
     "metadata": {},
     "output_type": "execute_result"
    }
   ],
   "source": [
    "# get original scafs\n",
    "original_scafs = pd.concat(pd.read_csv(item, sep=\"\\t\", header=None) for item in \n",
    "    glob.glob(rootdir + \"binning/dastool/A*/*scaffolds2bin.txt\"))\n",
    "original_scafs.columns = [\"scaffold\", \"bin\"]\n",
    "original_scafs[\"file\"] = original_scafs[\"bin\"].apply(lambda x: x.replace(\".\", \"_\"))\n",
    "original_scafs.head()"
   ]
  },
  {
   "cell_type": "code",
   "execution_count": 30,
   "metadata": {},
   "outputs": [
    {
     "data": {
      "text/html": [
       "<div>\n",
       "<style scoped>\n",
       "    .dataframe tbody tr th:only-of-type {\n",
       "        vertical-align: middle;\n",
       "    }\n",
       "\n",
       "    .dataframe tbody tr th {\n",
       "        vertical-align: top;\n",
       "    }\n",
       "\n",
       "    .dataframe thead th {\n",
       "        text-align: right;\n",
       "    }\n",
       "</style>\n",
       "<table border=\"1\" class=\"dataframe\">\n",
       "  <thead>\n",
       "    <tr style=\"text-align: right;\">\n",
       "      <th></th>\n",
       "      <th>genome_slug</th>\n",
       "      <th>old_scafnum</th>\n",
       "      <th>new_scafnum</th>\n",
       "      <th>delta_scafnum_perc</th>\n",
       "      <th>old_binlen</th>\n",
       "      <th>new_binlen</th>\n",
       "      <th>delta_binlen_perc</th>\n",
       "      <th>completeness</th>\n",
       "      <th>contamination</th>\n",
       "      <th>new_completeness</th>\n",
       "      <th>new_contamination</th>\n",
       "      <th>delta_completeness</th>\n",
       "      <th>delta_contamination</th>\n",
       "    </tr>\n",
       "  </thead>\n",
       "  <tbody>\n",
       "    <tr>\n",
       "      <th>0</th>\n",
       "      <td>A0419WC90_metabat_80</td>\n",
       "      <td>131</td>\n",
       "      <td>131</td>\n",
       "      <td>0.0</td>\n",
       "      <td>1214930</td>\n",
       "      <td>1214930</td>\n",
       "      <td>0.0</td>\n",
       "      <td>84.210526</td>\n",
       "      <td>5.263158</td>\n",
       "      <td>84.210526</td>\n",
       "      <td>5.263158</td>\n",
       "      <td>0.0</td>\n",
       "      <td>0.0</td>\n",
       "    </tr>\n",
       "    <tr>\n",
       "      <th>1</th>\n",
       "      <td>LacPavin_0419_WC90_Microgenomates_34_15</td>\n",
       "      <td>30</td>\n",
       "      <td>30</td>\n",
       "      <td>0.0</td>\n",
       "      <td>457599</td>\n",
       "      <td>457599</td>\n",
       "      <td>0.0</td>\n",
       "      <td>100.000000</td>\n",
       "      <td>4.651163</td>\n",
       "      <td>100.000000</td>\n",
       "      <td>4.651163</td>\n",
       "      <td>0.0</td>\n",
       "      <td>0.0</td>\n",
       "    </tr>\n",
       "    <tr>\n",
       "      <th>2</th>\n",
       "      <td>A0419WC90_metabat_117</td>\n",
       "      <td>62</td>\n",
       "      <td>62</td>\n",
       "      <td>0.0</td>\n",
       "      <td>1804536</td>\n",
       "      <td>1804536</td>\n",
       "      <td>0.0</td>\n",
       "      <td>89.000000</td>\n",
       "      <td>2.690000</td>\n",
       "      <td>89.000000</td>\n",
       "      <td>2.690000</td>\n",
       "      <td>0.0</td>\n",
       "      <td>0.0</td>\n",
       "    </tr>\n",
       "    <tr>\n",
       "      <th>3</th>\n",
       "      <td>A0419WC90_metabat_99</td>\n",
       "      <td>52</td>\n",
       "      <td>52</td>\n",
       "      <td>0.0</td>\n",
       "      <td>1735713</td>\n",
       "      <td>1735713</td>\n",
       "      <td>0.0</td>\n",
       "      <td>94.736842</td>\n",
       "      <td>0.000000</td>\n",
       "      <td>94.736842</td>\n",
       "      <td>0.000000</td>\n",
       "      <td>0.0</td>\n",
       "      <td>0.0</td>\n",
       "    </tr>\n",
       "    <tr>\n",
       "      <th>4</th>\n",
       "      <td>A0419WC90_metabat_235</td>\n",
       "      <td>131</td>\n",
       "      <td>131</td>\n",
       "      <td>0.0</td>\n",
       "      <td>344827</td>\n",
       "      <td>344827</td>\n",
       "      <td>0.0</td>\n",
       "      <td>74.418605</td>\n",
       "      <td>2.325581</td>\n",
       "      <td>74.418605</td>\n",
       "      <td>2.325581</td>\n",
       "      <td>0.0</td>\n",
       "      <td>0.0</td>\n",
       "    </tr>\n",
       "  </tbody>\n",
       "</table>\n",
       "</div>"
      ],
      "text/plain": [
       "                               genome_slug  old_scafnum  new_scafnum  \\\n",
       "0                     A0419WC90_metabat_80          131          131   \n",
       "1  LacPavin_0419_WC90_Microgenomates_34_15           30           30   \n",
       "2                    A0419WC90_metabat_117           62           62   \n",
       "3                     A0419WC90_metabat_99           52           52   \n",
       "4                    A0419WC90_metabat_235          131          131   \n",
       "\n",
       "   delta_scafnum_perc  old_binlen  new_binlen  delta_binlen_perc  \\\n",
       "0                 0.0     1214930     1214930                0.0   \n",
       "1                 0.0      457599      457599                0.0   \n",
       "2                 0.0     1804536     1804536                0.0   \n",
       "3                 0.0     1735713     1735713                0.0   \n",
       "4                 0.0      344827      344827                0.0   \n",
       "\n",
       "   completeness  contamination  new_completeness  new_contamination  \\\n",
       "0     84.210526       5.263158         84.210526           5.263158   \n",
       "1    100.000000       4.651163        100.000000           4.651163   \n",
       "2     89.000000       2.690000         89.000000           2.690000   \n",
       "3     94.736842       0.000000         94.736842           0.000000   \n",
       "4     74.418605       2.325581         74.418605           2.325581   \n",
       "\n",
       "   delta_completeness  delta_contamination  \n",
       "0                 0.0                  0.0  \n",
       "1                 0.0                  0.0  \n",
       "2                 0.0                  0.0  \n",
       "3                 0.0                  0.0  \n",
       "4                 0.0                  0.0  "
      ]
     },
     "execution_count": 30,
     "metadata": {},
     "output_type": "execute_result"
    }
   ],
   "source": [
    "delta = defaultdict(list)\n",
    "\n",
    "for file in refine_bins_merged.query(\"representative==True\")[\"original_file\"].unique():\n",
    "            \n",
    "    new_scafs = refine_scafs_merged[refine_scafs_merged[\"original_file\"]==file][\"scaffold\"].to_list()\n",
    "    old_scafs = original_scafs[original_scafs[\"file\"]==file.split(\"_contigs\")[0]][\"scaffold\"].to_list()\n",
    "    new_binlen = sum(scaflens[item] for item in new_scafs)\n",
    "    old_binlen = sum(scaflens[item] for item in old_scafs)\n",
    "        \n",
    "    delta[\"genome_slug\"].append(file.split(\"_contigs\")[0].replace(\"_fa\", \"\").replace(\"_sub\", \"\"))\n",
    "    delta[\"old_scafnum\"].append(len(old_scafs))\n",
    "    delta[\"new_scafnum\"].append(len(new_scafs))\n",
    "    delta[\"delta_scafnum_perc\"].append((len(old_scafs) - len(new_scafs))/float(len(old_scafs))*100)\n",
    "    delta[\"old_binlen\"].append(old_binlen)\n",
    "    delta[\"new_binlen\"].append(new_binlen)\n",
    "    delta[\"delta_binlen_perc\"].append((old_binlen-new_binlen)/float(old_binlen)*100)\n",
    "\n",
    "deltadict = pd.DataFrame(delta)\n",
    "deltadict = deltadict.merge(merged_quality, on=\"genome_slug\", how=\"left\")\n",
    "deltadict.head()"
   ]
  },
  {
   "cell_type": "code",
   "execution_count": 47,
   "metadata": {},
   "outputs": [
    {
     "data": {
      "image/png": "[encoded data removed]",
      "text/plain": [
       "<Figure size 432x288 with 1 Axes>"
      ]
     },
     "metadata": {},
     "output_type": "display_data"
    }
   ],
   "source": [
    "sns.set_style(\"ticks\")\n",
    "sns.scatterplot(\"delta_completeness\", \"delta_contamination\", data=deltadict, alpha=0.2)\n",
    "#plt.xlim([-12, 1])\n",
    "#plt.ylim([-10,1])\n",
    "plt.axhline(0)\n",
    "plt.axvline(0)\n",
    "plt.xlabel(\"∆ completeness\")\n",
    "plt.ylabel(\"∆ redundancy\")\n",
    "#plt.legend(bbox_to_anchor=(1.05, 1.0), loc='upper left')\n",
    "plt.savefig(rootdir + \"figures/delta.svg\", format=\"svg\")"
   ]
  },
  {
   "cell_type": "code",
   "execution_count": 32,
   "metadata": {},
   "outputs": [
    {
     "data": {
      "image/png": "[encoded data removed]",
      "text/plain": [
       "<Figure size 432x288 with 1 Axes>"
      ]
     },
     "metadata": {},
     "output_type": "display_data"
    }
   ],
   "source": [
    "sns.scatterplot(\"delta_scafnum_perc\", \"delta_binlen_perc\", data=deltadict, alpha=0.1)\n",
    "plt.xlabel(\"% scaffold number change\")\n",
    "plt.ylabel(\"% bin length change\")\n",
    "#plt.xlim([0, 100])\n",
    "#plt.ylim([0, 100])\n",
    "plt.show()"
   ]
  },
  {
   "cell_type": "markdown",
   "metadata": {},
   "source": [
    "### gunc comparison"
   ]
  },
  {
   "cell_type": "code",
   "execution_count": 226,
   "metadata": {},
   "outputs": [],
   "source": [
    "cmdir(rootdir + \"genomes/quality/gunc\")\n",
    "cmdir(rootdir + \"genomes/quality/gunc/refined_gunc\")"
   ]
  },
  {
   "cell_type": "code",
   "execution_count": 874,
   "metadata": {},
   "outputs": [
    {
     "name": "stdout",
     "output_type": "stream",
     "text": [
      "gunc run -d /groups/banfield/projects/environmental/LacPavin/analysis/genomes/refined_genomes -t 20 -o /groups/banfield/projects/environmental/LacPavin/analysis/genomes/quality/gunc/refined_gunc --detailed_output\n"
     ]
    }
   ],
   "source": [
    "call = \"gunc run -d %s -t 20 -o %s --detailed_output\" %(rootdir + \"genomes/refined_genomes\", rootdir + \"genomes/quality/gunc/refined_gunc\")\n",
    "print(call)"
   ]
  },
  {
   "cell_type": "code",
   "execution_count": 33,
   "metadata": {},
   "outputs": [
    {
     "data": {
      "text/html": [
       "<div>\n",
       "<style scoped>\n",
       "    .dataframe tbody tr th:only-of-type {\n",
       "        vertical-align: middle;\n",
       "    }\n",
       "\n",
       "    .dataframe tbody tr th {\n",
       "        vertical-align: top;\n",
       "    }\n",
       "\n",
       "    .dataframe thead th {\n",
       "        text-align: right;\n",
       "    }\n",
       "</style>\n",
       "<table border=\"1\" class=\"dataframe\">\n",
       "  <thead>\n",
       "    <tr style=\"text-align: right;\">\n",
       "      <th></th>\n",
       "      <th>bin</th>\n",
       "      <th>taxonomic_level</th>\n",
       "      <th>css_refined</th>\n",
       "      <th>contam_refined</th>\n",
       "    </tr>\n",
       "  </thead>\n",
       "  <tbody>\n",
       "    <tr>\n",
       "      <th>0</th>\n",
       "      <td>A0818WC40_metabat_269</td>\n",
       "      <td>kingdom</td>\n",
       "      <td>0.00</td>\n",
       "      <td>0.00</td>\n",
       "    </tr>\n",
       "    <tr>\n",
       "      <th>1</th>\n",
       "      <td>A0818WC40_metabat_269</td>\n",
       "      <td>phylum</td>\n",
       "      <td>0.08</td>\n",
       "      <td>0.02</td>\n",
       "    </tr>\n",
       "    <tr>\n",
       "      <th>2</th>\n",
       "      <td>A0818WC40_metabat_269</td>\n",
       "      <td>class</td>\n",
       "      <td>0.00</td>\n",
       "      <td>0.00</td>\n",
       "    </tr>\n",
       "    <tr>\n",
       "      <th>3</th>\n",
       "      <td>A0818WC40_metabat_269</td>\n",
       "      <td>order</td>\n",
       "      <td>0.20</td>\n",
       "      <td>0.03</td>\n",
       "    </tr>\n",
       "    <tr>\n",
       "      <th>4</th>\n",
       "      <td>A0818WC40_metabat_269</td>\n",
       "      <td>family</td>\n",
       "      <td>0.21</td>\n",
       "      <td>0.03</td>\n",
       "    </tr>\n",
       "  </tbody>\n",
       "</table>\n",
       "</div>"
      ],
      "text/plain": [
       "                     bin taxonomic_level  css_refined  contam_refined\n",
       "0  A0818WC40_metabat_269         kingdom         0.00            0.00\n",
       "1  A0818WC40_metabat_269          phylum         0.08            0.02\n",
       "2  A0818WC40_metabat_269           class         0.00            0.00\n",
       "3  A0818WC40_metabat_269           order         0.20            0.03\n",
       "4  A0818WC40_metabat_269          family         0.21            0.03"
      ]
     },
     "execution_count": 33,
     "metadata": {},
     "output_type": "execute_result"
    }
   ],
   "source": [
    "grefined = pd.concat([pd.read_csv(item, sep=\"\\t\") for item in glob.glob(rootdir + \"genomes/quality/gunc/refined_gunc/gunc_output/*\")])\n",
    "grefined[\"bin\"] = grefined[\"genome\"].apply(lambda x: x.split(\".\")[0])\n",
    "grefineds = grefined[[\"bin\", \"taxonomic_level\", \"clade_separation_score\", \"contamination_portion\"]]\n",
    "grefineds.columns = [\"bin\", \"taxonomic_level\", \"css_refined\", \"contam_refined\"]\n",
    "grefineds.head()"
   ]
  },
  {
   "cell_type": "code",
   "execution_count": 34,
   "metadata": {},
   "outputs": [],
   "source": [
    "goriginal= pd.concat([pd.read_csv(item, sep=\"\\t\") for item in glob.glob(rootdir + \"genomes/quality/gunc/all_genomes_gunc/gunc_output/*\")])\n",
    "goriginal[\"bin\"] = goriginal[\"genome\"].apply(lambda x: x.replace(\".\", \"_\"))\n",
    "goriginals = goriginal[[\"bin\", \"taxonomic_level\", \"clade_separation_score\", \"contamination_portion\"]]\n",
    "goriginals.columns = [\"bin\", \"taxonomic_level\", \"css_original\", \"contam_original\"]"
   ]
  },
  {
   "cell_type": "code",
   "execution_count": 35,
   "metadata": {},
   "outputs": [
    {
     "data": {
      "text/html": [
       "<div>\n",
       "<style scoped>\n",
       "    .dataframe tbody tr th:only-of-type {\n",
       "        vertical-align: middle;\n",
       "    }\n",
       "\n",
       "    .dataframe tbody tr th {\n",
       "        vertical-align: top;\n",
       "    }\n",
       "\n",
       "    .dataframe thead th {\n",
       "        text-align: right;\n",
       "    }\n",
       "</style>\n",
       "<table border=\"1\" class=\"dataframe\">\n",
       "  <thead>\n",
       "    <tr style=\"text-align: right;\">\n",
       "      <th></th>\n",
       "      <th>bin</th>\n",
       "      <th>taxonomic_level</th>\n",
       "      <th>css_refined</th>\n",
       "      <th>contam_refined</th>\n",
       "      <th>css_original</th>\n",
       "      <th>contam_original</th>\n",
       "      <th>delta_css</th>\n",
       "      <th>genome_slug</th>\n",
       "    </tr>\n",
       "  </thead>\n",
       "  <tbody>\n",
       "    <tr>\n",
       "      <th>0</th>\n",
       "      <td>A0818WC40_metabat_269</td>\n",
       "      <td>kingdom</td>\n",
       "      <td>0.00</td>\n",
       "      <td>0.00</td>\n",
       "      <td>0.00</td>\n",
       "      <td>0.00</td>\n",
       "      <td>0.00</td>\n",
       "      <td>A0818WC40_metabat_269</td>\n",
       "    </tr>\n",
       "    <tr>\n",
       "      <th>1</th>\n",
       "      <td>A0818WC40_metabat_269</td>\n",
       "      <td>phylum</td>\n",
       "      <td>0.08</td>\n",
       "      <td>0.02</td>\n",
       "      <td>0.08</td>\n",
       "      <td>0.02</td>\n",
       "      <td>0.00</td>\n",
       "      <td>A0818WC40_metabat_269</td>\n",
       "    </tr>\n",
       "    <tr>\n",
       "      <th>2</th>\n",
       "      <td>A0818WC40_metabat_269</td>\n",
       "      <td>class</td>\n",
       "      <td>0.00</td>\n",
       "      <td>0.00</td>\n",
       "      <td>0.00</td>\n",
       "      <td>0.00</td>\n",
       "      <td>0.00</td>\n",
       "      <td>A0818WC40_metabat_269</td>\n",
       "    </tr>\n",
       "    <tr>\n",
       "      <th>3</th>\n",
       "      <td>A0818WC40_metabat_269</td>\n",
       "      <td>order</td>\n",
       "      <td>0.20</td>\n",
       "      <td>0.03</td>\n",
       "      <td>0.21</td>\n",
       "      <td>0.03</td>\n",
       "      <td>-0.01</td>\n",
       "      <td>A0818WC40_metabat_269</td>\n",
       "    </tr>\n",
       "    <tr>\n",
       "      <th>4</th>\n",
       "      <td>A0818WC40_metabat_269</td>\n",
       "      <td>family</td>\n",
       "      <td>0.21</td>\n",
       "      <td>0.03</td>\n",
       "      <td>0.21</td>\n",
       "      <td>0.04</td>\n",
       "      <td>0.00</td>\n",
       "      <td>A0818WC40_metabat_269</td>\n",
       "    </tr>\n",
       "  </tbody>\n",
       "</table>\n",
       "</div>"
      ],
      "text/plain": [
       "                     bin taxonomic_level  css_refined  contam_refined  \\\n",
       "0  A0818WC40_metabat_269         kingdom         0.00            0.00   \n",
       "1  A0818WC40_metabat_269          phylum         0.08            0.02   \n",
       "2  A0818WC40_metabat_269           class         0.00            0.00   \n",
       "3  A0818WC40_metabat_269           order         0.20            0.03   \n",
       "4  A0818WC40_metabat_269          family         0.21            0.03   \n",
       "\n",
       "   css_original  contam_original  delta_css            genome_slug  \n",
       "0          0.00             0.00       0.00  A0818WC40_metabat_269  \n",
       "1          0.08             0.02       0.00  A0818WC40_metabat_269  \n",
       "2          0.00             0.00       0.00  A0818WC40_metabat_269  \n",
       "3          0.21             0.03      -0.01  A0818WC40_metabat_269  \n",
       "4          0.21             0.04       0.00  A0818WC40_metabat_269  "
      ]
     },
     "execution_count": 35,
     "metadata": {},
     "output_type": "execute_result"
    }
   ],
   "source": [
    "gunc_merged = grefineds.merge(goriginals, how=\"left\", on=[\"bin\", \"taxonomic_level\"])\n",
    "gunc_merged[\"delta_css\"] = gunc_merged.apply(lambda x: x[\"css_refined\"] - x[\"css_original\"], axis=1)\n",
    "gunc_merged[\"genome_slug\"] = gunc_merged[\"bin\"].apply(lambda x: x.replace(\"_sub\", \"\").split(\"_contigs\")[0])\n",
    "gunc_merged.head()"
   ]
  },
  {
   "cell_type": "code",
   "execution_count": 48,
   "metadata": {},
   "outputs": [
    {
     "data": {
      "image/png": "[encoded data removed]",
      "text/plain": [
       "<Figure size 432x288 with 1 Axes>"
      ]
     },
     "metadata": {},
     "output_type": "display_data"
    }
   ],
   "source": [
    "order = gunc_merged.query(\"taxonomic_level=='phylum'\").sort_values(\"delta_css\", ascending=True)[\"bin\"].to_list()\n",
    "gunc_merged[\"rank\"] = gunc_merged[\"bin\"].apply(lambda x: order.index(x))\n",
    "sns.lineplot(\"rank\", \"delta_css\", hue=\"taxonomic_level\", data=gunc_merged.query(\"taxonomic_level=='phylum'\"))\n",
    "plt.axhline(0)\n",
    "plt.ylabel(\"∆ CSS\")\n",
    "plt.savefig(rootdir + \"figures/gunc_delta.svg\", format=\"svg\")"
   ]
  },
  {
   "cell_type": "code",
   "execution_count": 37,
   "metadata": {},
   "outputs": [
    {
     "data": {
      "image/png": "[encoded data removed]",
      "text/plain": [
       "<Figure size 432x288 with 1 Axes>"
      ]
     },
     "metadata": {},
     "output_type": "display_data"
    }
   ],
   "source": [
    "final_merge = deltadict.merge(gunc_merged.query(\"taxonomic_level=='phylum'\"), on=\"genome_slug\", how=\"left\")\n",
    "sns.set_style(\"ticks\")\n",
    "sns.scatterplot(\"delta_completeness\", \"delta_contamination\", data=final_merge, hue=\"delta_css\",palette=sns.diverging_palette(220, 20, as_cmap=True))\n",
    "plt.xlim([-12, 1])\n",
    "plt.ylim([-10,1])\n",
    "plt.axhline(0)\n",
    "plt.axvline(0)\n",
    "plt.legend(bbox_to_anchor=(1.05, 1.0), loc='upper left')\n",
    "plt.show()"
   ]
  },
  {
   "cell_type": "markdown",
   "metadata": {},
   "source": [
    "### refinement stats"
   ]
  },
  {
   "cell_type": "code",
   "execution_count": 38,
   "metadata": {},
   "outputs": [
    {
     "name": "stdout",
     "output_type": "stream",
     "text": [
      "2.157360 percent of the prelim set was lost during manual refinement.\n"
     ]
    }
   ],
   "source": [
    "## lost\n",
    "lost = final_merge[(final_merge[\"completeness\"]>=70) & (final_merge[\"contamination\"]<=10) & (final_merge[\"new_completeness\"]<70)]\n",
    "print(\"%f percent of the prelim set was lost during manual refinement.\" %(len(lost)/len(final_merge)*100))"
   ]
  },
  {
   "cell_type": "code",
   "execution_count": 39,
   "metadata": {},
   "outputs": [
    {
     "name": "stdout",
     "output_type": "stream",
     "text": [
      "5.583756 percent of the prelim set was gained during manual refinement.\n"
     ]
    }
   ],
   "source": [
    "## gained\n",
    "gained = final_merge[(final_merge[\"new_completeness\"]>=70) & (final_merge[\"contamination\"]>10) & (final_merge[\"new_contamination\"]<10)]\n",
    "print(\"%f percent of the prelim set was gained during manual refinement.\" %(len(gained)/len(final_merge)*100))"
   ]
  },
  {
   "cell_type": "code",
   "execution_count": 40,
   "metadata": {},
   "outputs": [
    {
     "name": "stdout",
     "output_type": "stream",
     "text": [
      "68.654822 percent of the prelim set was improved in terms of either redundancy, chimerism, or both during manual refinement.\n"
     ]
    }
   ],
   "source": [
    "## improved\n",
    "improved = final_merge[(final_merge[\"delta_contamination\"]<0) | (final_merge[\"delta_css\"]<0)]\n",
    "print(\"%f percent of the prelim set was improved in terms of either redundancy, chimerism, or both during manual refinement.\" %(len(improved)/len(final_merge)*100))"
   ]
  },
  {
   "cell_type": "code",
   "execution_count": 41,
   "metadata": {},
   "outputs": [
    {
     "name": "stdout",
     "output_type": "stream",
     "text": [
      "93.654822 percent of the prelim set was retained after refinement, making 738 genomes.\n"
     ]
    }
   ],
   "source": [
    "## retained\n",
    "retained = final_merge[(final_merge[\"new_contamination\"]<=10) & (final_merge[\"new_completeness\"]>=70)]\n",
    "print(\"%f percent of the prelim set was retained after refinement, making %d genomes.\" %((len(retained)/len(final_merge)*100), len(retained)))"
   ]
  },
  {
   "cell_type": "code",
   "execution_count": 439,
   "metadata": {},
   "outputs": [],
   "source": [
    "# write this out for later\n",
    "final_merge.to_csv(rootdir + \"tables/curation_data.tsv\", sep=\"\\t\", index=False)"
   ]
  },
  {
   "cell_type": "markdown",
   "metadata": {},
   "source": [
    "### create final genome set"
   ]
  },
  {
   "cell_type": "code",
   "execution_count": 283,
   "metadata": {},
   "outputs": [],
   "source": [
    "cmdir(rootdir + \"genomes/final_genomes\")\n",
    "cmdir(rootdir + \"genomes/ani\")"
   ]
  },
  {
   "cell_type": "code",
   "execution_count": 275,
   "metadata": {},
   "outputs": [],
   "source": [
    "for key, row in final_merge.iterrows():\n",
    "    if (row[\"new_completeness\"]>=70) and (row[\"new_contamination\"]<=10):\n",
    "        genome_path = glob.glob(rootdir + \"genomes/refined_genomes/\" + row[\"genome_slug\"] + \"[._]*\")\n",
    "        call = \"cp \" + genome_path[0] + \" \" + rootdir + \"genomes/final_genomes/\"\n",
    "        sp.call(call, shell=True)"
   ]
  },
  {
   "cell_type": "code",
   "execution_count": 435,
   "metadata": {},
   "outputs": [
    {
     "name": "stdout",
     "output_type": "stream",
     "text": [
      "sbatch --wrap '/shared/software/bin/dRep compare -p 48 -sa 0.95 /groups/banfield/projects/environmental/LacPavin/analysis//genomes/ani/ -g /groups/banfield/projects/environmental/LacPavin/analysis//genomes/final_genomes/*'\n"
     ]
    }
   ],
   "source": [
    "# re-drep\n",
    "call = \"sbatch --wrap '/shared/software/bin/dRep compare -p 48 -sa 0.95 \" + \\\n",
    "    rootdir + \"/genomes/ani/ -g \" + rootdir + \"/genomes/final_genomes/*'\"\n",
    "print(call)"
   ]
  },
  {
   "cell_type": "code",
   "execution_count": 436,
   "metadata": {},
   "outputs": [
    {
     "data": {
      "text/html": [
       "<div>\n",
       "<style scoped>\n",
       "    .dataframe tbody tr th:only-of-type {\n",
       "        vertical-align: middle;\n",
       "    }\n",
       "\n",
       "    .dataframe tbody tr th {\n",
       "        vertical-align: top;\n",
       "    }\n",
       "\n",
       "    .dataframe thead th {\n",
       "        text-align: right;\n",
       "    }\n",
       "</style>\n",
       "<table border=\"1\" class=\"dataframe\">\n",
       "  <thead>\n",
       "    <tr style=\"text-align: right;\">\n",
       "      <th></th>\n",
       "      <th>querry</th>\n",
       "      <th>reference</th>\n",
       "      <th>alignment_length</th>\n",
       "      <th>similarity_errors</th>\n",
       "      <th>ref_coverage</th>\n",
       "      <th>querry_coverage</th>\n",
       "      <th>ani</th>\n",
       "      <th>reference_length</th>\n",
       "      <th>querry_length</th>\n",
       "      <th>alignment_coverage</th>\n",
       "      <th>primary_cluster</th>\n",
       "    </tr>\n",
       "  </thead>\n",
       "  <tbody>\n",
       "    <tr>\n",
       "      <th>63</th>\n",
       "      <td>A0419WC70L_metabat_209.refined.fa</td>\n",
       "      <td>A0920SED2_metabat_60.refined.fa</td>\n",
       "      <td>1131354</td>\n",
       "      <td>59292</td>\n",
       "      <td>0.585000</td>\n",
       "      <td>0.726043</td>\n",
       "      <td>0.947592</td>\n",
       "      <td>1933937</td>\n",
       "      <td>1558246</td>\n",
       "      <td>0.726043</td>\n",
       "      <td>490</td>\n",
       "    </tr>\n",
       "    <tr>\n",
       "      <th>64</th>\n",
       "      <td>A0920SED2_metabat_60.refined.fa</td>\n",
       "      <td>A0419WC70L_metabat_209.refined.fa</td>\n",
       "      <td>1133343</td>\n",
       "      <td>59111</td>\n",
       "      <td>0.727320</td>\n",
       "      <td>0.586029</td>\n",
       "      <td>0.947844</td>\n",
       "      <td>1558246</td>\n",
       "      <td>1933937</td>\n",
       "      <td>0.727320</td>\n",
       "      <td>490</td>\n",
       "    </tr>\n",
       "    <tr>\n",
       "      <th>71</th>\n",
       "      <td>A0419WC70L_metabat_27.refined.fa</td>\n",
       "      <td>A0419WC90_metabat_67.refined.fa</td>\n",
       "      <td>1502263</td>\n",
       "      <td>79061</td>\n",
       "      <td>0.743378</td>\n",
       "      <td>0.834814</td>\n",
       "      <td>0.947372</td>\n",
       "      <td>2020861</td>\n",
       "      <td>1799518</td>\n",
       "      <td>0.834814</td>\n",
       "      <td>497</td>\n",
       "    </tr>\n",
       "    <tr>\n",
       "      <th>72</th>\n",
       "      <td>A0419WC90_metabat_67.refined.fa</td>\n",
       "      <td>A0419WC70L_metabat_27.refined.fa</td>\n",
       "      <td>1506724</td>\n",
       "      <td>79588</td>\n",
       "      <td>0.837293</td>\n",
       "      <td>0.745585</td>\n",
       "      <td>0.947178</td>\n",
       "      <td>1799518</td>\n",
       "      <td>2020861</td>\n",
       "      <td>0.837293</td>\n",
       "      <td>497</td>\n",
       "    </tr>\n",
       "  </tbody>\n",
       "</table>\n",
       "</div>"
      ],
      "text/plain": [
       "                               querry                          reference  \\\n",
       "63  A0419WC70L_metabat_209.refined.fa    A0920SED2_metabat_60.refined.fa   \n",
       "64    A0920SED2_metabat_60.refined.fa  A0419WC70L_metabat_209.refined.fa   \n",
       "71   A0419WC70L_metabat_27.refined.fa    A0419WC90_metabat_67.refined.fa   \n",
       "72    A0419WC90_metabat_67.refined.fa   A0419WC70L_metabat_27.refined.fa   \n",
       "\n",
       "    alignment_length  similarity_errors  ref_coverage  querry_coverage  \\\n",
       "63           1131354              59292      0.585000         0.726043   \n",
       "64           1133343              59111      0.727320         0.586029   \n",
       "71           1502263              79061      0.743378         0.834814   \n",
       "72           1506724              79588      0.837293         0.745585   \n",
       "\n",
       "         ani  reference_length  querry_length  alignment_coverage  \\\n",
       "63  0.947592           1933937        1558246            0.726043   \n",
       "64  0.947844           1558246        1933937            0.727320   \n",
       "71  0.947372           2020861        1799518            0.834814   \n",
       "72  0.947178           1799518        2020861            0.837293   \n",
       "\n",
       "    primary_cluster  \n",
       "63              490  \n",
       "64              490  \n",
       "71              497  \n",
       "72              497  "
      ]
     },
     "execution_count": 436,
     "metadata": {},
     "output_type": "execute_result"
    }
   ],
   "source": [
    "# read in clustering \n",
    "clustering = pd.read_csv(rootdir + \"genomes/ani/data_tables/Ndb.csv\")\n",
    "clustering[(clustering[\"querry\"]!=clustering[\"reference\"]) & (clustering[\"ani\"]>=0.94)]"
   ]
  },
  {
   "cell_type": "code",
   "execution_count": 437,
   "metadata": {},
   "outputs": [
    {
     "data": {
      "text/plain": [
       "738"
      ]
     },
     "execution_count": 437,
     "metadata": {},
     "output_type": "execute_result"
    }
   ],
   "source": [
    "len(pd.read_csv(rootdir + \"genomes/ani/data_tables/Cdb.csv\")[\"secondary_cluster\"].unique())"
   ]
  }
 ],
 "metadata": {
  "kernelspec": {
   "display_name": "Python 3",
   "language": "python",
   "name": "python3"
  },
  "language_info": {
   "codemirror_mode": {
    "name": "ipython",
    "version": 3
   },
   "file_extension": ".py",
   "mimetype": "text/x-python",
   "name": "python",
   "nbconvert_exporter": "python",
   "pygments_lexer": "ipython3",
   "version": "3.8.2"
  }
 },
 "nbformat": 4,
 "nbformat_minor": 4
}
