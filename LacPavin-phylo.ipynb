{
 "cells": [
  {
   "cell_type": "markdown",
   "metadata": {},
   "source": [
    "# Lac Pavin phylo"
   ]
  },
  {
   "cell_type": "code",
   "execution_count": 1,
   "metadata": {},
   "outputs": [],
   "source": [
    "import matplotlib, re, os, glob, datetime, difflib, random, time, math, json, wget\n",
    "import matplotlib.pyplot as plt\n",
    "import numpy as np\n",
    "import pandas as pd\n",
    "import seaborn as sns\n",
    "import subprocess as sp\n",
    "from collections import defaultdict\n",
    "sns.set('notebook')\n",
    "%matplotlib inline \n",
    "# hide warnings\n",
    "import warnings\n",
    "warnings.filterwarnings('ignore')\n",
    "from Bio import SeqIO, SeqUtils, SearchIO"
   ]
  },
  {
   "cell_type": "code",
   "execution_count": 2,
   "metadata": {},
   "outputs": [],
   "source": [
    "def cmdir(path):\n",
    "    if not os.path.isdir(path):\n",
    "        os.mkdir(path)\n",
    "\n",
    "def scaffold(gene):\n",
    "    if gene != \"None\":\n",
    "        try: return re.search(\"(.+?)_[0-9]+$\", gene).group(1)\n",
    "        except: print(gene)\n",
    "\n",
    "def encode(path):\n",
    "    return \"A\" + \"\".join(os.path.basename(path).split(\"_\")[1:3])      "
   ]
  },
  {
   "cell_type": "code",
   "execution_count": 3,
   "metadata": {},
   "outputs": [],
   "source": [
    "rootdir = \"/groups/banfield/projects/environmental/LacPavin/analysis/\""
   ]
  },
  {
   "cell_type": "markdown",
   "metadata": {},
   "source": [
    "# assign taxonomy"
   ]
  },
  {
   "cell_type": "markdown",
   "metadata": {},
   "source": [
    "### re-run gtdb-tk"
   ]
  },
  {
   "cell_type": "code",
   "execution_count": 10,
   "metadata": {},
   "outputs": [],
   "source": [
    "cmdir(rootdir + \"genomes/secondary_gtdbtk\")"
   ]
  },
  {
   "cell_type": "code",
   "execution_count": 11,
   "metadata": {},
   "outputs": [],
   "source": [
    "genomes = glob.glob(rootdir + \"genomes/final_genomes/*\")\n",
    "n = math.ceil(len(genomes)/5)\n",
    "\n",
    "for a, i in enumerate(range(0, len(genomes), n)):\n",
    "    with open(rootdir + \"genomes/secondary_gtdbtk/batch%d.txt\" %(a), \"w\") as out:\n",
    "        for genome in genomes[i:i + n]:\n",
    "            out.write(genome + \"\\t\" + os.path.basename(genome).split(\".fa\")[0] + \"\\n\")"
   ]
  },
  {
   "cell_type": "code",
   "execution_count": 13,
   "metadata": {},
   "outputs": [],
   "source": [
    "for batchfile in glob.glob(rootdir + \"genomes/secondary_gtdbtk/batch*.txt\"):\n",
    "    dirname = rootdir + \"genomes/secondary_gtdbtk/%s\" %(os.path.basename(batchfile).replace(\".txt\", \"\"))\n",
    "    call = \"sbatch --wrap '/shared/software/bin/gtdbtk classify_wf --cpus 48 -x .fa --batchfile %s --out_dir %s'\" %(batchfile, dirname)\n",
    "    #print(call)"
   ]
  },
  {
   "cell_type": "code",
   "execution_count": 699,
   "metadata": {},
   "outputs": [
    {
     "name": "stdout",
     "output_type": "stream",
     "text": [
      "gtdbtk classify_wf --cpus 20 -x .fa --batchfile /groups/banfield/projects/environmental/LacPavin/analysis/genomes/secondary_gtdbtk/batch5.txt --out_dir /groups/banfield/projects/environmental/LacPavin/analysis/genomes/secondary_gtdbtk/batch5/\n"
     ]
    }
   ],
   "source": [
    "# redo for alti\n",
    "with open(rootdir + \"genomes/secondary_gtdbtk/batch5.txt\", \"w\") as out:\n",
    "    out.write(\"/groups/banfield/projects/environmental/LacPavin/analysis/genomes/final_genomes/A0920SED5_metabat_386.refined.fa\\tA0920SED5_metabat_386.refined\")\n",
    "    \n",
    "call = \"gtdbtk classify_wf --cpus 20 -x .fa --batchfile %s --out_dir %s\" %(rootdir + \"genomes/secondary_gtdbtk/batch5.txt\", rootdir + \"genomes/secondary_gtdbtk/batch5/\")\n",
    "print(call)"
   ]
  },
  {
   "cell_type": "code",
   "execution_count": 4,
   "metadata": {},
   "outputs": [],
   "source": [
    "# parse\n",
    "gtresults = pd.concat([pd.read_csv(item, sep=\"\\t\") for item in glob.glob(rootdir + \"genomes/secondary_gtdbtk/batch*/gtdbtk.*.summary.tsv\")])\n",
    "# remove bad alti\n",
    "gtresults = gtresults[gtresults[\"user_genome\"] != \"A0920SED5_metabat_204.refined\"]\n",
    "gtresults[\"genome_slug\"] = gtresults[\"user_genome\"].apply(lambda x: x.replace(\".refined\", \"\").replace(\"_contigs\", \"\"))\n",
    "gtresults[\"phylum\"] = gtresults[\"classification\"].apply(lambda x: x.split(\";\")[1])"
   ]
  },
  {
   "cell_type": "code",
   "execution_count": 5,
   "metadata": {},
   "outputs": [
    {
     "data": {
      "text/plain": [
       "738"
      ]
     },
     "execution_count": 5,
     "metadata": {},
     "output_type": "execute_result"
    }
   ],
   "source": [
    "len(gtresults)"
   ]
  },
  {
   "cell_type": "markdown",
   "metadata": {},
   "source": [
    "### extract cpr/dpann"
   ]
  },
  {
   "cell_type": "code",
   "execution_count": 49,
   "metadata": {},
   "outputs": [],
   "source": [
    "cmdir(rootdir + \"phylo\")"
   ]
  },
  {
   "cell_type": "code",
   "execution_count": 704,
   "metadata": {},
   "outputs": [],
   "source": [
    "for group in [\"cpr\", \"dpann\"]:\n",
    "    \n",
    "    basedir = rootdir + \"phylo/\" + group + \"/\"\n",
    "    cmdir(basedir)\n",
    "    \n",
    "    if group == \"cpr\":\n",
    "        phyla = [\"p__Patescibacteria\"]\n",
    "    else:\n",
    "        phyla = [\"p__Nanoarchaeota\", \"p__Huberarchaeota\", \"p__UAP2\", \"p__EX4484-52\",\n",
    "                \"p__Nanohaloarchaeota\", \"p__Iainarchaeota\", \n",
    "                \"p__Aenigmatarchaeota\", \"p__Micrarchaeota\"]\n",
    "    \n",
    "    # copy over proteomes\n",
    "    cmdir(basedir + \"/proteins\")\n",
    "    all_proteins = open(basedir + \"all_\" + group + \"_proteins.faa\", \"w\")\n",
    "    \n",
    "    for key, row in gtresults[(gtresults[\"phylum\"].isin(phyla))].iterrows():\n",
    "        \n",
    "        ppath = glob.glob(rootdir + \"genomes/secondary_gtdbtk/batch*/identify/\" + \\\n",
    "            \"intermediate_results/marker_genes/\" + row[\"user_genome\"] + \"/*_protein.faa\")\n",
    "        \n",
    "        with open(basedir + \"proteins/\" + row[\"user_genome\"].split(\".\")[0] + \".faa\", \"w\") as out:\n",
    "            for record in SeqIO.parse(open(ppath[0]), 'fasta'):\n",
    "                out.write(\">%s\\n%s\\n\" %(record.description, str(record.seq)))\n",
    "                all_proteins.write(\">%s\\n%s\\n\" %(record.description, str(record.seq)))\n",
    "    \n",
    "    all_proteins.close()"
   ]
  },
  {
   "cell_type": "markdown",
   "metadata": {},
   "source": [
    "### build hmm set"
   ]
  },
  {
   "cell_type": "code",
   "execution_count": 705,
   "metadata": {},
   "outputs": [
    {
     "data": {
      "text/html": [
       "<div>\n",
       "<style scoped>\n",
       "    .dataframe tbody tr th:only-of-type {\n",
       "        vertical-align: middle;\n",
       "    }\n",
       "\n",
       "    .dataframe tbody tr th {\n",
       "        vertical-align: top;\n",
       "    }\n",
       "\n",
       "    .dataframe thead th {\n",
       "        text-align: right;\n",
       "    }\n",
       "</style>\n",
       "<table border=\"1\" class=\"dataframe\">\n",
       "  <thead>\n",
       "    <tr style=\"text-align: right;\">\n",
       "      <th></th>\n",
       "      <th>knum</th>\n",
       "      <th>threshold</th>\n",
       "      <th>score_type</th>\n",
       "      <th>profile_type</th>\n",
       "      <th>F-measure</th>\n",
       "      <th>nseq</th>\n",
       "      <th>nseq_used</th>\n",
       "      <th>alen</th>\n",
       "      <th>mlen</th>\n",
       "      <th>eff_nseq</th>\n",
       "      <th>re/pos</th>\n",
       "      <th>definition</th>\n",
       "    </tr>\n",
       "  </thead>\n",
       "  <tbody>\n",
       "    <tr>\n",
       "      <th>0</th>\n",
       "      <td>K00001</td>\n",
       "      <td>323.77</td>\n",
       "      <td>domain</td>\n",
       "      <td>trim</td>\n",
       "      <td>0.229197</td>\n",
       "      <td>1509</td>\n",
       "      <td>1102</td>\n",
       "      <td>1939</td>\n",
       "      <td>401</td>\n",
       "      <td>19.80</td>\n",
       "      <td>0.590</td>\n",
       "      <td>alcohol dehydrogenase [EC:1.1.1.1]</td>\n",
       "    </tr>\n",
       "    <tr>\n",
       "      <th>1</th>\n",
       "      <td>K00002</td>\n",
       "      <td>420.60</td>\n",
       "      <td>domain</td>\n",
       "      <td>all</td>\n",
       "      <td>0.561215</td>\n",
       "      <td>1413</td>\n",
       "      <td>1367</td>\n",
       "      <td>4257</td>\n",
       "      <td>610</td>\n",
       "      <td>6.91</td>\n",
       "      <td>0.590</td>\n",
       "      <td>alcohol dehydrogenase (NADP+) [EC:1.1.1.2]</td>\n",
       "    </tr>\n",
       "    <tr>\n",
       "      <th>2</th>\n",
       "      <td>K00003</td>\n",
       "      <td>255.57</td>\n",
       "      <td>domain</td>\n",
       "      <td>all</td>\n",
       "      <td>0.961331</td>\n",
       "      <td>4464</td>\n",
       "      <td>3637</td>\n",
       "      <td>2225</td>\n",
       "      <td>484</td>\n",
       "      <td>6.39</td>\n",
       "      <td>0.590</td>\n",
       "      <td>homoserine dehydrogenase [EC:1.1.1.3]</td>\n",
       "    </tr>\n",
       "    <tr>\n",
       "      <th>3</th>\n",
       "      <td>K00004</td>\n",
       "      <td>366.27</td>\n",
       "      <td>domain</td>\n",
       "      <td>all</td>\n",
       "      <td>0.917917</td>\n",
       "      <td>939</td>\n",
       "      <td>732</td>\n",
       "      <td>809</td>\n",
       "      <td>363</td>\n",
       "      <td>3.72</td>\n",
       "      <td>0.590</td>\n",
       "      <td>(R,R)-butanediol dehydrogenase / meso-butanedi...</td>\n",
       "    </tr>\n",
       "    <tr>\n",
       "      <th>4</th>\n",
       "      <td>K00005</td>\n",
       "      <td>344.47</td>\n",
       "      <td>full</td>\n",
       "      <td>all</td>\n",
       "      <td>0.906934</td>\n",
       "      <td>1523</td>\n",
       "      <td>1093</td>\n",
       "      <td>826</td>\n",
       "      <td>387</td>\n",
       "      <td>3.06</td>\n",
       "      <td>0.590</td>\n",
       "      <td>glycerol dehydrogenase [EC:1.1.1.6]</td>\n",
       "    </tr>\n",
       "  </tbody>\n",
       "</table>\n",
       "</div>"
      ],
      "text/plain": [
       "     knum threshold score_type profile_type F-measure  nseq nseq_used  alen  \\\n",
       "0  K00001    323.77     domain         trim  0.229197  1509      1102  1939   \n",
       "1  K00002    420.60     domain          all  0.561215  1413      1367  4257   \n",
       "2  K00003    255.57     domain          all  0.961331  4464      3637  2225   \n",
       "3  K00004    366.27     domain          all  0.917917   939       732   809   \n",
       "4  K00005    344.47       full          all  0.906934  1523      1093   826   \n",
       "\n",
       "  mlen eff_nseq re/pos                                         definition  \n",
       "0  401    19.80  0.590                 alcohol dehydrogenase [EC:1.1.1.1]  \n",
       "1  610     6.91  0.590         alcohol dehydrogenase (NADP+) [EC:1.1.1.2]  \n",
       "2  484     6.39  0.590              homoserine dehydrogenase [EC:1.1.1.3]  \n",
       "3  363     3.72  0.590  (R,R)-butanediol dehydrogenase / meso-butanedi...  \n",
       "4  387     3.06  0.590                glycerol dehydrogenase [EC:1.1.1.6]  "
      ]
     },
     "execution_count": 705,
     "metadata": {},
     "output_type": "execute_result"
    }
   ],
   "source": [
    "kegg = pd.read_csv(\"/shared/software/kofamscan/latest/db/ko_list\", sep=\"\\t\")\n",
    "kegg.head()"
   ]
  },
  {
   "cell_type": "code",
   "execution_count": 706,
   "metadata": {},
   "outputs": [],
   "source": [
    "kegg_hmms = {}\n",
    "\n",
    "for group in [\"cpr\", \"dpann\"]:\n",
    "    \n",
    "    if group == \"cpr\":\n",
    "        hmm_list = [\"L2\", \"L3\", \"L4\", \"L5\", \"L6\", \"L14\", \"L16\",\n",
    "            \"L15\", \"L18\", \"L22\", \"L24\", \"S3\", \"S8\", \"S10\", \"S17\",\"S19\"]\n",
    "    else:\n",
    "        hmm_list = [\"L2\", \"L3\", \"L4e\", \"L5e\", \"L6\", \"L14\", \n",
    "            \"L15e\", \"L18\", \"L22\", \"L24e\", \"S3\", \"S8e\", \"S17\",\"S19e\"]\n",
    "    \n",
    "    with open(rootdir + \"phylo/\" + group + \"/hmm_list.tsv\", \"w\") as out:\n",
    "        out.write(\"hmm_path\\tthreshold\\n\")\n",
    "        kegg_hmms[group] = {}\n",
    "        for hmm in hmm_list:\n",
    "            size = \"small\" if \"S\" in hmm else \"large\"\n",
    "            subtable = kegg[kegg[\"definition\"] == size + \" subunit ribosomal protein \" + hmm]\n",
    "            hmm_path = glob.glob(\"/shared/software/kofamscan/latest/db/profiles/\" + \\\n",
    "                subtable[\"knum\"].iloc[0] + \".hmm\")\n",
    "            out.write(\"%s\\t%s\\n\" %(hmm_path[0], subtable[\"threshold\"].iloc[0]))\n",
    "            kegg_hmms[group][hmm.replace(\"e\",\"\")] = subtable[\"knum\"].iloc[0]"
   ]
  },
  {
   "cell_type": "markdown",
   "metadata": {},
   "source": [
    "### prep ref files"
   ]
  },
  {
   "cell_type": "code",
   "execution_count": 707,
   "metadata": {},
   "outputs": [],
   "source": [
    "cmdir(rootdir + \"phylo/cpr/refs\")\n",
    "cmdir(rootdir + \"phylo/dpann/refs\")"
   ]
  },
  {
   "cell_type": "code",
   "execution_count": 708,
   "metadata": {},
   "outputs": [],
   "source": [
    "# make dicts\n",
    "hmm_dict = {\"PF00410\": \"rpS8\",\"PF00281\":\"rpL5\",\"TIGR00060\":\"rpL18\",\"TIGR01009\":\"rpS3\",\n",
    "            \"TIGR01044\":\"rpL22\",\"TIGR01049\":\"rpS10\",\"TIGR01050\":\"rpS19\",\"TIGR01067\":\"rpL14\",\n",
    "            \"TIGR01071\":\"rpL15\",\"TIGR01079\":\"rpL24\",\"TIGR01164\":\"rpL16\",\"TIGR01171\":\"rpL2\",\n",
    "            \"TIGR03625\":\"rpL3\",\"TIGR03635\":\"rpS17\",\"TIGR03654\":\"rpL6\",\"TIGR03953\":\"rpL4\"}"
   ]
  },
  {
   "cell_type": "code",
   "execution_count": 233,
   "metadata": {},
   "outputs": [],
   "source": [
    "# cpr - from Jaffe et al. 2020\n",
    "scaf2bin = {}\n",
    "\n",
    "for genome in glob.glob(\"/groups/banfield/users/ajaffe/cpr-dpann/nr-set-complete/dRep-workspace-95/dereplicated_genomes/*\"):\n",
    "    genome_name = os.path.basename(genome).split(\".\")[0]\n",
    "    for record in SeqIO.parse(open(genome, \"r\"), \"fasta\"):\n",
    "        if \"UBA\" in genome_name:\n",
    "            scaf_name = genome_name + \"_\" + record.description\n",
    "        else: scaf_name = record.description.split(\" \")[0]\n",
    "        scaf2bin[scaf_name] = genome_name\n",
    "        \n",
    "for file in glob.glob(\"/groups/banfield/users/ajaffe/cpr-dpann/nr-set-complete/trees/bac175_outgroup/[PT]*.faa\"):\n",
    "    \n",
    "    name = os.path.basename(file).split(\".\")[0]\n",
    "    \n",
    "    if name in hmm_dict.keys():\n",
    "        keggname = kegg_hmms[\"cpr\"][hmm_dict[name].replace(\"rp\", \"\")]\n",
    "        with open(rootdir + \"phylo/cpr/refs/\" + keggname + \".CPRREF.faa\", \"w\") as out:\n",
    "            for record in SeqIO.parse(open(file), \"fasta\"):\n",
    "                if \"@\" in record.description:\n",
    "                    bin = record.description.split(\"@\")[0]\n",
    "                elif scaffold(record.description.split(\" \")[0]) in scaf2bin.keys():\n",
    "                    bin = scaf2bin[scaffold(record.description.split(\" \")[0])]\n",
    "                else: continue      \n",
    "                out.write(\">%s\\n%s\\n\" %(bin, str(record.seq)))"
   ]
  },
  {
   "cell_type": "code",
   "execution_count": 709,
   "metadata": {},
   "outputs": [],
   "source": [
    "# dpann - from Castelle et al. 2021\n",
    "metadata = pd.read_csv(rootdir + \"phylo/dpann/castelle_table_s1.tsv\", sep=\"\\t\")\n",
    "metadata[\"genome_name_clean\"] = metadata[\"genome_name\"].apply(lambda x: x.split(\" \")[0])\n",
    "# only take representative dpann and crens as outgroup\n",
    "include_df = metadata[(metadata[\"representative genome\"]==\"representative\") & \n",
    "    ((metadata[\"DPANN/non-DPANN\"]==\"DPANN\") | (metadata[\"genome_name\"].str.contains(\"Cren\")))]\n",
    "\n",
    "for file in glob.glob(\"/groups/banfield/projects/multienv/proteinfams/DPANN/dataset/16RP/fasta/*.fa\"):\n",
    "\n",
    "    name = os.path.basename(file).split(\".\")[0]\n",
    "    keggname = kegg_hmms[\"dpann\"][name]\n",
    "    \n",
    "    with open(rootdir + \"phylo/dpann/refs/\" + keggname + \".DPREF.faa\", \"w\") as out:\n",
    "        for record in SeqIO.parse(open(file), \"fasta\"):\n",
    "            if record.description in include_df[\"genome_name_clean\"].to_list():\n",
    "                out.write(\">%s\\n%s\\n\" %(record.description, str(record.seq)))"
   ]
  },
  {
   "cell_type": "markdown",
   "metadata": {},
   "source": [
    "Then head on over to rp16_pipeline.ipynb."
   ]
  },
  {
   "cell_type": "markdown",
   "metadata": {},
   "source": [
    "### annotate trees"
   ]
  },
  {
   "cell_type": "code",
   "execution_count": 751,
   "metadata": {},
   "outputs": [],
   "source": [
    "color_dict = {\"Woesearchaeota\": \"#FDCEAD\", \"Woesearchaeota-like I\": \"#5D8EB5\",\n",
    "             \"Woesearchaeota-like II\":\"#F4E1B5\", \"Pacearchaeota\": \"#E1F5E1\",\n",
    "             \"Mamarchaeota\": \"#E88BA0\", \"Parvarchaeota\": \"#4BD7F1\",\n",
    "             \"Nanoarchaeota\": \"#7949D6\", \"Kleinarchaeota\": \"#9400D3\",\n",
    "             \"Nanohaloarchaeota\": \"#378AB9\", \"Huberarchaeota\": \"#F70808\",\n",
    "             \"Aenigmarchaeota\": \"#F5F5D8\", \"DPANN_UAP\": \"#C5C8CF\", \"Diapherotrites\": \"#AFD3BF\",\n",
    "             \"Micrarchaeota\": \"#F4F2A8\"}"
   ]
  },
  {
   "cell_type": "code",
   "execution_count": 752,
   "metadata": {},
   "outputs": [],
   "source": [
    "# decorate the tree\n",
    "itol = open(rootdir + \"phylo/dpann/dpann.itol.txt\", \"w\")\n",
    "itol.write(\"TREE_COLORS\\nSEPARATOR TAB\\nDATA\\n\")\n",
    "\n",
    "for key, row in include_df.iterrows():\n",
    "    color = color_dict[row[\"lineage\"]] if row[\"lineage\"] in color_dict.keys() else \"lightgrey\"\n",
    "    label = row[\"lineage\"]\n",
    "    itol.write(row[\"genome_name_clean\"] + \"\\trange\\t\" + color + \"\\t\" + label + \"\\n\")\n",
    "itol.close()"
   ]
  },
  {
   "cell_type": "code",
   "execution_count": 8,
   "metadata": {},
   "outputs": [],
   "source": [
    "cprmd = pd.read_csv(rootdir + \"phylo/cpr/jaffe_et_al_s1.tsv\", sep=\"\\t\")\n",
    "cprcolor = {item: random.sample(sns.color_palette(\"Set2\").as_hex(), 1)[0] for item in cprmd[\"revised_tax\"].unique()}"
   ]
  },
  {
   "cell_type": "code",
   "execution_count": 272,
   "metadata": {},
   "outputs": [],
   "source": [
    "# decorate the tree\n",
    "itol = open(rootdir + \"phylo/cpr/cpr.itol.txt\", \"w\")\n",
    "itol.write(\"TREE_COLORS\\nSEPARATOR TAB\\nDATA\\n\")\n",
    "\n",
    "for key, row in cprmd.iterrows():\n",
    "    color = cprcolor[row[\"revised_tax\"]] if row[\"revised_tax\"] in cprcolor.keys() else \"lightgrey\"\n",
    "    label = row[\"revised_tax\"]\n",
    "    itol.write(row[\"name\"] + \"\\trange\\t\" + color + \"\\t\" + label + \"\\n\")\n",
    "itol.close()"
   ]
  },
  {
   "cell_type": "code",
   "execution_count": 257,
   "metadata": {},
   "outputs": [],
   "source": [
    "# make input spreadsheet\n",
    "cpr_dpann = [os.path.basename(item).split(\".\")[0] + \".refined\" \n",
    "    for item in glob.glob(rootdir + \"phylo/*/proteins/*\")]\n",
    "gtresults[gtresults[\"user_genome\"].isin(cpr_dpann)][[\"user_genome\", \"classification\"]].sort_values(\"classification\").to_csv(rootdir + \"phylo/input.tsv\", index=False, sep=\"\\t\")"
   ]
  },
  {
   "cell_type": "code",
   "execution_count": 6,
   "metadata": {},
   "outputs": [
    {
     "data": {
      "text/html": [
       "<div>\n",
       "<style scoped>\n",
       "    .dataframe tbody tr th:only-of-type {\n",
       "        vertical-align: middle;\n",
       "    }\n",
       "\n",
       "    .dataframe tbody tr th {\n",
       "        vertical-align: top;\n",
       "    }\n",
       "\n",
       "    .dataframe thead th {\n",
       "        text-align: right;\n",
       "    }\n",
       "</style>\n",
       "<table border=\"1\" class=\"dataframe\">\n",
       "  <thead>\n",
       "    <tr style=\"text-align: right;\">\n",
       "      <th></th>\n",
       "      <th>user_genome</th>\n",
       "      <th>classification</th>\n",
       "      <th>manual</th>\n",
       "      <th>genome_slug</th>\n",
       "    </tr>\n",
       "  </thead>\n",
       "  <tbody>\n",
       "    <tr>\n",
       "      <th>0</th>\n",
       "      <td>A0920SED5_metabat_64.refined</td>\n",
       "      <td>d__Archaea;p__Aenigmatarchaeota;c__Aenigmatarc...</td>\n",
       "      <td>Aenigmarchaeota</td>\n",
       "      <td>A0920SED5_metabat_64</td>\n",
       "    </tr>\n",
       "    <tr>\n",
       "      <th>1</th>\n",
       "      <td>A0920SED3_metabat_194.refined</td>\n",
       "      <td>d__Archaea;p__Aenigmatarchaeota;c__Aenigmatarc...</td>\n",
       "      <td>Aenigmarchaeota</td>\n",
       "      <td>A0920SED3_metabat_194</td>\n",
       "    </tr>\n",
       "    <tr>\n",
       "      <th>2</th>\n",
       "      <td>A0920SED5_metabat_132.refined</td>\n",
       "      <td>d__Archaea;p__Aenigmatarchaeota;c__Aenigmatarc...</td>\n",
       "      <td>Aenigmarchaeota</td>\n",
       "      <td>A0920SED5_metabat_132</td>\n",
       "    </tr>\n",
       "    <tr>\n",
       "      <th>3</th>\n",
       "      <td>A0920SED5_metabat_449.refined</td>\n",
       "      <td>d__Archaea;p__Aenigmatarchaeota;c__Aenigmatarc...</td>\n",
       "      <td>Aenigmarchaeota</td>\n",
       "      <td>A0920SED5_metabat_449</td>\n",
       "    </tr>\n",
       "    <tr>\n",
       "      <th>4</th>\n",
       "      <td>A0920SED5_metabat_1.refined</td>\n",
       "      <td>d__Archaea;p__Aenigmatarchaeota;c__Aenigmatarc...</td>\n",
       "      <td>Aenigmarchaeota</td>\n",
       "      <td>A0920SED5_metabat_1</td>\n",
       "    </tr>\n",
       "  </tbody>\n",
       "</table>\n",
       "</div>"
      ],
      "text/plain": [
       "                     user_genome  \\\n",
       "0   A0920SED5_metabat_64.refined   \n",
       "1  A0920SED3_metabat_194.refined   \n",
       "2  A0920SED5_metabat_132.refined   \n",
       "3  A0920SED5_metabat_449.refined   \n",
       "4    A0920SED5_metabat_1.refined   \n",
       "\n",
       "                                      classification           manual  \\\n",
       "0  d__Archaea;p__Aenigmatarchaeota;c__Aenigmatarc...  Aenigmarchaeota   \n",
       "1  d__Archaea;p__Aenigmatarchaeota;c__Aenigmatarc...  Aenigmarchaeota   \n",
       "2  d__Archaea;p__Aenigmatarchaeota;c__Aenigmatarc...  Aenigmarchaeota   \n",
       "3  d__Archaea;p__Aenigmatarchaeota;c__Aenigmatarc...  Aenigmarchaeota   \n",
       "4  d__Archaea;p__Aenigmatarchaeota;c__Aenigmatarc...  Aenigmarchaeota   \n",
       "\n",
       "             genome_slug  \n",
       "0   A0920SED5_metabat_64  \n",
       "1  A0920SED3_metabat_194  \n",
       "2  A0920SED5_metabat_132  \n",
       "3  A0920SED5_metabat_449  \n",
       "4    A0920SED5_metabat_1  "
      ]
     },
     "execution_count": 6,
     "metadata": {},
     "output_type": "execute_result"
    }
   ],
   "source": [
    "# read curated output\n",
    "cpr_dpann_curated = pd.read_csv(rootdir + \"phylo/output.tsv\", sep=\"\\t\")\n",
    "cpr_dpann_curated[\"genome_slug\"] = cpr_dpann_curated[\"user_genome\"].apply(lambda x: x.replace(\".refined\", \"\").replace(\"_contigs\", \"\"))\n",
    "cpr_dpann_curated.head()"
   ]
  },
  {
   "cell_type": "markdown",
   "metadata": {},
   "source": [
    "### re-annotate for figure"
   ]
  },
  {
   "cell_type": "code",
   "execution_count": 6,
   "metadata": {},
   "outputs": [
    {
     "data": {
      "text/plain": [
       "{'Parcubacteria_3': '#8dd3c7',\n",
       " 'Parcubacteria_4': '#ffffb3',\n",
       " 'Peregrinibacteria': '#bebada',\n",
       " 'other': 'lightgrey',\n",
       " 'Absconditabacteria': '#80b1d3',\n",
       " 'Saccharibacteria': '#fdb462',\n",
       " 'Parcubacteria_1': '#b3de69',\n",
       " 'Berkelbacteria': '#fccde5',\n",
       " 'Parcubacteria_2': '#d9d9d9',\n",
       " 'Moranbacteria': '#bc80bd',\n",
       " 'Microgenomates': '#ccebc5'}"
      ]
     },
     "execution_count": 6,
     "metadata": {},
     "output_type": "execute_result"
    }
   ],
   "source": [
    "# read in new color palette\n",
    "new_palette = {row[\"lineage\"]: row[\"color\"] for key, row in pd.read_csv(rootdir + \"tables/cpr_colors.tsv\", sep=\"\\t\").iterrows()}\n",
    "new_palette"
   ]
  },
  {
   "cell_type": "code",
   "execution_count": 31,
   "metadata": {},
   "outputs": [
    {
     "data": {
      "text/html": [
       "<div>\n",
       "<style scoped>\n",
       "    .dataframe tbody tr th:only-of-type {\n",
       "        vertical-align: middle;\n",
       "    }\n",
       "\n",
       "    .dataframe tbody tr th {\n",
       "        vertical-align: top;\n",
       "    }\n",
       "\n",
       "    .dataframe thead th {\n",
       "        text-align: right;\n",
       "    }\n",
       "</style>\n",
       "<table border=\"1\" class=\"dataframe\">\n",
       "  <thead>\n",
       "    <tr style=\"text-align: right;\">\n",
       "      <th></th>\n",
       "      <th>lineage</th>\n",
       "      <th>group</th>\n",
       "    </tr>\n",
       "  </thead>\n",
       "  <tbody>\n",
       "    <tr>\n",
       "      <th>0</th>\n",
       "      <td>Dojkabacteria</td>\n",
       "      <td>None</td>\n",
       "    </tr>\n",
       "    <tr>\n",
       "      <th>1</th>\n",
       "      <td>WWE3</td>\n",
       "      <td>Katanobacteria (WWE3)</td>\n",
       "    </tr>\n",
       "    <tr>\n",
       "      <th>2</th>\n",
       "      <td>Woykebacteria</td>\n",
       "      <td>Microgenomates</td>\n",
       "    </tr>\n",
       "    <tr>\n",
       "      <th>3</th>\n",
       "      <td>Curtissbacteria</td>\n",
       "      <td>Microgenomates</td>\n",
       "    </tr>\n",
       "    <tr>\n",
       "      <th>4</th>\n",
       "      <td>Daviesbacteria</td>\n",
       "      <td>Microgenomates</td>\n",
       "    </tr>\n",
       "  </tbody>\n",
       "</table>\n",
       "</div>"
      ],
      "text/plain": [
       "           lineage                  group\n",
       "0    Dojkabacteria                   None\n",
       "1             WWE3  Katanobacteria (WWE3)\n",
       "2    Woykebacteria         Microgenomates\n",
       "3  Curtissbacteria         Microgenomates\n",
       "4   Daviesbacteria         Microgenomates"
      ]
     },
     "execution_count": 31,
     "metadata": {},
     "output_type": "execute_result"
    }
   ],
   "source": [
    "# read in tree order\n",
    "tree_order = pd.read_csv(\"/groups/banfield/users/ajaffe/cpr-dpann/nr-set-complete/trees/tree_order.txt\", header=None).fillna(\"None\")\n",
    "tree_order.columns = [\"lineage\", \"group\"]\n",
    "tree_order.head()"
   ]
  },
  {
   "cell_type": "code",
   "execution_count": 34,
   "metadata": {},
   "outputs": [
    {
     "data": {
      "text/html": [
       "<div>\n",
       "<style scoped>\n",
       "    .dataframe tbody tr th:only-of-type {\n",
       "        vertical-align: middle;\n",
       "    }\n",
       "\n",
       "    .dataframe tbody tr th {\n",
       "        vertical-align: top;\n",
       "    }\n",
       "\n",
       "    .dataframe thead th {\n",
       "        text-align: right;\n",
       "    }\n",
       "</style>\n",
       "<table border=\"1\" class=\"dataframe\">\n",
       "  <thead>\n",
       "    <tr style=\"text-align: right;\">\n",
       "      <th></th>\n",
       "      <th>name</th>\n",
       "      <th>revised_tax</th>\n",
       "      <th>lineage</th>\n",
       "      <th>group</th>\n",
       "      <th>revised_group</th>\n",
       "    </tr>\n",
       "  </thead>\n",
       "  <tbody>\n",
       "    <tr>\n",
       "      <th>0</th>\n",
       "      <td>BJP_IG2102_PER_44_74_final</td>\n",
       "      <td>Peregrinibacteria</td>\n",
       "      <td>Peregrinibacteria</td>\n",
       "      <td>Peregrinibacteria</td>\n",
       "      <td>Peregrinibacteria</td>\n",
       "    </tr>\n",
       "    <tr>\n",
       "      <th>1</th>\n",
       "      <td>BJP_08E140C01_Falkowbacteria_33_19_curated</td>\n",
       "      <td>Falkowbacteria</td>\n",
       "      <td>Falkowbacteria</td>\n",
       "      <td>Parcubacteria_1</td>\n",
       "      <td>Parcubacteria_1</td>\n",
       "    </tr>\n",
       "    <tr>\n",
       "      <th>2</th>\n",
       "      <td>BJP_IG2103_TM7_39_1400_curated</td>\n",
       "      <td>Saccharibacteria</td>\n",
       "      <td>Saccharibacteria</td>\n",
       "      <td>Saccharibacteria</td>\n",
       "      <td>Saccharibacteria</td>\n",
       "    </tr>\n",
       "    <tr>\n",
       "      <th>3</th>\n",
       "      <td>UBA661</td>\n",
       "      <td>Kaiserbacteria</td>\n",
       "      <td>Kaiserbacteria</td>\n",
       "      <td>Parcubacteria_4</td>\n",
       "      <td>Parcubacteria_4</td>\n",
       "    </tr>\n",
       "    <tr>\n",
       "      <th>4</th>\n",
       "      <td>UBA669</td>\n",
       "      <td>Saccharibacteria</td>\n",
       "      <td>Saccharibacteria</td>\n",
       "      <td>Saccharibacteria</td>\n",
       "      <td>Saccharibacteria</td>\n",
       "    </tr>\n",
       "  </tbody>\n",
       "</table>\n",
       "</div>"
      ],
      "text/plain": [
       "                                         name        revised_tax  \\\n",
       "0                  BJP_IG2102_PER_44_74_final  Peregrinibacteria   \n",
       "1  BJP_08E140C01_Falkowbacteria_33_19_curated     Falkowbacteria   \n",
       "2              BJP_IG2103_TM7_39_1400_curated   Saccharibacteria   \n",
       "3                                      UBA661     Kaiserbacteria   \n",
       "4                                      UBA669   Saccharibacteria   \n",
       "\n",
       "             lineage              group      revised_group  \n",
       "0  Peregrinibacteria  Peregrinibacteria  Peregrinibacteria  \n",
       "1     Falkowbacteria    Parcubacteria_1    Parcubacteria_1  \n",
       "2   Saccharibacteria   Saccharibacteria   Saccharibacteria  \n",
       "3     Kaiserbacteria    Parcubacteria_4    Parcubacteria_4  \n",
       "4   Saccharibacteria   Saccharibacteria   Saccharibacteria  "
      ]
     },
     "execution_count": 34,
     "metadata": {},
     "output_type": "execute_result"
    }
   ],
   "source": [
    "cprmd_sub = cprmd[[\"name\", \"revised_tax\"]]\n",
    "curated_sub = cpr_dpann_curated[cpr_dpann_curated[\"classification\"].str.contains(\"Patescibacteria\")][[\"genome_slug\", \"manual\"]]\n",
    "curated_sub.columns = [\"name\", \"revised_tax\"]\n",
    "combined = pd.concat([cprmd_sub, curated_sub])\n",
    "combined = combined.merge(tree_order, how=\"left\", left_on=\"revised_tax\", right_on=\"lineage\").fillna(\"None\")\n",
    "combined[\"revised_group\"] = combined.apply(lambda x: x[\"group\"] if x[\"group\"]!=\"None\" else x[\"revised_tax\"], axis=1)\n",
    "combined.head()"
   ]
  },
  {
   "cell_type": "code",
   "execution_count": 57,
   "metadata": {},
   "outputs": [],
   "source": [
    "# temporary fixes\n",
    "adds = {\"Parcubacteria_1\": (\"Candidatus_Jacksonbacteria_bacterium_RIFCSPLOWO2_01_FULL_44_13\", \"CG_4_10_14_0_8_um_filter_cor_Magasanikbacteria_OD1_42_12_curated\"),\n",
    "       \"Parcubacteria_2\": (\"Candidatus_Spechtbacteria_bacterium_RIFCSPHIGHO2_02_FULL_43_15b\", \"CG08_land_8_20_14_0_20_Nealsonbacteria_OD1_38_20_curated\"),\n",
    "       \"Parcubacteria_3\": (\"A0920SED4_metabat_56\", \"CG10_big_fil_rev_8_21_14_0_10_Harrisonbacteria_OD1_45_28_curated\"),\n",
    "       \"Parcubacteria_4\": (\"Parcubacteria_group_bacterium_RIFCSPHIGHO2_01_FULL_45_26\", \"A0920WC90_metabat_50\")}"
   ]
  },
  {
   "cell_type": "code",
   "execution_count": 60,
   "metadata": {},
   "outputs": [],
   "source": [
    "# decorate the tree\n",
    "itol = open(rootdir + \"figures/cpr.itol.final.txt\", \"w\")\n",
    "itol.write(\"TREE_COLORS\\nSEPARATOR TAB\\nDATA\\n\")\n",
    "\n",
    "for key, row in combined.iterrows():\n",
    "    if \"Parcubacteria\" not in row[\"revised_group\"]:\n",
    "        color = new_palette[row[\"revised_group\"]] if row[\"revised_group\"] in new_palette else \"white\"\n",
    "        label = row[\"revised_group\"]\n",
    "        if \"Lac\" in row[\"name\"]:\n",
    "                newname = row[\"name\"] + \"_contigs\"\n",
    "        else: newname = row[\"name\"]\n",
    "        itol.write(newname + \"\\trange\\t\" + color + \"\\t\" + label + \"\\n\")\n",
    "    \n",
    "for key in adds.keys():\n",
    "    color = new_palette[key]\n",
    "    itol.write(adds[key][0] + \"|\" + adds[key][1] + \"\\trange\\t\" + color + \"\\t\" + key + \"\\n\")\n",
    "itol.close()"
   ]
  },
  {
   "cell_type": "code",
   "execution_count": 56,
   "metadata": {},
   "outputs": [],
   "source": [
    "# make points to single out LP genomes\n",
    "symbols = open(rootdir + \"figures/cpr.itol.symbols.txt\", \"w\")\n",
    "symbols.write(\"DATASET_BINARY\\nSEPARATOR COMMA\\nDATASET_LABEL,LP\\nCOLOR, \\\n",
    "    #ffff00\\nFIELD_SHAPES,2\\nFIELD_LABELS,LP\\nDATA\\n\")\n",
    "\n",
    "for key, row in combined.iterrows():\n",
    "    if (\"Lac\" in row[\"name\"]) or (\"A0\" in row[\"name\"]):\n",
    "        if \"Lac\" in row[\"name\"]:\n",
    "            newname = row[\"name\"] + \"_contigs\"\n",
    "        else: newname = row[\"name\"]\n",
    "        symbols.write(newname + \",1\\n\")\n",
    "symbols.close()"
   ]
  },
  {
   "cell_type": "markdown",
   "metadata": {},
   "source": [
    "# finalize"
   ]
  },
  {
   "cell_type": "code",
   "execution_count": 309,
   "metadata": {},
   "outputs": [],
   "source": [
    "cmdir(rootdir + \"ggkbase/dropped_scaf_rebin\")"
   ]
  },
  {
   "cell_type": "markdown",
   "metadata": {},
   "source": [
    "### batch rebin dropped scafs"
   ]
  },
  {
   "cell_type": "code",
   "execution_count": 712,
   "metadata": {},
   "outputs": [],
   "source": [
    "samplescafs = {}\n",
    "count=0\n",
    "\n",
    "for bin in glob.glob(rootdir + \"genomes/prelim_genomes/*\"):\n",
    "        \n",
    "    # get sample identifier\n",
    "    if \"LacPavin\" in os.path.basename(bin):\n",
    "        slug = \"_\".join(os.path.basename(bin).split(\"_\")[0:3])\n",
    "    else:\n",
    "        m = re.search(\"A([0-9]*)([A-Z0-9]*)\", os.path.basename(bin))\n",
    "        slug = \"LacPavin_%s_%s\" %(m.group(1), m.group(2))\n",
    "\n",
    "    # find new genome\n",
    "    new_genome = glob.glob(rootdir + \"genomes/final_genomes/\" + \\\n",
    "        os.path.basename(bin).split(\".fa\")[0].replace(\".\", \"_\") + \".*\")\n",
    "\n",
    "    if len(new_genome) == 1:\n",
    "\n",
    "        old_scafs = [record.description.split(\" \")[0] for record in SeqIO.parse(open(bin), \"fasta\")]\n",
    "        new_scafs = [record.description.split(\" \")[0] for record in SeqIO.parse(open(new_genome[0]), \"fasta\")]\n",
    "        scafdif = set(old_scafs).difference(new_scafs)\n",
    "\n",
    "        if slug not in samplescafs.keys():\n",
    "            samplescafs[slug] = list(scafdif)\n",
    "        else: samplescafs[slug] += list(scafdif)"
   ]
  },
  {
   "cell_type": "code",
   "execution_count": 316,
   "metadata": {},
   "outputs": [],
   "source": [
    "for sample in samplescafs.keys():\n",
    "    with open(rootdir + \"ggkbase/dropped_scaf_rebin/\" + sample + \".tsv\", \"w\") as out:\n",
    "        for scaf in samplescafs[sample]:\n",
    "            out.write(\"%s\\n\" %(scaf))"
   ]
  },
  {
   "cell_type": "markdown",
   "metadata": {},
   "source": [
    "### merge and rename organisms"
   ]
  },
  {
   "cell_type": "code",
   "execution_count": 561,
   "metadata": {},
   "outputs": [],
   "source": [
    "import string\n",
    "cmdir(rootdir + \"ggkbase/refined_org_tables\")"
   ]
  },
  {
   "cell_type": "code",
   "execution_count": 730,
   "metadata": {},
   "outputs": [],
   "source": [
    "orgtables = pd.concat([pd.read_csv(item, sep=\"\\t\") for item in glob.glob(rootdir + \"ggkbase/refined_org_tables/*\")])\n",
    "orgsub = orgtables[[\"name\", \"binning project\", \"taxonomy\", \"bin length\", \"GC%\", \"coverage\", \"# contigs\"]]\n",
    "orgsub[\"genome_slug\"] = orgsub[\"name\"].apply(lambda x: x.replace(\"_sub\", \"\") if x.startswith(\"A\") else x)\n",
    "orgmerge = orgsub.merge(cpr_dpann_curated[[\"genome_slug\", \"manual\"]], how=\"left\", on=\"genome_slug\").fillna(\"None\")\n",
    "orgmerge = orgmerge.merge(gtresults[[\"genome_slug\", \"classification\"]], how=\"left\", on=\"genome_slug\").fillna(\"None\")\n",
    "orgmerge[\"cpr_dpann\"] = orgmerge[\"manual\"].apply(lambda x: True if x !=\"None\" else False)\n",
    "orgmerge = orgmerge[orgmerge[\"classification\"] != \"None\"]"
   ]
  },
  {
   "cell_type": "code",
   "execution_count": 731,
   "metadata": {},
   "outputs": [
    {
     "data": {
      "text/plain": [
       "738"
      ]
     },
     "execution_count": 731,
     "metadata": {},
     "output_type": "execute_result"
    }
   ],
   "source": [
    "# check len - lots of naming issues\n",
    "len(orgmerge)"
   ]
  },
  {
   "cell_type": "code",
   "execution_count": 732,
   "metadata": {},
   "outputs": [],
   "source": [
    "existing = []\n",
    "\n",
    "def construct_name(row, existing):\n",
    "    \n",
    "    if row[\"cpr_dpann\"] == True:\n",
    "        token = row[\"manual\"]\n",
    "    \n",
    "    elif (row[\"taxonomy\"] != \"None\") & (\"metagenome\" not in row[\"taxonomy\"]):\n",
    "        \n",
    "        # take first non sp. name\n",
    "        token = \"\"\n",
    "        for item in row[\"taxonomy\"].split(\",\"):\n",
    "            clean = item.strip().replace(\"Candidatus \", \"\")\n",
    "            if (\"_\" not in clean) & (len(clean.split(\" \"))==1):\n",
    "                token=clean\n",
    "                break \n",
    "    else:\n",
    "        token = row[\"classification\"].split(\";\")[0].replace(\"d__\", \"\")\n",
    "    \n",
    "    proposed = \"_\".join([row[\"binning project\"], token, \n",
    "        str(int(round(row[\"GC%\"],0))), str(round(row[\"coverage\"]))])\n",
    "    \n",
    "    # amend duplicates\n",
    "    count = existing.count(proposed)\n",
    "    if count > 0:\n",
    "        proposed += list(string.ascii_lowercase)[count]\n",
    "    else:\n",
    "        existing.append(proposed)\n",
    "    \n",
    "    return proposed\n",
    "\n",
    "orgmerge[\"newname\"] = orgmerge.apply(lambda x: construct_name(x, existing), axis=1)"
   ]
  },
  {
   "cell_type": "code",
   "execution_count": 733,
   "metadata": {},
   "outputs": [
    {
     "data": {
      "text/plain": [
       "LacPavin_0818_WC50_Burkholderiales_53_5    1\n",
       "LacPavin_0920_SED5_Bacteria_66_35          1\n",
       "LacPavin_0920_SED3_Bacteria_65_12          1\n",
       "LacPavin_0920_WC12_Cyanobium_62_9          1\n",
       "LacPavin_0818_WC50_Actinobacteria_57_5     1\n",
       "Name: newname, dtype: int64"
      ]
     },
     "execution_count": 733,
     "metadata": {},
     "output_type": "execute_result"
    }
   ],
   "source": [
    "# check names are unique\n",
    "orgmerge[\"newname\"].value_counts()[0:5]"
   ]
  },
  {
   "cell_type": "code",
   "execution_count": 734,
   "metadata": {},
   "outputs": [
    {
     "data": {
      "text/plain": [
       "{6}"
      ]
     },
     "execution_count": 734,
     "metadata": {},
     "output_type": "execute_result"
    }
   ],
   "source": [
    "# check number of fields is consistent\n",
    "set(len(item.split(\"_\")) for item in orgmerge[\"newname\"].unique())"
   ]
  },
  {
   "cell_type": "markdown",
   "metadata": {},
   "source": [
    "### export"
   ]
  },
  {
   "cell_type": "code",
   "execution_count": 631,
   "metadata": {},
   "outputs": [],
   "source": [
    "cmdir(rootdir + \"genomes/renamed_genomes\")"
   ]
  },
  {
   "cell_type": "code",
   "execution_count": 738,
   "metadata": {},
   "outputs": [],
   "source": [
    "# biotite\n",
    "for key, row in orgmerge.iterrows():\n",
    "    \n",
    "    # find fasta\n",
    "    path = glob.glob(rootdir + \"genomes/final_genomes/\" + row[\"genome_slug\"] + \"[._]*\")\n",
    "    # write fasta\n",
    "    with open(rootdir + \"genomes/renamed_genomes/\" + row[\"newname\"] + \".fna\", \"w\") as out:\n",
    "        for record in SeqIO.parse(open(path[0]), \"fasta\"):\n",
    "            out.write(\">%s\\n%s\\n\" %(record.description.split(\" \")[0], str(record.seq)))"
   ]
  },
  {
   "cell_type": "code",
   "execution_count": 739,
   "metadata": {},
   "outputs": [],
   "source": [
    "# old->new quick mapping\n",
    "orgmerge[[\"name\", \"newname\"]].to_csv(rootdir + \"genomes/genome_name_mapping.tsv\", sep=\"\\t\", index=False, header=None)"
   ]
  },
  {
   "cell_type": "code",
   "execution_count": 740,
   "metadata": {},
   "outputs": [],
   "source": [
    "# ggkbase rename\n",
    "with open(rootdir + \"ggkbase/genome_rename.tsv\", \"w\") as out:\n",
    "    for key, row in orgmerge.iterrows():\n",
    "        out.write(\"%s\\t%s\\t%s\\n\" %(row[\"name\"], row[\"binning project\"], row[\"newname\"]))"
   ]
  },
  {
   "cell_type": "code",
   "execution_count": 741,
   "metadata": {},
   "outputs": [],
   "source": [
    "# ggkbase AP\n",
    "orgmerge[\"newname\"].to_csv(rootdir + \"ggkbase/analysis_project.txt\", index=False, header=None)"
   ]
  },
  {
   "cell_type": "markdown",
   "metadata": {},
   "source": [
    "### supp table 1 base"
   ]
  },
  {
   "cell_type": "code",
   "execution_count": 742,
   "metadata": {},
   "outputs": [],
   "source": [
    "cmdir(rootdir + \"tables\")"
   ]
  },
  {
   "cell_type": "code",
   "execution_count": 786,
   "metadata": {},
   "outputs": [
    {
     "data": {
      "text/html": [
       "<div>\n",
       "<style scoped>\n",
       "    .dataframe tbody tr th:only-of-type {\n",
       "        vertical-align: middle;\n",
       "    }\n",
       "\n",
       "    .dataframe tbody tr th {\n",
       "        vertical-align: top;\n",
       "    }\n",
       "\n",
       "    .dataframe thead th {\n",
       "        text-align: right;\n",
       "    }\n",
       "</style>\n",
       "<table border=\"1\" class=\"dataframe\">\n",
       "  <thead>\n",
       "    <tr style=\"text-align: right;\">\n",
       "      <th></th>\n",
       "      <th>genome_name</th>\n",
       "      <th>sample</th>\n",
       "      <th>cpr_dpann</th>\n",
       "      <th>cpr_dpann_lineage</th>\n",
       "      <th>ggkbase_taxonomy</th>\n",
       "      <th>gtdbtk_taxonomy</th>\n",
       "      <th>bin_length</th>\n",
       "      <th>num_scaffolds</th>\n",
       "      <th>gc_perc</th>\n",
       "      <th>checkm_completeness</th>\n",
       "      <th>checkm_redundancy</th>\n",
       "      <th>gunc_phylum_css</th>\n",
       "    </tr>\n",
       "  </thead>\n",
       "  <tbody>\n",
       "    <tr>\n",
       "      <th>147</th>\n",
       "      <td>LacPavin_0419_WC53_Bacteria_61_8</td>\n",
       "      <td>LacPavin_0419_WC53</td>\n",
       "      <td>False</td>\n",
       "      <td>None</td>\n",
       "      <td>Bacteria</td>\n",
       "      <td>d__Bacteria;p__Acidobacteriota;c__Acidobacteri...</td>\n",
       "      <td>7913254</td>\n",
       "      <td>574</td>\n",
       "      <td>61.07</td>\n",
       "      <td>96.96</td>\n",
       "      <td>6.52</td>\n",
       "      <td>0.15</td>\n",
       "    </tr>\n",
       "    <tr>\n",
       "      <th>126</th>\n",
       "      <td>LacPavin_0419_WC53_Rhodococcus_63_12</td>\n",
       "      <td>LacPavin_0419_WC53</td>\n",
       "      <td>False</td>\n",
       "      <td>None</td>\n",
       "      <td>Rhodococcus, Corynebacteriales, Actinobacteria...</td>\n",
       "      <td>d__Bacteria;p__Actinobacteriota;c__Actinomycet...</td>\n",
       "      <td>6080610</td>\n",
       "      <td>483</td>\n",
       "      <td>62.64</td>\n",
       "      <td>98.70</td>\n",
       "      <td>1.64</td>\n",
       "      <td>0.00</td>\n",
       "    </tr>\n",
       "    <tr>\n",
       "      <th>130</th>\n",
       "      <td>LacPavin_0419_WC53_Actinobacteria_62_15</td>\n",
       "      <td>LacPavin_0419_WC53</td>\n",
       "      <td>False</td>\n",
       "      <td>None</td>\n",
       "      <td>Actinobacteria, Actinobacteria, Bacteria</td>\n",
       "      <td>d__Bacteria;p__Actinobacteriota;c__Acidimicrob...</td>\n",
       "      <td>2702562</td>\n",
       "      <td>346</td>\n",
       "      <td>61.58</td>\n",
       "      <td>85.04</td>\n",
       "      <td>1.80</td>\n",
       "      <td>0.21</td>\n",
       "    </tr>\n",
       "    <tr>\n",
       "      <th>140</th>\n",
       "      <td>LacPavin_0419_WC53_Rhodococcus_65_21</td>\n",
       "      <td>LacPavin_0419_WC53</td>\n",
       "      <td>False</td>\n",
       "      <td>None</td>\n",
       "      <td>Rhodococcus sp. PML026, Rhodococcus, Corynebac...</td>\n",
       "      <td>d__Bacteria;p__Actinobacteriota;c__Actinomycet...</td>\n",
       "      <td>4807012</td>\n",
       "      <td>582</td>\n",
       "      <td>64.87</td>\n",
       "      <td>97.25</td>\n",
       "      <td>3.54</td>\n",
       "      <td>0.00</td>\n",
       "    </tr>\n",
       "    <tr>\n",
       "      <th>145</th>\n",
       "      <td>LacPavin_0419_WC53_Actinobacteria_58_7</td>\n",
       "      <td>LacPavin_0419_WC53</td>\n",
       "      <td>False</td>\n",
       "      <td>None</td>\n",
       "      <td>actinobacterium acAMD-2, Actinobacteria, Actin...</td>\n",
       "      <td>d__Bacteria;p__Actinobacteriota;c__Actinomycet...</td>\n",
       "      <td>1496122</td>\n",
       "      <td>252</td>\n",
       "      <td>57.52</td>\n",
       "      <td>80.46</td>\n",
       "      <td>1.62</td>\n",
       "      <td>0.32</td>\n",
       "    </tr>\n",
       "  </tbody>\n",
       "</table>\n",
       "</div>"
      ],
      "text/plain": [
       "                                 genome_name              sample  cpr_dpann  \\\n",
       "147         LacPavin_0419_WC53_Bacteria_61_8  LacPavin_0419_WC53      False   \n",
       "126     LacPavin_0419_WC53_Rhodococcus_63_12  LacPavin_0419_WC53      False   \n",
       "130  LacPavin_0419_WC53_Actinobacteria_62_15  LacPavin_0419_WC53      False   \n",
       "140     LacPavin_0419_WC53_Rhodococcus_65_21  LacPavin_0419_WC53      False   \n",
       "145   LacPavin_0419_WC53_Actinobacteria_58_7  LacPavin_0419_WC53      False   \n",
       "\n",
       "    cpr_dpann_lineage                                   ggkbase_taxonomy  \\\n",
       "147              None                                           Bacteria   \n",
       "126              None  Rhodococcus, Corynebacteriales, Actinobacteria...   \n",
       "130              None           Actinobacteria, Actinobacteria, Bacteria   \n",
       "140              None  Rhodococcus sp. PML026, Rhodococcus, Corynebac...   \n",
       "145              None  actinobacterium acAMD-2, Actinobacteria, Actin...   \n",
       "\n",
       "                                       gtdbtk_taxonomy  bin_length  \\\n",
       "147  d__Bacteria;p__Acidobacteriota;c__Acidobacteri...     7913254   \n",
       "126  d__Bacteria;p__Actinobacteriota;c__Actinomycet...     6080610   \n",
       "130  d__Bacteria;p__Actinobacteriota;c__Acidimicrob...     2702562   \n",
       "140  d__Bacteria;p__Actinobacteriota;c__Actinomycet...     4807012   \n",
       "145  d__Bacteria;p__Actinobacteriota;c__Actinomycet...     1496122   \n",
       "\n",
       "     num_scaffolds  gc_perc  checkm_completeness  checkm_redundancy  \\\n",
       "147            574    61.07                96.96               6.52   \n",
       "126            483    62.64                98.70               1.64   \n",
       "130            346    61.58                85.04               1.80   \n",
       "140            582    64.87                97.25               3.54   \n",
       "145            252    57.52                80.46               1.62   \n",
       "\n",
       "     gunc_phylum_css  \n",
       "147             0.15  \n",
       "126             0.00  \n",
       "130             0.21  \n",
       "140             0.00  \n",
       "145             0.32  "
      ]
     },
     "execution_count": 786,
     "metadata": {},
     "output_type": "execute_result"
    }
   ],
   "source": [
    "table_s1 = orgmerge.rename(columns={\"newname\": \"genome_name\", \"binning project\": \"sample\",\n",
    "                         \"taxonomy\": \"ggkbase_taxonomy\", \"bin length\": \"bin_length\", \n",
    "                         \"GC%\": \"gc_perc\", \"# contigs\": \"num_scaffolds\", \"manual\": \"cpr_dpann_lineage\",\n",
    "                         \"classification\": \"gtdbtk_taxonomy\"})\n",
    "curation_data = pd.read_csv(rootdir + \"tables/curation_data.tsv\", sep=\"\\t\")\n",
    "# overwrite old genome slug to make compatible :/\n",
    "curation_data[\"genome_slug\"] = curation_data[\"bin\"].apply(lambda x: x.replace(\"_contigs\", \"\"))\n",
    "curation_data = curation_data.rename(columns={\"new_completeness\": \"checkm_completeness\", \n",
    "    \"new_contamination\": \"checkm_redundancy\", \"css_refined\": \"gunc_phylum_css\"})\n",
    "table_s1 = table_s1.merge(curation_data[[\"genome_slug\", \"checkm_completeness\", \"checkm_redundancy\", \n",
    "    \"gunc_phylum_css\"]], how=\"left\", on=\"genome_slug\").fillna(\"None\")\n",
    "# TODO: scaffold n50?\n",
    "# reorganize\n",
    "table_s1 = table_s1[[\"genome_name\", \"sample\", \"cpr_dpann\", \"cpr_dpann_lineage\", \"ggkbase_taxonomy\", \n",
    "                    \"gtdbtk_taxonomy\", \"bin_length\", \"num_scaffolds\", \"gc_perc\", \"checkm_completeness\",\n",
    "                    \"checkm_redundancy\", \"gunc_phylum_css\"]]\n",
    "# sort on gtdbtk d + p?\n",
    "table_s1[\"sort\"] = table_s1[\"gtdbtk_taxonomy\"].apply(lambda x: \";\".join(x.split(\";\")[0:2]))\n",
    "table_s1 = table_s1.sort_values([\"sample\", \"sort\"]).drop([\"sort\"], axis=1)\n",
    "table_s1.head()"
   ]
  },
  {
   "cell_type": "markdown",
   "metadata": {},
   "source": [
    "Export to later add onto in a separate NCBI upload notebook."
   ]
  },
  {
   "cell_type": "code",
   "execution_count": 787,
   "metadata": {},
   "outputs": [],
   "source": [
    "table_s1.to_csv(rootdir + \"tables/jaffe_table_s1.tsv\", sep=\"\\t\", index=False)"
   ]
  }
 ],
 "metadata": {
  "kernelspec": {
   "display_name": "Python 3",
   "language": "python",
   "name": "python3"
  },
  "language_info": {
   "codemirror_mode": {
    "name": "ipython",
    "version": 3
   },
   "file_extension": ".py",
   "mimetype": "text/x-python",
   "name": "python",
   "nbconvert_exporter": "python",
   "pygments_lexer": "ipython3",
   "version": "3.8.2"
  }
 },
 "nbformat": 4,
 "nbformat_minor": 4
}
