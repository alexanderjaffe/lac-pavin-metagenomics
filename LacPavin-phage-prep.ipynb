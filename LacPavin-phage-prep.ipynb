{
 "cells": [
  {
   "cell_type": "markdown",
   "metadata": {},
   "source": [
    "# Lac Pavin phage db prep"
   ]
  },
  {
   "cell_type": "code",
   "execution_count": 1,
   "metadata": {},
   "outputs": [],
   "source": [
    "import matplotlib, re, os, glob, datetime, difflib, random, time, math, json, wget\n",
    "import matplotlib.pyplot as plt\n",
    "from collections import defaultdict\n",
    "from scipy import stats\n",
    "import numpy as np\n",
    "import pandas as pd\n",
    "import seaborn as sns\n",
    "import subprocess as sp\n",
    "sns.set('notebook')\n",
    "%matplotlib inline \n",
    "# hide warnings\n",
    "import warnings\n",
    "warnings.filterwarnings('ignore')\n",
    "from Bio import SeqIO, SeqUtils, SearchIO"
   ]
  },
  {
   "cell_type": "code",
   "execution_count": 2,
   "metadata": {},
   "outputs": [],
   "source": [
    "def cmdir(path):\n",
    "    if not os.path.isdir(path):\n",
    "        os.mkdir(path)\n",
    "        \n",
    "def scaffold(gene):\n",
    "    if gene != \"None\":\n",
    "        try: return re.search(\"(.+?)_[0-9]+$\", gene).group(1)\n",
    "        except: print(gene)"
   ]
  },
  {
   "cell_type": "code",
   "execution_count": 3,
   "metadata": {},
   "outputs": [],
   "source": [
    "rootdir = \"/groups/banfield/projects/environmental/LacPavin/analysis/\""
   ]
  },
  {
   "cell_type": "markdown",
   "metadata": {},
   "source": [
    "# phage prediction"
   ]
  },
  {
   "cell_type": "markdown",
   "metadata": {},
   "source": [
    "### define assemblies"
   ]
  },
  {
   "cell_type": "code",
   "execution_count": 4,
   "metadata": {},
   "outputs": [],
   "source": [
    "# define samples/assemblies of interest\n",
    "assemblies = {\"water_column\":[], \"sediment\":[]}\n",
    "for assembly in glob.glob(rootdir.replace(\"analysis/\", \"QB3*/assembly.d/*/*megahit*/*min1000.fa\")):\n",
    "    if (\"Creux\" not in assembly) and (\"ALN\" not in assembly):\n",
    "        if \"SED\" in assembly:\n",
    "            assemblies[\"sediment\"].append(assembly)\n",
    "        else: assemblies[\"water_column\"].append(assembly)"
   ]
  },
  {
   "cell_type": "code",
   "execution_count": 5,
   "metadata": {},
   "outputs": [],
   "source": [
    "# build scaf len dict\n",
    "scaflens = {}\n",
    "\n",
    "for biome in assemblies:\n",
    "    for assembly in assemblies[biome]:\n",
    "        name = os.path.basename(assembly).split(\"_scaffold\")[0]\n",
    "        for record in SeqIO.parse(open(assembly), \"fasta\"):\n",
    "            if name not in scaflens:\n",
    "                scaflens[name] = {record.description.split(\" \")[0]: len(record.seq)}\n",
    "            else:\n",
    "                scaflens[name][record.description.split(\" \")[0]] = len(record.seq)"
   ]
  },
  {
   "cell_type": "markdown",
   "metadata": {},
   "source": [
    "### run vibrant"
   ]
  },
  {
   "cell_type": "code",
   "execution_count": null,
   "metadata": {},
   "outputs": [],
   "source": [
    "cmdir(rootdir + \"viral\")\n",
    "cmdir(rootdir + \"viral/vibrant/\")"
   ]
  },
  {
   "cell_type": "code",
   "execution_count": 13,
   "metadata": {},
   "outputs": [],
   "source": [
    "with open(rootdir + \"scripts/runVibrant.sh\", \"w\") as outfile:\n",
    "    for assembly in assemblies:\n",
    "        acode = \"A\" + \"\".join(os.path.basename(assembly).split(\"_\")[1:3])\n",
    "        call = \"sbatch -J \" + acode + \" --wrap '/shared/software/vibrant/latest/bin/VIBRANT_run.py -i \" + \\\n",
    "            assembly + \" -t 48 -folder \" + rootdir + \"viral/vibrant/\" + \"'\"\n",
    "        outfile.write(call + \"\\n\")"
   ]
  },
  {
   "cell_type": "code",
   "execution_count": 6,
   "metadata": {},
   "outputs": [],
   "source": [
    "# grab summary files\n",
    "\n",
    "gquality = []\n",
    "paths = [rootdir + \"/viral/vibrant/*/*/*genome_quality*\",\n",
    "        rootdir + \"/viral/vibrant/*genome_quality*\"]\n",
    "\n",
    "for path in paths:\n",
    "    for file in glob.glob(path):\n",
    "        gquality.append(file)"
   ]
  },
  {
   "cell_type": "code",
   "execution_count": 7,
   "metadata": {},
   "outputs": [],
   "source": [
    "# grab fna files for scaflen\n",
    "vdna = []\n",
    "paths = [rootdir + \"/viral/vibrant/*/*/*_combined.fna\",\n",
    "        rootdir + \"/viral/vibrant/*_combined.fna\"]\n",
    "\n",
    "for path in paths:\n",
    "    for file in glob.glob(path):\n",
    "        vdna.append(file)\n",
    "\n",
    "# build lookup\n",
    "vlens = {}\n",
    "for fasta in vdna:\n",
    "    for record in SeqIO.parse(open(fasta), \"fasta\"):\n",
    "        vlens[record.description] = len(str(record.seq))"
   ]
  },
  {
   "cell_type": "code",
   "execution_count": 8,
   "metadata": {},
   "outputs": [
    {
     "data": {
      "text/html": [
       "<div>\n",
       "<style scoped>\n",
       "    .dataframe tbody tr th:only-of-type {\n",
       "        vertical-align: middle;\n",
       "    }\n",
       "\n",
       "    .dataframe tbody tr th {\n",
       "        vertical-align: top;\n",
       "    }\n",
       "\n",
       "    .dataframe thead th {\n",
       "        text-align: right;\n",
       "    }\n",
       "</style>\n",
       "<table border=\"1\" class=\"dataframe\">\n",
       "  <thead>\n",
       "    <tr style=\"text-align: right;\">\n",
       "      <th></th>\n",
       "      <th>scaffold</th>\n",
       "      <th>fragment</th>\n",
       "      <th>original_scaffold</th>\n",
       "      <th>type</th>\n",
       "      <th>quality</th>\n",
       "      <th>length</th>\n",
       "    </tr>\n",
       "  </thead>\n",
       "  <tbody>\n",
       "    <tr>\n",
       "      <th>1</th>\n",
       "      <td>LacPavin_0920_WC70_scaffold_1823591</td>\n",
       "      <td>None</td>\n",
       "      <td>LacPavin_0920_WC70_scaffold_1823591 read_lengt...</td>\n",
       "      <td>lysogenic</td>\n",
       "      <td>low quality draft</td>\n",
       "      <td>10033</td>\n",
       "    </tr>\n",
       "    <tr>\n",
       "      <th>4</th>\n",
       "      <td>LacPavin_0920_WC70_scaffold_1497187</td>\n",
       "      <td>None</td>\n",
       "      <td>LacPavin_0920_WC70_scaffold_1497187 read_lengt...</td>\n",
       "      <td>lytic</td>\n",
       "      <td>low quality draft</td>\n",
       "      <td>9465</td>\n",
       "    </tr>\n",
       "    <tr>\n",
       "      <th>5</th>\n",
       "      <td>LacPavin_0920_WC70_scaffold_117641</td>\n",
       "      <td>None</td>\n",
       "      <td>LacPavin_0920_WC70_scaffold_117641 read_length...</td>\n",
       "      <td>lytic</td>\n",
       "      <td>low quality draft</td>\n",
       "      <td>8078</td>\n",
       "    </tr>\n",
       "    <tr>\n",
       "      <th>8</th>\n",
       "      <td>LacPavin_0920_WC70_scaffold_811358</td>\n",
       "      <td>None</td>\n",
       "      <td>LacPavin_0920_WC70_scaffold_811358 read_length...</td>\n",
       "      <td>lytic</td>\n",
       "      <td>low quality draft</td>\n",
       "      <td>17965</td>\n",
       "    </tr>\n",
       "    <tr>\n",
       "      <th>9</th>\n",
       "      <td>LacPavin_0920_WC70_scaffold_189631</td>\n",
       "      <td>None</td>\n",
       "      <td>LacPavin_0920_WC70_scaffold_189631 read_length...</td>\n",
       "      <td>lytic</td>\n",
       "      <td>low quality draft</td>\n",
       "      <td>16307</td>\n",
       "    </tr>\n",
       "  </tbody>\n",
       "</table>\n",
       "</div>"
      ],
      "text/plain": [
       "                              scaffold fragment  \\\n",
       "1  LacPavin_0920_WC70_scaffold_1823591     None   \n",
       "4  LacPavin_0920_WC70_scaffold_1497187     None   \n",
       "5   LacPavin_0920_WC70_scaffold_117641     None   \n",
       "8   LacPavin_0920_WC70_scaffold_811358     None   \n",
       "9   LacPavin_0920_WC70_scaffold_189631     None   \n",
       "\n",
       "                                   original_scaffold       type  \\\n",
       "1  LacPavin_0920_WC70_scaffold_1823591 read_lengt...  lysogenic   \n",
       "4  LacPavin_0920_WC70_scaffold_1497187 read_lengt...      lytic   \n",
       "5  LacPavin_0920_WC70_scaffold_117641 read_length...      lytic   \n",
       "8  LacPavin_0920_WC70_scaffold_811358 read_length...      lytic   \n",
       "9  LacPavin_0920_WC70_scaffold_189631 read_length...      lytic   \n",
       "\n",
       "             quality  length  \n",
       "1  low quality draft   10033  \n",
       "4  low quality draft    9465  \n",
       "5  low quality draft    8078  \n",
       "8  low quality draft   17965  \n",
       "9  low quality draft   16307  "
      ]
     },
     "execution_count": 8,
     "metadata": {},
     "output_type": "execute_result"
    }
   ],
   "source": [
    "vib = pd.concat([pd.read_csv(file, sep=\"\\t\") for file in gquality])\n",
    "vib[\"scafclean\"] = vib[\"scaffold\"].apply(lambda x: x.split(\" \")[0])\n",
    "vib[\"fragment\"] = vib[\"scaffold\"].apply(lambda x: \"\".join(x.split(\"_\")[-2:]) if \"fragment\" in x else \"None\")\n",
    "vib[\"length\"] = vib[\"scaffold\"].map(vlens)\n",
    "vibsub = vib[[\"scafclean\", \"fragment\", \"scaffold\", \"type\", \"Quality\", \"length\"]].query(\"length>5000\")\n",
    "vibsub.columns = [\"scaffold\", \"fragment\", \"original_scaffold\", \"type\", \"quality\", \"length\"]\n",
    "# get rid of weird duplicates\n",
    "vibsub = vibsub.drop_duplicates([\"original_scaffold\"])\n",
    "vibsub.head()"
   ]
  },
  {
   "cell_type": "markdown",
   "metadata": {},
   "source": [
    "### run virsorter"
   ]
  },
  {
   "cell_type": "code",
   "execution_count": 24,
   "metadata": {},
   "outputs": [],
   "source": [
    "cmdir(rootdir + \"viral/virsorter\")"
   ]
  },
  {
   "cell_type": "code",
   "execution_count": 34,
   "metadata": {},
   "outputs": [],
   "source": [
    "wrapper = open(rootdir + \"viral/virsorter/wrapper.sh\", \"w\")\n",
    "\n",
    "for biome in assemblies:\n",
    "    \n",
    "    for assembly in assemblies[biome]:\n",
    "        \n",
    "        outdir = rootdir + \"viral/virsorter/\" + \\\n",
    "            os.path.basename(assembly).split(\"_scaf\")[0]\n",
    "        #cmdir(outdir)\n",
    "        call = \"sbatch --wrap '/shared/software/virsorter2/latest/container/virsorter2.sif \" + \\\n",
    "            \"run --keep-original-seq -i \" + assembly + \" -w \" + outdir + \\\n",
    "            \" --db-dir \" + rootdir + \"viral/virsorter/vs2-db/ \" + \\\n",
    "                \" --include-groups dsDNAphage,ssDNA --min-length 5000 --min-score 0.5 -j 48 all'\"\n",
    "        wrapper.write(call + \"\\n\")\n",
    "\n",
    "wrapper.close()"
   ]
  },
  {
   "cell_type": "code",
   "execution_count": 9,
   "metadata": {},
   "outputs": [
    {
     "data": {
      "text/html": [
       "<div>\n",
       "<style scoped>\n",
       "    .dataframe tbody tr th:only-of-type {\n",
       "        vertical-align: middle;\n",
       "    }\n",
       "\n",
       "    .dataframe tbody tr th {\n",
       "        vertical-align: top;\n",
       "    }\n",
       "\n",
       "    .dataframe thead th {\n",
       "        text-align: right;\n",
       "    }\n",
       "</style>\n",
       "<table border=\"1\" class=\"dataframe\">\n",
       "  <thead>\n",
       "    <tr style=\"text-align: right;\">\n",
       "      <th></th>\n",
       "      <th>scaffold</th>\n",
       "      <th>fragment</th>\n",
       "      <th>vs_score</th>\n",
       "      <th>vs_group</th>\n",
       "      <th>length</th>\n",
       "    </tr>\n",
       "  </thead>\n",
       "  <tbody>\n",
       "    <tr>\n",
       "      <th>1</th>\n",
       "      <td>LacPavin_0419_WC70S_scaffold_9116</td>\n",
       "      <td>None</td>\n",
       "      <td>0.953</td>\n",
       "      <td>dsDNAphage</td>\n",
       "      <td>11414</td>\n",
       "    </tr>\n",
       "    <tr>\n",
       "      <th>2</th>\n",
       "      <td>LacPavin_0419_WC70S_scaffold_21632</td>\n",
       "      <td>None</td>\n",
       "      <td>0.940</td>\n",
       "      <td>dsDNAphage</td>\n",
       "      <td>8702</td>\n",
       "    </tr>\n",
       "    <tr>\n",
       "      <th>3</th>\n",
       "      <td>LacPavin_0419_WC70S_scaffold_23585</td>\n",
       "      <td>None</td>\n",
       "      <td>0.987</td>\n",
       "      <td>dsDNAphage</td>\n",
       "      <td>37969</td>\n",
       "    </tr>\n",
       "    <tr>\n",
       "      <th>4</th>\n",
       "      <td>LacPavin_0419_WC70S_scaffold_31921</td>\n",
       "      <td>None</td>\n",
       "      <td>0.987</td>\n",
       "      <td>dsDNAphage</td>\n",
       "      <td>15226</td>\n",
       "    </tr>\n",
       "    <tr>\n",
       "      <th>6</th>\n",
       "      <td>LacPavin_0419_WC70S_scaffold_49979</td>\n",
       "      <td>None</td>\n",
       "      <td>0.993</td>\n",
       "      <td>dsDNAphage</td>\n",
       "      <td>39183</td>\n",
       "    </tr>\n",
       "  </tbody>\n",
       "</table>\n",
       "</div>"
      ],
      "text/plain": [
       "                             scaffold fragment  vs_score    vs_group  length\n",
       "1   LacPavin_0419_WC70S_scaffold_9116     None     0.953  dsDNAphage   11414\n",
       "2  LacPavin_0419_WC70S_scaffold_21632     None     0.940  dsDNAphage    8702\n",
       "3  LacPavin_0419_WC70S_scaffold_23585     None     0.987  dsDNAphage   37969\n",
       "4  LacPavin_0419_WC70S_scaffold_31921     None     0.987  dsDNAphage   15226\n",
       "6  LacPavin_0419_WC70S_scaffold_49979     None     0.993  dsDNAphage   39183"
      ]
     },
     "execution_count": 9,
     "metadata": {},
     "output_type": "execute_result"
    }
   ],
   "source": [
    "vir = pd.concat(pd.read_csv(item, sep=\"\\t\") for item in glob.glob(rootdir + \"viral/virsorter/*/final-viral-score.tsv\"))\n",
    "vir[\"scaffold\"] = vir[\"seqname\"].apply(lambda x: x.split(\"||\")[0])\n",
    "vir[\"fragment\"] = vir[\"seqname\"].apply(lambda x: x.split(\"||\")[1] if \"full\" not in x else \"None\")\n",
    "virsub = vir[[\"scaffold\", \"fragment\", \"max_score\", \"max_score_group\", \"length\"]].query(\"max_score>=0.9\")\n",
    "virsub.columns = [\"scaffold\", \"fragment\", \"vs_score\", \"vs_group\", \"length\"]\n",
    "virsub.head()"
   ]
  },
  {
   "cell_type": "markdown",
   "metadata": {},
   "source": [
    "### integrate"
   ]
  },
  {
   "cell_type": "code",
   "execution_count": 10,
   "metadata": {},
   "outputs": [],
   "source": [
    "vibset = set(vibsub[\"scaffold\"])\n",
    "virset = set(virsub[\"scaffold\"])\n",
    "mset = vibset.union(virset)\n",
    "mlist = defaultdict(list)\n",
    "\n",
    "for scaf in list(mset):\n",
    "    \n",
    "    ## determine source\n",
    "    if (scaf in vibset) and (scaf not in virset):\n",
    "        source = \"vibrant\"\n",
    "    \n",
    "    elif (scaf in virset) and (scaf not in vibset):\n",
    "        source = \"virsorter\"\n",
    "        \n",
    "    else: source = \"both\"\n",
    "    \n",
    "    sample = \"_\".join(scaf.split(\"_\")[0:3])\n",
    "    mlist[\"scaffold\"].append(scaf)\n",
    "    mlist[\"sample\"].append(sample)\n",
    "    mlist[\"source\"].append(source)\n",
    "    mlist[\"scaffold_length\"].append(scaflens[sample][scaf])\n",
    "    \n",
    "mdf = pd.DataFrame(mlist)"
   ]
  },
  {
   "cell_type": "code",
   "execution_count": 11,
   "metadata": {},
   "outputs": [
    {
     "data": {
      "text/html": [
       "<div>\n",
       "<style scoped>\n",
       "    .dataframe tbody tr th:only-of-type {\n",
       "        vertical-align: middle;\n",
       "    }\n",
       "\n",
       "    .dataframe tbody tr th {\n",
       "        vertical-align: top;\n",
       "    }\n",
       "\n",
       "    .dataframe thead th {\n",
       "        text-align: right;\n",
       "    }\n",
       "</style>\n",
       "<table border=\"1\" class=\"dataframe\">\n",
       "  <thead>\n",
       "    <tr style=\"text-align: right;\">\n",
       "      <th></th>\n",
       "      <th>scaffold</th>\n",
       "      <th>sample</th>\n",
       "      <th>source</th>\n",
       "      <th>scaffold_length</th>\n",
       "    </tr>\n",
       "  </thead>\n",
       "  <tbody>\n",
       "    <tr>\n",
       "      <th>0</th>\n",
       "      <td>LacPavin_0419_WC53_scaffold_20050</td>\n",
       "      <td>LacPavin_0419_WC53</td>\n",
       "      <td>both</td>\n",
       "      <td>32549</td>\n",
       "    </tr>\n",
       "    <tr>\n",
       "      <th>1</th>\n",
       "      <td>LacPavin_0920_WC12_scaffold_201813</td>\n",
       "      <td>LacPavin_0920_WC12</td>\n",
       "      <td>both</td>\n",
       "      <td>6884</td>\n",
       "    </tr>\n",
       "    <tr>\n",
       "      <th>2</th>\n",
       "      <td>LacPavin_0419_WC53_scaffold_363029</td>\n",
       "      <td>LacPavin_0419_WC53</td>\n",
       "      <td>both</td>\n",
       "      <td>9631</td>\n",
       "    </tr>\n",
       "    <tr>\n",
       "      <th>3</th>\n",
       "      <td>LacPavin_0818_WC55_scaffold_109062</td>\n",
       "      <td>LacPavin_0818_WC55</td>\n",
       "      <td>both</td>\n",
       "      <td>12965</td>\n",
       "    </tr>\n",
       "    <tr>\n",
       "      <th>4</th>\n",
       "      <td>LacPavin_0920_SED3_scaffold_996967</td>\n",
       "      <td>LacPavin_0920_SED3</td>\n",
       "      <td>both</td>\n",
       "      <td>9359</td>\n",
       "    </tr>\n",
       "  </tbody>\n",
       "</table>\n",
       "</div>"
      ],
      "text/plain": [
       "                             scaffold              sample source  \\\n",
       "0   LacPavin_0419_WC53_scaffold_20050  LacPavin_0419_WC53   both   \n",
       "1  LacPavin_0920_WC12_scaffold_201813  LacPavin_0920_WC12   both   \n",
       "2  LacPavin_0419_WC53_scaffold_363029  LacPavin_0419_WC53   both   \n",
       "3  LacPavin_0818_WC55_scaffold_109062  LacPavin_0818_WC55   both   \n",
       "4  LacPavin_0920_SED3_scaffold_996967  LacPavin_0920_SED3   both   \n",
       "\n",
       "   scaffold_length  \n",
       "0            32549  \n",
       "1             6884  \n",
       "2             9631  \n",
       "3            12965  \n",
       "4             9359  "
      ]
     },
     "execution_count": 11,
     "metadata": {},
     "output_type": "execute_result"
    }
   ],
   "source": [
    "mdf.head()"
   ]
  },
  {
   "cell_type": "markdown",
   "metadata": {},
   "source": [
    "# clean"
   ]
  },
  {
   "cell_type": "code",
   "execution_count": 450,
   "metadata": {},
   "outputs": [],
   "source": [
    "cmdir(rootdir + \"/viral/genomes\")"
   ]
  },
  {
   "cell_type": "markdown",
   "metadata": {},
   "source": [
    "### write out prelim"
   ]
  },
  {
   "cell_type": "code",
   "execution_count": 468,
   "metadata": {},
   "outputs": [],
   "source": [
    "# write out all sequences\n",
    "sequence_dict = {}\n",
    "\n",
    "for biome in assemblies:\n",
    "    for sample in assemblies[biome]:\n",
    "        for record in SeqIO.parse(open(sample), \"fasta\"):\n",
    "            sequence_dict[record.description.split(\" \")[0]] = str(record.seq)"
   ]
  },
  {
   "cell_type": "code",
   "execution_count": 471,
   "metadata": {},
   "outputs": [],
   "source": [
    "with open(rootdir + \"/viral/genomes/prelim_genomes_10kb.fna\", \"w\") as outfile:\n",
    "    for scaf in mdf.query(\"scaffold_length>=10000\")[\"scaffold\"].unique():\n",
    "        outfile.write(\">%s\\n%s\\n\" %(scaf, sequence_dict[scaf]))\n",
    "        \n",
    "#sequence_dict = {}"
   ]
  },
  {
   "cell_type": "markdown",
   "metadata": {},
   "source": [
    "### run checkv"
   ]
  },
  {
   "cell_type": "code",
   "execution_count": 472,
   "metadata": {},
   "outputs": [],
   "source": [
    "cmdir(rootdir + \"/viral/checkv\")"
   ]
  },
  {
   "cell_type": "code",
   "execution_count": 475,
   "metadata": {},
   "outputs": [
    {
     "name": "stdout",
     "output_type": "stream",
     "text": [
      "sbatch -J checkv --wrap 'checkv end_to_end /groups/banfield/projects/environmental/LacPavin/analysis/viral/genomes/prelim_genomes_10kb.fna /groups/banfield/projects/environmental/LacPavin/analysis/viral/checkv -t 48 -d /groups/banfield/projects/environmental/LacPavin/analysis/viral/checkv/checkv-db-v1.0'\n"
     ]
    }
   ],
   "source": [
    "call = \"sbatch -J checkv --wrap 'checkv end_to_end %s %s -t 48 -d %s'\" %(rootdir + \"viral/genomes/prelim_genomes_10kb.fna\", rootdir + \"viral/checkv\", rootdir + \"viral/checkv/checkv-db-v1.0\")\n",
    "print(call)"
   ]
  },
  {
   "cell_type": "code",
   "execution_count": 12,
   "metadata": {},
   "outputs": [
    {
     "data": {
      "text/html": [
       "<div>\n",
       "<style scoped>\n",
       "    .dataframe tbody tr th:only-of-type {\n",
       "        vertical-align: middle;\n",
       "    }\n",
       "\n",
       "    .dataframe tbody tr th {\n",
       "        vertical-align: top;\n",
       "    }\n",
       "\n",
       "    .dataframe thead th {\n",
       "        text-align: right;\n",
       "    }\n",
       "</style>\n",
       "<table border=\"1\" class=\"dataframe\">\n",
       "  <thead>\n",
       "    <tr style=\"text-align: right;\">\n",
       "      <th></th>\n",
       "      <th>contig_id</th>\n",
       "      <th>contig_length</th>\n",
       "      <th>provirus</th>\n",
       "      <th>proviral_length</th>\n",
       "      <th>gene_count</th>\n",
       "      <th>viral_genes</th>\n",
       "      <th>host_genes</th>\n",
       "      <th>checkv_quality</th>\n",
       "      <th>miuvig_quality</th>\n",
       "      <th>completeness</th>\n",
       "      <th>completeness_method</th>\n",
       "      <th>contamination</th>\n",
       "      <th>kmer_freq</th>\n",
       "      <th>warnings</th>\n",
       "      <th>host_virus_ratio</th>\n",
       "    </tr>\n",
       "  </thead>\n",
       "  <tbody>\n",
       "    <tr>\n",
       "      <th>0</th>\n",
       "      <td>LacPavin_0920_SED5_scaffold_2477783</td>\n",
       "      <td>26736</td>\n",
       "      <td>No</td>\n",
       "      <td>NaN</td>\n",
       "      <td>27</td>\n",
       "      <td>8</td>\n",
       "      <td>2</td>\n",
       "      <td>Low-quality</td>\n",
       "      <td>Genome-fragment</td>\n",
       "      <td>5.72</td>\n",
       "      <td>AAI-based (medium-confidence)</td>\n",
       "      <td>0.0</td>\n",
       "      <td>1.0</td>\n",
       "      <td>NaN</td>\n",
       "      <td>0.25</td>\n",
       "    </tr>\n",
       "    <tr>\n",
       "      <th>1</th>\n",
       "      <td>LacPavin_0920_SED4_scaffold_1721355</td>\n",
       "      <td>10265</td>\n",
       "      <td>No</td>\n",
       "      <td>NaN</td>\n",
       "      <td>15</td>\n",
       "      <td>2</td>\n",
       "      <td>0</td>\n",
       "      <td>Low-quality</td>\n",
       "      <td>Genome-fragment</td>\n",
       "      <td>5.32</td>\n",
       "      <td>HMM-based (lower-bound)</td>\n",
       "      <td>0.0</td>\n",
       "      <td>1.0</td>\n",
       "      <td>NaN</td>\n",
       "      <td>0.0</td>\n",
       "    </tr>\n",
       "    <tr>\n",
       "      <th>2</th>\n",
       "      <td>LacPavin_0818_WC55_scaffold_718634</td>\n",
       "      <td>12912</td>\n",
       "      <td>No</td>\n",
       "      <td>NaN</td>\n",
       "      <td>18</td>\n",
       "      <td>4</td>\n",
       "      <td>1</td>\n",
       "      <td>Low-quality</td>\n",
       "      <td>Genome-fragment</td>\n",
       "      <td>4.45</td>\n",
       "      <td>HMM-based (lower-bound)</td>\n",
       "      <td>0.0</td>\n",
       "      <td>1.0</td>\n",
       "      <td>NaN</td>\n",
       "      <td>0.25</td>\n",
       "    </tr>\n",
       "    <tr>\n",
       "      <th>3</th>\n",
       "      <td>LacPavin_0920_SED5_scaffold_926258</td>\n",
       "      <td>14883</td>\n",
       "      <td>No</td>\n",
       "      <td>NaN</td>\n",
       "      <td>8</td>\n",
       "      <td>2</td>\n",
       "      <td>0</td>\n",
       "      <td>Low-quality</td>\n",
       "      <td>Genome-fragment</td>\n",
       "      <td>3.17</td>\n",
       "      <td>HMM-based (lower-bound)</td>\n",
       "      <td>0.0</td>\n",
       "      <td>1.0</td>\n",
       "      <td>NaN</td>\n",
       "      <td>0.0</td>\n",
       "    </tr>\n",
       "    <tr>\n",
       "      <th>4</th>\n",
       "      <td>LacPavin_0920_SED3_scaffold_1057264</td>\n",
       "      <td>22884</td>\n",
       "      <td>No</td>\n",
       "      <td>NaN</td>\n",
       "      <td>47</td>\n",
       "      <td>1</td>\n",
       "      <td>1</td>\n",
       "      <td>Low-quality</td>\n",
       "      <td>Genome-fragment</td>\n",
       "      <td>14.44</td>\n",
       "      <td>HMM-based (lower-bound)</td>\n",
       "      <td>0.0</td>\n",
       "      <td>1.0</td>\n",
       "      <td>NaN</td>\n",
       "      <td>1.0</td>\n",
       "    </tr>\n",
       "  </tbody>\n",
       "</table>\n",
       "</div>"
      ],
      "text/plain": [
       "                             contig_id  contig_length provirus  \\\n",
       "0  LacPavin_0920_SED5_scaffold_2477783          26736       No   \n",
       "1  LacPavin_0920_SED4_scaffold_1721355          10265       No   \n",
       "2   LacPavin_0818_WC55_scaffold_718634          12912       No   \n",
       "3   LacPavin_0920_SED5_scaffold_926258          14883       No   \n",
       "4  LacPavin_0920_SED3_scaffold_1057264          22884       No   \n",
       "\n",
       "   proviral_length  gene_count  viral_genes  host_genes checkv_quality  \\\n",
       "0              NaN          27            8           2    Low-quality   \n",
       "1              NaN          15            2           0    Low-quality   \n",
       "2              NaN          18            4           1    Low-quality   \n",
       "3              NaN           8            2           0    Low-quality   \n",
       "4              NaN          47            1           1    Low-quality   \n",
       "\n",
       "    miuvig_quality  completeness            completeness_method  \\\n",
       "0  Genome-fragment          5.72  AAI-based (medium-confidence)   \n",
       "1  Genome-fragment          5.32        HMM-based (lower-bound)   \n",
       "2  Genome-fragment          4.45        HMM-based (lower-bound)   \n",
       "3  Genome-fragment          3.17        HMM-based (lower-bound)   \n",
       "4  Genome-fragment         14.44        HMM-based (lower-bound)   \n",
       "\n",
       "   contamination  kmer_freq warnings host_virus_ratio  \n",
       "0            0.0        1.0      NaN             0.25  \n",
       "1            0.0        1.0      NaN              0.0  \n",
       "2            0.0        1.0      NaN             0.25  \n",
       "3            0.0        1.0      NaN              0.0  \n",
       "4            0.0        1.0      NaN              1.0  "
      ]
     },
     "execution_count": 12,
     "metadata": {},
     "output_type": "execute_result"
    }
   ],
   "source": [
    "# read in results\n",
    "cvresults = pd.read_csv(rootdir + \"viral/checkv/quality_summary.tsv\", sep=\"\\t\")\n",
    "cvresults[\"host_virus_ratio\"] = cvresults.apply(lambda x: x[\"host_genes\"]/x[\"viral_genes\"] if x[\"viral_genes\"] != 0 else \"None\", axis=1)\n",
    "cvresults.head()"
   ]
  },
  {
   "cell_type": "markdown",
   "metadata": {},
   "source": [
    "### classify"
   ]
  },
  {
   "cell_type": "code",
   "execution_count": 13,
   "metadata": {},
   "outputs": [],
   "source": [
    "def classify(row):\n",
    "    \n",
    "    # length limit for now\n",
    "    if row[\"contig_length\"] < 50000:\n",
    "        return \"unknown:length\"\n",
    "    \n",
    "    # host virus ratio valid\n",
    "    elif row[\"viral_genes\"]>0:\n",
    "        \n",
    "        if ((row[\"host_genes\"]==0) & (row[\"viral_genes\"]>=5)) | \\\n",
    "           ((row[\"host_genes\"]>=1) & (row[\"host_virus_ratio\"]<1) \\\n",
    "            & (row[\"provirus\"]=='No')):\n",
    "            return \"virus:checkv\"\n",
    "        \n",
    "        elif (row[\"host_virus_ratio\"]>=5) & \\\n",
    "              (row[\"provirus\"] == 'No'):\n",
    "            return \"discard:checkv\"\n",
    "    \n",
    "        elif (row[\"host_virus_ratio\"]>=5) & \\\n",
    "              (row[\"provirus\"] == 'Yes'):\n",
    "            return \"provirus:checkv\"\n",
    "        \n",
    "        else: return \"curate\"\n",
    "            \n",
    "    else: # hvr not valid\n",
    "        \n",
    "        if row[\"host_genes\"] >= 5:\n",
    "            return \"discard:checkv\"\n",
    "        else: return \"curate\"\n",
    "\n",
    "cvresults[\"category\"] = cvresults.apply(lambda x: classify(x), axis=1)"
   ]
  },
  {
   "cell_type": "code",
   "execution_count": 14,
   "metadata": {},
   "outputs": [
    {
     "data": {
      "text/plain": [
       "unknown:length     15561\n",
       "virus:checkv        1111\n",
       "curate               216\n",
       "discard:checkv       190\n",
       "provirus:checkv       73\n",
       "Name: category, dtype: int64"
      ]
     },
     "execution_count": 14,
     "metadata": {},
     "output_type": "execute_result"
    }
   ],
   "source": [
    "cvresults[\"category\"].value_counts()"
   ]
  },
  {
   "cell_type": "code",
   "execution_count": 15,
   "metadata": {},
   "outputs": [
    {
     "data": {
      "text/html": [
       "<div>\n",
       "<style scoped>\n",
       "    .dataframe tbody tr th:only-of-type {\n",
       "        vertical-align: middle;\n",
       "    }\n",
       "\n",
       "    .dataframe tbody tr th {\n",
       "        vertical-align: top;\n",
       "    }\n",
       "\n",
       "    .dataframe thead th {\n",
       "        text-align: right;\n",
       "    }\n",
       "</style>\n",
       "<table border=\"1\" class=\"dataframe\">\n",
       "  <thead>\n",
       "    <tr style=\"text-align: right;\">\n",
       "      <th></th>\n",
       "      <th>scaffold</th>\n",
       "      <th>sample</th>\n",
       "      <th>source</th>\n",
       "      <th>scaffold_length</th>\n",
       "      <th>provirus</th>\n",
       "      <th>proviral_length</th>\n",
       "      <th>gene_count</th>\n",
       "      <th>viral_genes</th>\n",
       "      <th>host_genes</th>\n",
       "      <th>checkv_quality</th>\n",
       "      <th>miuvig_quality</th>\n",
       "      <th>completeness</th>\n",
       "      <th>completeness_method</th>\n",
       "      <th>contamination</th>\n",
       "      <th>kmer_freq</th>\n",
       "      <th>warnings</th>\n",
       "      <th>host_virus_ratio</th>\n",
       "      <th>category</th>\n",
       "    </tr>\n",
       "  </thead>\n",
       "  <tbody>\n",
       "    <tr>\n",
       "      <th>0</th>\n",
       "      <td>LacPavin_0419_WC53_scaffold_20050</td>\n",
       "      <td>LacPavin_0419_WC53</td>\n",
       "      <td>both</td>\n",
       "      <td>32549</td>\n",
       "      <td>No</td>\n",
       "      <td>NaN</td>\n",
       "      <td>48</td>\n",
       "      <td>2</td>\n",
       "      <td>1</td>\n",
       "      <td>Medium-quality</td>\n",
       "      <td>Genome-fragment</td>\n",
       "      <td>72.62</td>\n",
       "      <td>AAI-based (medium-confidence)</td>\n",
       "      <td>0.0</td>\n",
       "      <td>1.0</td>\n",
       "      <td>NaN</td>\n",
       "      <td>0.5</td>\n",
       "      <td>unknown:length</td>\n",
       "    </tr>\n",
       "    <tr>\n",
       "      <th>1</th>\n",
       "      <td>LacPavin_0818_WC55_scaffold_109062</td>\n",
       "      <td>LacPavin_0818_WC55</td>\n",
       "      <td>both</td>\n",
       "      <td>12965</td>\n",
       "      <td>No</td>\n",
       "      <td>NaN</td>\n",
       "      <td>15</td>\n",
       "      <td>10</td>\n",
       "      <td>0</td>\n",
       "      <td>Low-quality</td>\n",
       "      <td>Genome-fragment</td>\n",
       "      <td>40.62</td>\n",
       "      <td>AAI-based (high-confidence)</td>\n",
       "      <td>0.0</td>\n",
       "      <td>1.0</td>\n",
       "      <td>NaN</td>\n",
       "      <td>0.0</td>\n",
       "      <td>unknown:length</td>\n",
       "    </tr>\n",
       "    <tr>\n",
       "      <th>2</th>\n",
       "      <td>LacPavin_0818_WC40_scaffold_137667</td>\n",
       "      <td>LacPavin_0818_WC40</td>\n",
       "      <td>both</td>\n",
       "      <td>10302</td>\n",
       "      <td>No</td>\n",
       "      <td>NaN</td>\n",
       "      <td>29</td>\n",
       "      <td>6</td>\n",
       "      <td>0</td>\n",
       "      <td>Low-quality</td>\n",
       "      <td>Genome-fragment</td>\n",
       "      <td>27.00</td>\n",
       "      <td>AAI-based (high-confidence)</td>\n",
       "      <td>0.0</td>\n",
       "      <td>1.0</td>\n",
       "      <td>NaN</td>\n",
       "      <td>0.0</td>\n",
       "      <td>unknown:length</td>\n",
       "    </tr>\n",
       "    <tr>\n",
       "      <th>3</th>\n",
       "      <td>LacPavin_0419_WC70S_scaffold_385877</td>\n",
       "      <td>LacPavin_0419_WC70S</td>\n",
       "      <td>virsorter</td>\n",
       "      <td>25654</td>\n",
       "      <td>No</td>\n",
       "      <td>NaN</td>\n",
       "      <td>32</td>\n",
       "      <td>3</td>\n",
       "      <td>1</td>\n",
       "      <td>Medium-quality</td>\n",
       "      <td>Genome-fragment</td>\n",
       "      <td>67.90</td>\n",
       "      <td>AAI-based (medium-confidence)</td>\n",
       "      <td>0.0</td>\n",
       "      <td>1.0</td>\n",
       "      <td>NaN</td>\n",
       "      <td>0.333333</td>\n",
       "      <td>unknown:length</td>\n",
       "    </tr>\n",
       "    <tr>\n",
       "      <th>4</th>\n",
       "      <td>LacPavin_0419_WC70S_scaffold_1098789</td>\n",
       "      <td>LacPavin_0419_WC70S</td>\n",
       "      <td>both</td>\n",
       "      <td>16286</td>\n",
       "      <td>No</td>\n",
       "      <td>NaN</td>\n",
       "      <td>18</td>\n",
       "      <td>5</td>\n",
       "      <td>0</td>\n",
       "      <td>Low-quality</td>\n",
       "      <td>Genome-fragment</td>\n",
       "      <td>43.04</td>\n",
       "      <td>AAI-based (high-confidence)</td>\n",
       "      <td>0.0</td>\n",
       "      <td>1.0</td>\n",
       "      <td>NaN</td>\n",
       "      <td>0.0</td>\n",
       "      <td>unknown:length</td>\n",
       "    </tr>\n",
       "  </tbody>\n",
       "</table>\n",
       "</div>"
      ],
      "text/plain": [
       "                               scaffold               sample     source  \\\n",
       "0     LacPavin_0419_WC53_scaffold_20050   LacPavin_0419_WC53       both   \n",
       "1    LacPavin_0818_WC55_scaffold_109062   LacPavin_0818_WC55       both   \n",
       "2    LacPavin_0818_WC40_scaffold_137667   LacPavin_0818_WC40       both   \n",
       "3   LacPavin_0419_WC70S_scaffold_385877  LacPavin_0419_WC70S  virsorter   \n",
       "4  LacPavin_0419_WC70S_scaffold_1098789  LacPavin_0419_WC70S       both   \n",
       "\n",
       "   scaffold_length provirus  proviral_length  gene_count  viral_genes  \\\n",
       "0            32549       No              NaN          48            2   \n",
       "1            12965       No              NaN          15           10   \n",
       "2            10302       No              NaN          29            6   \n",
       "3            25654       No              NaN          32            3   \n",
       "4            16286       No              NaN          18            5   \n",
       "\n",
       "   host_genes  checkv_quality   miuvig_quality  completeness  \\\n",
       "0           1  Medium-quality  Genome-fragment         72.62   \n",
       "1           0     Low-quality  Genome-fragment         40.62   \n",
       "2           0     Low-quality  Genome-fragment         27.00   \n",
       "3           1  Medium-quality  Genome-fragment         67.90   \n",
       "4           0     Low-quality  Genome-fragment         43.04   \n",
       "\n",
       "             completeness_method  contamination  kmer_freq warnings  \\\n",
       "0  AAI-based (medium-confidence)            0.0        1.0      NaN   \n",
       "1    AAI-based (high-confidence)            0.0        1.0      NaN   \n",
       "2    AAI-based (high-confidence)            0.0        1.0      NaN   \n",
       "3  AAI-based (medium-confidence)            0.0        1.0      NaN   \n",
       "4    AAI-based (high-confidence)            0.0        1.0      NaN   \n",
       "\n",
       "  host_virus_ratio        category  \n",
       "0              0.5  unknown:length  \n",
       "1              0.0  unknown:length  \n",
       "2              0.0  unknown:length  \n",
       "3         0.333333  unknown:length  \n",
       "4              0.0  unknown:length  "
      ]
     },
     "execution_count": 15,
     "metadata": {},
     "output_type": "execute_result"
    }
   ],
   "source": [
    "# merge\n",
    "vmerge = mdf.query(\"scaffold_length>10000\")[[\"scaffold\", \"sample\", \"source\", \"scaffold_length\"]].drop_duplicates().merge(cvresults, left_on=\"scaffold\", right_on=\"contig_id\", how=\"left\")\n",
    "vmerge = vmerge.drop([\"contig_id\", \"contig_length\"], axis=1)\n",
    "vmerge.head()"
   ]
  },
  {
   "cell_type": "markdown",
   "metadata": {},
   "source": [
    "### write out secondary"
   ]
  },
  {
   "cell_type": "code",
   "execution_count": 26,
   "metadata": {},
   "outputs": [],
   "source": [
    "#read in all sequences\n",
    "full_seq_dict = {}\n",
    "for record in SeqIO.parse(open(rootdir + \"viral/genomes/prelim_genomes_10kb.fna\"), \"fasta\"):\n",
    "    full_seq_dict[record.description] = str(record.seq)\n",
    "\n",
    "pro_seq_dict = {}\n",
    "for record in SeqIO.parse(open(rootdir + \"viral/checkv/proviruses.fna\"), \"fasta\"):\n",
    "    \n",
    "    name = scaffold(record.description.split(\" \")[0])\n",
    "    # if multiple prophage regions\n",
    "    if name in pro_seq_dict.keys():\n",
    "        # replace if larger\n",
    "        if len(record.seq) > len(pro_seq_dict[name]):\n",
    "            pro_seq_dict[name] = str(record.seq)\n",
    "        else: continue \n",
    "    else: pro_seq_dict[name] = str(record.seq)    "
   ]
  },
  {
   "cell_type": "code",
   "execution_count": 1222,
   "metadata": {},
   "outputs": [],
   "source": [
    "with open(rootdir + \"viral/genomes/checkv_genomes_50kb.fna\", \"w\") as out:\n",
    "    \n",
    "    for key, row in vmerge.query(\"scaffold_length>=50000\").iterrows():\n",
    "        \n",
    "        if row[\"category\"] == \"provirus:checkv\":\n",
    "            sequence = pro_seq_dict[row[\"scaffold\"]]\n",
    "        else: sequence = full_seq_dict[row[\"scaffold\"]]\n",
    "        \n",
    "        out.write(\">%s\\n%s\\n\" %(row[\"scaffold\"], sequence))"
   ]
  },
  {
   "cell_type": "markdown",
   "metadata": {},
   "source": [
    "### id euk viruses"
   ]
  },
  {
   "cell_type": "code",
   "execution_count": 17,
   "metadata": {},
   "outputs": [],
   "source": [
    "import skbio.io\n",
    "cmdir(rootdir +\"viral/scripts\")"
   ]
  },
  {
   "cell_type": "code",
   "execution_count": 1196,
   "metadata": {},
   "outputs": [
    {
     "name": "stdout",
     "output_type": "stream",
     "text": [
      "prodigal -a /groups/banfield/projects/environmental/LacPavin/analysis/viral/genomes/checkv_genomes_50kb.faa -i /groups/banfield/projects/environmental/LacPavin/analysis/viral/genomes/checkv_genomes_50kb.fna -m -p meta\n"
     ]
    }
   ],
   "source": [
    "# predict with meta mode\n",
    "call = \"prodigal -a %s -i %s -m -p meta\" %(rootdir + \"viral/genomes/checkv_genomes_50kb.faa\", rootdir + \"viral/genomes/checkv_genomes_50kb.fna\")\n",
    "print(call)"
   ]
  },
  {
   "cell_type": "code",
   "execution_count": 1223,
   "metadata": {},
   "outputs": [
    {
     "name": "stdout",
     "output_type": "stream",
     "text": [
      "sbatch -J dmnd --wrap 'diamond blastp -d /shared/db/refseq/latest/protein/blast/refseq_protein -q /groups/banfield/projects/environmental/LacPavin/analysis/viral/genomes/checkv_genomes_50kb.faa -o /groups/banfield/projects/environmental/LacPavin/analysis/viral/genomes/matches.tsv --threads 48 -b8 -c1'\n"
     ]
    }
   ],
   "source": [
    "# run diamond with refseq db\n",
    "call = \"sbatch -J dmnd --wrap 'diamond blastp -d /shared/db/refseq/latest/protein/blast/refseq_protein -q %s -o %s --threads 48 -b8 -c1'\" %(rootdir + \"viral/genomes/checkv_genomes_50kb.faa\", rootdir + \"viral/genomes/matches.tsv\")\n",
    "print(call)"
   ]
  },
  {
   "cell_type": "code",
   "execution_count": 18,
   "metadata": {},
   "outputs": [
    {
     "data": {
      "text/html": [
       "<div>\n",
       "<style scoped>\n",
       "    .dataframe tbody tr th:only-of-type {\n",
       "        vertical-align: middle;\n",
       "    }\n",
       "\n",
       "    .dataframe tbody tr th {\n",
       "        vertical-align: top;\n",
       "    }\n",
       "\n",
       "    .dataframe thead th {\n",
       "        text-align: right;\n",
       "    }\n",
       "</style>\n",
       "<table border=\"1\" class=\"dataframe\">\n",
       "  <thead>\n",
       "    <tr style=\"text-align: right;\">\n",
       "      <th></th>\n",
       "      <th>qseqid</th>\n",
       "      <th>sseqid</th>\n",
       "      <th>pident</th>\n",
       "      <th>length</th>\n",
       "      <th>mismatch</th>\n",
       "      <th>gapopen</th>\n",
       "      <th>qstart</th>\n",
       "      <th>qend</th>\n",
       "      <th>sstart</th>\n",
       "      <th>send</th>\n",
       "      <th>evalue</th>\n",
       "      <th>bitscore</th>\n",
       "      <th>qlen</th>\n",
       "      <th>qcov</th>\n",
       "    </tr>\n",
       "  </thead>\n",
       "  <tbody>\n",
       "    <tr>\n",
       "      <th>330497</th>\n",
       "      <td>LacPavin_0818_WC55_scaffold_149733_59</td>\n",
       "      <td>YP_009791268</td>\n",
       "      <td>52.9</td>\n",
       "      <td>4098.0</td>\n",
       "      <td>1817.0</td>\n",
       "      <td>42.0</td>\n",
       "      <td>1.0</td>\n",
       "      <td>4018.0</td>\n",
       "      <td>1.0</td>\n",
       "      <td>4065.0</td>\n",
       "      <td>0.0</td>\n",
       "      <td>4114.0</td>\n",
       "      <td>4020</td>\n",
       "      <td>0.999254</td>\n",
       "    </tr>\n",
       "    <tr>\n",
       "      <th>651522</th>\n",
       "      <td>LacPavin_0818_WC45_scaffold_259181_58</td>\n",
       "      <td>YP_009791268</td>\n",
       "      <td>52.9</td>\n",
       "      <td>4098.0</td>\n",
       "      <td>1817.0</td>\n",
       "      <td>42.0</td>\n",
       "      <td>1.0</td>\n",
       "      <td>4018.0</td>\n",
       "      <td>1.0</td>\n",
       "      <td>4065.0</td>\n",
       "      <td>0.0</td>\n",
       "      <td>4114.0</td>\n",
       "      <td>4020</td>\n",
       "      <td>0.999254</td>\n",
       "    </tr>\n",
       "    <tr>\n",
       "      <th>1415410</th>\n",
       "      <td>LacPavin_0818_WC40_scaffold_1080633_59</td>\n",
       "      <td>YP_009791268</td>\n",
       "      <td>52.9</td>\n",
       "      <td>4098.0</td>\n",
       "      <td>1817.0</td>\n",
       "      <td>42.0</td>\n",
       "      <td>1.0</td>\n",
       "      <td>4018.0</td>\n",
       "      <td>1.0</td>\n",
       "      <td>4065.0</td>\n",
       "      <td>0.0</td>\n",
       "      <td>4114.0</td>\n",
       "      <td>4020</td>\n",
       "      <td>0.999254</td>\n",
       "    </tr>\n",
       "    <tr>\n",
       "      <th>1597151</th>\n",
       "      <td>LacPavin_0818_WC40_scaffold_317542_71</td>\n",
       "      <td>YP_009791268</td>\n",
       "      <td>52.3</td>\n",
       "      <td>4086.0</td>\n",
       "      <td>1840.0</td>\n",
       "      <td>43.0</td>\n",
       "      <td>1.0</td>\n",
       "      <td>3998.0</td>\n",
       "      <td>1.0</td>\n",
       "      <td>4065.0</td>\n",
       "      <td>0.0</td>\n",
       "      <td>4063.0</td>\n",
       "      <td>4001</td>\n",
       "      <td>0.999000</td>\n",
       "    </tr>\n",
       "    <tr>\n",
       "      <th>1595938</th>\n",
       "      <td>LacPavin_0818_WC45_scaffold_257799_72</td>\n",
       "      <td>YP_009791268</td>\n",
       "      <td>52.1</td>\n",
       "      <td>3933.0</td>\n",
       "      <td>1776.0</td>\n",
       "      <td>42.0</td>\n",
       "      <td>8.0</td>\n",
       "      <td>3852.0</td>\n",
       "      <td>153.0</td>\n",
       "      <td>4065.0</td>\n",
       "      <td>0.0</td>\n",
       "      <td>3887.0</td>\n",
       "      <td>3855</td>\n",
       "      <td>0.997147</td>\n",
       "    </tr>\n",
       "  </tbody>\n",
       "</table>\n",
       "</div>"
      ],
      "text/plain": [
       "                                         qseqid        sseqid  pident  length  \\\n",
       "330497    LacPavin_0818_WC55_scaffold_149733_59  YP_009791268    52.9  4098.0   \n",
       "651522    LacPavin_0818_WC45_scaffold_259181_58  YP_009791268    52.9  4098.0   \n",
       "1415410  LacPavin_0818_WC40_scaffold_1080633_59  YP_009791268    52.9  4098.0   \n",
       "1597151   LacPavin_0818_WC40_scaffold_317542_71  YP_009791268    52.3  4086.0   \n",
       "1595938   LacPavin_0818_WC45_scaffold_257799_72  YP_009791268    52.1  3933.0   \n",
       "\n",
       "         mismatch  gapopen  qstart    qend  sstart    send  evalue  bitscore  \\\n",
       "330497     1817.0     42.0     1.0  4018.0     1.0  4065.0     0.0    4114.0   \n",
       "651522     1817.0     42.0     1.0  4018.0     1.0  4065.0     0.0    4114.0   \n",
       "1415410    1817.0     42.0     1.0  4018.0     1.0  4065.0     0.0    4114.0   \n",
       "1597151    1840.0     43.0     1.0  3998.0     1.0  4065.0     0.0    4063.0   \n",
       "1595938    1776.0     42.0     8.0  3852.0   153.0  4065.0     0.0    3887.0   \n",
       "\n",
       "         qlen      qcov  \n",
       "330497   4020  0.999254  \n",
       "651522   4020  0.999254  \n",
       "1415410  4020  0.999254  \n",
       "1597151  4001  0.999000  \n",
       "1595938  3855  0.997147  "
      ]
     },
     "execution_count": 18,
     "metadata": {},
     "output_type": "execute_result"
    }
   ],
   "source": [
    "bresults = skbio.io.read(rootdir + \"viral/genomes/matches.tsv\", format=\"blast+6\", into=pd.DataFrame, default_columns=True)\n",
    "# compute coverage\n",
    "ref_lens = {record.description.split(\" \")[0]: len(record.seq) for record in SeqIO.parse(open(rootdir + \"viral/genomes/checkv_genomes_50kb.faa\"), \"fasta\")}\n",
    "bresults[\"qlen\"] = bresults[\"qseqid\"].map(ref_lens)\n",
    "bresults[\"qcov\"] = bresults.apply(lambda x: (x[\"qend\"]-x[\"qstart\"])/x[\"qlen\"], axis=1)\n",
    "# choose best hits for each\n",
    "bresults = bresults.sort_values([\"bitscore\", \"qcov\"], ascending=[False,False]).drop_duplicates(\"qseqid\")\n",
    "# filter for min cov /eval\n",
    "bresults = bresults[(bresults[\"evalue\"]<1e-10) & (bresults[\"qcov\"]>0.70)]\n",
    "bresults.head()"
   ]
  },
  {
   "cell_type": "code",
   "execution_count": 1090,
   "metadata": {},
   "outputs": [],
   "source": [
    "with open(rootdir + \"viral/scripts/reruns2.sh\", \"w\") as out:\n",
    "    #accs = list(bresults[\"sseqid\"].unique())\n",
    "    accs = bresults[bresults[\"taxonomy\"].isin([\"None\", \"\"])][\"sseqid\"].unique()\n",
    "    n=len(accs)\n",
    "    for i in range(0, len(accs),n):\n",
    "        out.write(\"efetch --db protein --format gb --id %s > %s\\n\" %(\",\".join(accs[i:i + n]), \\\n",
    "            rootdir + \"viral/genomes/rerun\" + str(int(i/n)) + \".gb\"))"
   ]
  },
  {
   "cell_type": "code",
   "execution_count": 19,
   "metadata": {},
   "outputs": [],
   "source": [
    "taxdict = {}\n",
    "\n",
    "for gb_file in glob.glob(rootdir + \"viral/genomes/*.gb\"):\n",
    "    for record in SeqIO.parse(open(gb_file), \"gb\"):\n",
    "        taxdict[record.id.split(\".\")[0]] = \";\".join(record.annotations[\"taxonomy\"])\n",
    "    \n",
    "bresults[\"taxonomy\"] = bresults[\"sseqid\"].map(taxdict).fillna(\"None\")"
   ]
  },
  {
   "cell_type": "code",
   "execution_count": 20,
   "metadata": {},
   "outputs": [],
   "source": [
    "euk_viruses = [\"Artverviricota\", \"Baculoviridae\", \"Nucleocytoviricota\", \"Preplasmiviricota\", 'unclassified dsDNA viruses']\n",
    "prok_viruses = [\"Uroviricota\", \"unclassified archaeal dsDNA viruses\", \"unclassified dsDNA phages\"]"
   ]
  },
  {
   "cell_type": "code",
   "execution_count": 21,
   "metadata": {},
   "outputs": [],
   "source": [
    "def classify_hit(taxstring):\n",
    "    \n",
    "    domain = taxstring.split(\";\")[0]\n",
    "    \n",
    "    if (domain == \"Viruses\") and len(taxstring.split(\";\")) > 3:\n",
    "        vorder = taxstring.split(\";\")[3]\n",
    "    else: vorder = 'None'\n",
    "    \n",
    "    if  (domain == \"Eukaryota\") or \\\n",
    "        vorder in euk_viruses:\n",
    "        return \"euk/euk virus\"\n",
    "    \n",
    "    elif (domain in [\"Bacteria\", \"Archaea\"]) or \\\n",
    "        vorder in prok_viruses:\n",
    "        return \"prok/phage\"\n",
    "    \n",
    "    else: return \"None\""
   ]
  },
  {
   "cell_type": "code",
   "execution_count": 22,
   "metadata": {},
   "outputs": [
    {
     "data": {
      "text/plain": [
       "prok/phage       56000\n",
       "euk/euk virus     5973\n",
       "None               155\n",
       "Name: taxonomy_bin, dtype: int64"
      ]
     },
     "execution_count": 22,
     "metadata": {},
     "output_type": "execute_result"
    }
   ],
   "source": [
    "# create bins\n",
    "bresults[\"taxonomy_bin\"] = bresults[\"taxonomy\"].apply(classify_hit)\n",
    "bresults[\"taxonomy_bin\"].value_counts()"
   ]
  },
  {
   "cell_type": "code",
   "execution_count": 29,
   "metadata": {},
   "outputs": [
    {
     "data": {
      "text/html": [
       "<div>\n",
       "<style scoped>\n",
       "    .dataframe tbody tr th:only-of-type {\n",
       "        vertical-align: middle;\n",
       "    }\n",
       "\n",
       "    .dataframe tbody tr th {\n",
       "        vertical-align: top;\n",
       "    }\n",
       "\n",
       "    .dataframe thead th {\n",
       "        text-align: right;\n",
       "    }\n",
       "</style>\n",
       "<table border=\"1\" class=\"dataframe\">\n",
       "  <thead>\n",
       "    <tr style=\"text-align: right;\">\n",
       "      <th>taxonomy_bin</th>\n",
       "      <th>scaffold</th>\n",
       "      <th>euk/euk virus</th>\n",
       "      <th>prok/phage</th>\n",
       "      <th>perc_annotated_euk</th>\n",
       "    </tr>\n",
       "  </thead>\n",
       "  <tbody>\n",
       "    <tr>\n",
       "      <th>0</th>\n",
       "      <td>LacPavin_0419_WC53_scaffold_10267</td>\n",
       "      <td>0.0</td>\n",
       "      <td>19.0</td>\n",
       "      <td>0.000000</td>\n",
       "    </tr>\n",
       "    <tr>\n",
       "      <th>1</th>\n",
       "      <td>LacPavin_0419_WC53_scaffold_103070</td>\n",
       "      <td>0.0</td>\n",
       "      <td>49.0</td>\n",
       "      <td>0.000000</td>\n",
       "    </tr>\n",
       "    <tr>\n",
       "      <th>2</th>\n",
       "      <td>LacPavin_0419_WC53_scaffold_105138</td>\n",
       "      <td>0.0</td>\n",
       "      <td>25.0</td>\n",
       "      <td>0.000000</td>\n",
       "    </tr>\n",
       "    <tr>\n",
       "      <th>3</th>\n",
       "      <td>LacPavin_0419_WC53_scaffold_105502</td>\n",
       "      <td>19.0</td>\n",
       "      <td>2.0</td>\n",
       "      <td>0.904762</td>\n",
       "    </tr>\n",
       "    <tr>\n",
       "      <th>4</th>\n",
       "      <td>LacPavin_0419_WC53_scaffold_114277</td>\n",
       "      <td>0.0</td>\n",
       "      <td>29.0</td>\n",
       "      <td>0.000000</td>\n",
       "    </tr>\n",
       "  </tbody>\n",
       "</table>\n",
       "</div>"
      ],
      "text/plain": [
       "taxonomy_bin                            scaffold  euk/euk virus  prok/phage  \\\n",
       "0              LacPavin_0419_WC53_scaffold_10267            0.0        19.0   \n",
       "1             LacPavin_0419_WC53_scaffold_103070            0.0        49.0   \n",
       "2             LacPavin_0419_WC53_scaffold_105138            0.0        25.0   \n",
       "3             LacPavin_0419_WC53_scaffold_105502           19.0         2.0   \n",
       "4             LacPavin_0419_WC53_scaffold_114277            0.0        29.0   \n",
       "\n",
       "taxonomy_bin  perc_annotated_euk  \n",
       "0                       0.000000  \n",
       "1                       0.000000  \n",
       "2                       0.000000  \n",
       "3                       0.904762  \n",
       "4                       0.000000  "
      ]
     },
     "execution_count": 29,
     "metadata": {},
     "output_type": "execute_result"
    }
   ],
   "source": [
    "# compute % total and % annotated in euk bin\n",
    "bresults[\"scaffold\"] = bresults[\"qseqid\"].apply(scaffold)\n",
    "bgb = bresults.groupby([\"scaffold\",\"taxonomy_bin\"], as_index=False).aggregate({\"qseqid\":\"count\"})\n",
    "bpiv = bgb.query(\"taxonomy_bin!='None'\").pivot(\"scaffold\", \"taxonomy_bin\", \"qseqid\").fillna(0).reset_index()\n",
    "bpiv[\"perc_annotated_euk\"] = bpiv.apply(lambda x: x[\"euk/euk virus\"]/(x[\"euk/euk virus\"]+x[\"prok/phage\"]), axis=1)\n",
    "bpiv.head()"
   ]
  },
  {
   "cell_type": "code",
   "execution_count": 24,
   "metadata": {},
   "outputs": [
    {
     "data": {
      "image/png": "[encoded data removed]",
      "text/plain": [
       "<Figure size 432x288 with 1 Axes>"
      ]
     },
     "metadata": {
      "needs_background": "light"
     },
     "output_type": "display_data"
    }
   ],
   "source": [
    "# plot and filter\n",
    "sns.distplot(bpiv[\"perc_annotated_euk\"], kde=False, bins=50)\n",
    "plt.axvline(0.25)\n",
    "plt.yscale(\"log\")"
   ]
  },
  {
   "cell_type": "code",
   "execution_count": 71,
   "metadata": {},
   "outputs": [],
   "source": [
    "# write out filtered names\n",
    "bpiv.query(\"perc_annotated_euk<0.25\")[\"scaffold\"].to_csv(rootdir + \\\n",
    "    \"viral/genomes/checkv_genomes_50kb_filtered.txt\", header=None, index=False)\n",
    "bpiv[\"putative_euk_virus\"] = bpiv[\"perc_annotated_euk\"].apply(lambda x: x >= 0.25)"
   ]
  },
  {
   "cell_type": "markdown",
   "metadata": {},
   "source": [
    "Then pullseq from fna to create new."
   ]
  },
  {
   "cell_type": "markdown",
   "metadata": {},
   "source": [
    "### dereplicate"
   ]
  },
  {
   "cell_type": "code",
   "execution_count": 1253,
   "metadata": {},
   "outputs": [],
   "source": [
    "cmdir(rootdir + \"viral/drep\")"
   ]
  },
  {
   "cell_type": "code",
   "execution_count": 1252,
   "metadata": {},
   "outputs": [],
   "source": [
    "# create split files\n",
    "cmdir(rootdir + \"viral/genomes/checkv_genomes_50kb_filtered/\")\n",
    "\n",
    "for record in SeqIO.parse(open(rootdir + \"viral/genomes/checkv_genomes_50kb_filtered.fna\"), \"fasta\"):\n",
    "    with open(rootdir + \"viral/genomes/checkv_genomes_50kb_filtered/\" + record.description.split(\" \")[0] + \".fna\", \"w\") as out:\n",
    "        out.write(\">%s\\n%s\\n\" %(record.description.split(\" \")[0], str(record.seq)))"
   ]
  },
  {
   "cell_type": "code",
   "execution_count": 1181,
   "metadata": {},
   "outputs": [
    {
     "name": "stdout",
     "output_type": "stream",
     "text": [
      "sbatch --wrap 'dRep cluster -g /groups/banfield/projects/environmental/LacPavin/analysis/viral/genomes/checkv_genomes_50kb_filtered/* -p 48 -pa 0.80 -sa 0.95 --clusterAlg single /groups/banfield/projects/environmental/LacPavin/analysis/viral/drep'\n",
      "dRep analyze /groups/banfield/projects/environmental/LacPavin/analysis/viral/drep -pl 2\n"
     ]
    }
   ],
   "source": [
    "call = \"sbatch --wrap 'dRep cluster -g %s -p 48 -pa 0.80 -sa 0.95 --clusterAlg single %s'\" %(rootdir + \\\n",
    "    \"viral/genomes/checkv_genomes_50kb_filtered/*\", rootdir + \"viral/drep\")\n",
    "print(call)\n",
    "call2 = \"dRep analyze %s -pl 2\" %(rootdir + \"viral/drep\")\n",
    "print(call2)"
   ]
  },
  {
   "cell_type": "code",
   "execution_count": 27,
   "metadata": {},
   "outputs": [
    {
     "data": {
      "text/html": [
       "<div>\n",
       "<style scoped>\n",
       "    .dataframe tbody tr th:only-of-type {\n",
       "        vertical-align: middle;\n",
       "    }\n",
       "\n",
       "    .dataframe tbody tr th {\n",
       "        vertical-align: top;\n",
       "    }\n",
       "\n",
       "    .dataframe thead th {\n",
       "        text-align: right;\n",
       "    }\n",
       "</style>\n",
       "<table border=\"1\" class=\"dataframe\">\n",
       "  <thead>\n",
       "    <tr style=\"text-align: right;\">\n",
       "      <th></th>\n",
       "      <th>scaffold</th>\n",
       "      <th>primary_cluster</th>\n",
       "      <th>secondary_cluster</th>\n",
       "      <th>viral_region_length</th>\n",
       "      <th>representative</th>\n",
       "    </tr>\n",
       "  </thead>\n",
       "  <tbody>\n",
       "    <tr>\n",
       "      <th>155</th>\n",
       "      <td>LacPavin_0818_WC50_scaffold_87984</td>\n",
       "      <td>100</td>\n",
       "      <td>100_1</td>\n",
       "      <td>79155</td>\n",
       "      <td>False</td>\n",
       "    </tr>\n",
       "    <tr>\n",
       "      <th>154</th>\n",
       "      <td>LacPavin_0818_WC40_scaffold_224627</td>\n",
       "      <td>100</td>\n",
       "      <td>100_1</td>\n",
       "      <td>131977</td>\n",
       "      <td>True</td>\n",
       "    </tr>\n",
       "    <tr>\n",
       "      <th>157</th>\n",
       "      <td>LacPavin_0818_WC45_scaffold_91954</td>\n",
       "      <td>101</td>\n",
       "      <td>101_1</td>\n",
       "      <td>179571</td>\n",
       "      <td>True</td>\n",
       "    </tr>\n",
       "    <tr>\n",
       "      <th>156</th>\n",
       "      <td>LacPavin_0818_WC40_scaffold_209120</td>\n",
       "      <td>101</td>\n",
       "      <td>101_1</td>\n",
       "      <td>179480</td>\n",
       "      <td>False</td>\n",
       "    </tr>\n",
       "    <tr>\n",
       "      <th>158</th>\n",
       "      <td>LacPavin_0818_WC40_scaffold_736353</td>\n",
       "      <td>102</td>\n",
       "      <td>102_0</td>\n",
       "      <td>60858</td>\n",
       "      <td>True</td>\n",
       "    </tr>\n",
       "  </tbody>\n",
       "</table>\n",
       "</div>"
      ],
      "text/plain": [
       "                               scaffold  primary_cluster secondary_cluster  \\\n",
       "155   LacPavin_0818_WC50_scaffold_87984              100             100_1   \n",
       "154  LacPavin_0818_WC40_scaffold_224627              100             100_1   \n",
       "157   LacPavin_0818_WC45_scaffold_91954              101             101_1   \n",
       "156  LacPavin_0818_WC40_scaffold_209120              101             101_1   \n",
       "158  LacPavin_0818_WC40_scaffold_736353              102             102_0   \n",
       "\n",
       "     viral_region_length  representative  \n",
       "155                79155           False  \n",
       "154               131977            True  \n",
       "157               179571            True  \n",
       "156               179480           False  \n",
       "158                60858            True  "
      ]
     },
     "execution_count": 27,
     "metadata": {},
     "output_type": "execute_result"
    }
   ],
   "source": [
    "# select representatives\n",
    "vclust = pd.read_csv(rootdir + \"viral/drep/data_tables/Cdb.csv\")\n",
    "# get all scaflens\n",
    "vlens = {key: len(item) for key, item in {**full_seq_dict, **pro_seq_dict}.items()}\n",
    "vclust[\"scaffold\"] = vclust[\"genome\"].apply(lambda x: x.replace(\".fna\", \"\"))\n",
    "vclust[\"viral_region_length\"] = vclust[\"scaffold\"].map(vlens)\n",
    "# define representatives as longest sequence\n",
    "reps = vclust.sort_values([\"secondary_cluster\", \"viral_region_length\"], ascending=[True,False]).drop_duplicates(\"secondary_cluster\")[\"scaffold\"].to_list()\n",
    "vclust[\"representative\"] = vclust[\"scaffold\"].apply(lambda x: x in reps)\n",
    "vclustsub = vclust[[\"scaffold\", \"primary_cluster\", \"secondary_cluster\", \"viral_region_length\", \"representative\"]].sort_values(\"secondary_cluster\")\n",
    "vclustsub.head()"
   ]
  },
  {
   "cell_type": "markdown",
   "metadata": {},
   "source": [
    "# finalize"
   ]
  },
  {
   "cell_type": "markdown",
   "metadata": {},
   "source": [
    "### merge + curate"
   ]
  },
  {
   "cell_type": "code",
   "execution_count": 1258,
   "metadata": {},
   "outputs": [],
   "source": [
    "cmdir(rootdir + \"viral/metadata\")"
   ]
  },
  {
   "cell_type": "code",
   "execution_count": 72,
   "metadata": {},
   "outputs": [
    {
     "data": {
      "text/html": [
       "<div>\n",
       "<style scoped>\n",
       "    .dataframe tbody tr th:only-of-type {\n",
       "        vertical-align: middle;\n",
       "    }\n",
       "\n",
       "    .dataframe tbody tr th {\n",
       "        vertical-align: top;\n",
       "    }\n",
       "\n",
       "    .dataframe thead th {\n",
       "        text-align: right;\n",
       "    }\n",
       "</style>\n",
       "<table border=\"1\" class=\"dataframe\">\n",
       "  <thead>\n",
       "    <tr style=\"text-align: right;\">\n",
       "      <th></th>\n",
       "      <th>scaffold</th>\n",
       "      <th>sample</th>\n",
       "      <th>source</th>\n",
       "      <th>scaffold_length</th>\n",
       "      <th>provirus</th>\n",
       "      <th>proviral_length</th>\n",
       "      <th>gene_count</th>\n",
       "      <th>viral_genes</th>\n",
       "      <th>host_genes</th>\n",
       "      <th>checkv_quality</th>\n",
       "      <th>...</th>\n",
       "      <th>contamination</th>\n",
       "      <th>kmer_freq</th>\n",
       "      <th>warnings</th>\n",
       "      <th>host_virus_ratio</th>\n",
       "      <th>category</th>\n",
       "      <th>putative_euk_virus</th>\n",
       "      <th>primary_cluster</th>\n",
       "      <th>secondary_cluster</th>\n",
       "      <th>viral_region_length</th>\n",
       "      <th>representative</th>\n",
       "    </tr>\n",
       "  </thead>\n",
       "  <tbody>\n",
       "    <tr>\n",
       "      <th>0</th>\n",
       "      <td>LacPavin_0419_WC53_scaffold_20050</td>\n",
       "      <td>LacPavin_0419_WC53</td>\n",
       "      <td>both</td>\n",
       "      <td>32549</td>\n",
       "      <td>No</td>\n",
       "      <td>None</td>\n",
       "      <td>48</td>\n",
       "      <td>2</td>\n",
       "      <td>1</td>\n",
       "      <td>Medium-quality</td>\n",
       "      <td>...</td>\n",
       "      <td>0.0</td>\n",
       "      <td>1.0</td>\n",
       "      <td>None</td>\n",
       "      <td>0.5</td>\n",
       "      <td>unknown:length</td>\n",
       "      <td>None</td>\n",
       "      <td>None</td>\n",
       "      <td>None</td>\n",
       "      <td>None</td>\n",
       "      <td>None</td>\n",
       "    </tr>\n",
       "    <tr>\n",
       "      <th>1</th>\n",
       "      <td>LacPavin_0818_WC55_scaffold_109062</td>\n",
       "      <td>LacPavin_0818_WC55</td>\n",
       "      <td>both</td>\n",
       "      <td>12965</td>\n",
       "      <td>No</td>\n",
       "      <td>None</td>\n",
       "      <td>15</td>\n",
       "      <td>10</td>\n",
       "      <td>0</td>\n",
       "      <td>Low-quality</td>\n",
       "      <td>...</td>\n",
       "      <td>0.0</td>\n",
       "      <td>1.0</td>\n",
       "      <td>None</td>\n",
       "      <td>0.0</td>\n",
       "      <td>unknown:length</td>\n",
       "      <td>None</td>\n",
       "      <td>None</td>\n",
       "      <td>None</td>\n",
       "      <td>None</td>\n",
       "      <td>None</td>\n",
       "    </tr>\n",
       "    <tr>\n",
       "      <th>2</th>\n",
       "      <td>LacPavin_0818_WC40_scaffold_137667</td>\n",
       "      <td>LacPavin_0818_WC40</td>\n",
       "      <td>both</td>\n",
       "      <td>10302</td>\n",
       "      <td>No</td>\n",
       "      <td>None</td>\n",
       "      <td>29</td>\n",
       "      <td>6</td>\n",
       "      <td>0</td>\n",
       "      <td>Low-quality</td>\n",
       "      <td>...</td>\n",
       "      <td>0.0</td>\n",
       "      <td>1.0</td>\n",
       "      <td>None</td>\n",
       "      <td>0.0</td>\n",
       "      <td>unknown:length</td>\n",
       "      <td>None</td>\n",
       "      <td>None</td>\n",
       "      <td>None</td>\n",
       "      <td>None</td>\n",
       "      <td>None</td>\n",
       "    </tr>\n",
       "    <tr>\n",
       "      <th>3</th>\n",
       "      <td>LacPavin_0419_WC70S_scaffold_385877</td>\n",
       "      <td>LacPavin_0419_WC70S</td>\n",
       "      <td>virsorter</td>\n",
       "      <td>25654</td>\n",
       "      <td>No</td>\n",
       "      <td>None</td>\n",
       "      <td>32</td>\n",
       "      <td>3</td>\n",
       "      <td>1</td>\n",
       "      <td>Medium-quality</td>\n",
       "      <td>...</td>\n",
       "      <td>0.0</td>\n",
       "      <td>1.0</td>\n",
       "      <td>None</td>\n",
       "      <td>0.333333</td>\n",
       "      <td>unknown:length</td>\n",
       "      <td>None</td>\n",
       "      <td>None</td>\n",
       "      <td>None</td>\n",
       "      <td>None</td>\n",
       "      <td>None</td>\n",
       "    </tr>\n",
       "    <tr>\n",
       "      <th>4</th>\n",
       "      <td>LacPavin_0419_WC70S_scaffold_1098789</td>\n",
       "      <td>LacPavin_0419_WC70S</td>\n",
       "      <td>both</td>\n",
       "      <td>16286</td>\n",
       "      <td>No</td>\n",
       "      <td>None</td>\n",
       "      <td>18</td>\n",
       "      <td>5</td>\n",
       "      <td>0</td>\n",
       "      <td>Low-quality</td>\n",
       "      <td>...</td>\n",
       "      <td>0.0</td>\n",
       "      <td>1.0</td>\n",
       "      <td>None</td>\n",
       "      <td>0.0</td>\n",
       "      <td>unknown:length</td>\n",
       "      <td>None</td>\n",
       "      <td>None</td>\n",
       "      <td>None</td>\n",
       "      <td>None</td>\n",
       "      <td>None</td>\n",
       "    </tr>\n",
       "  </tbody>\n",
       "</table>\n",
       "<p>5 rows × 23 columns</p>\n",
       "</div>"
      ],
      "text/plain": [
       "                               scaffold               sample     source  \\\n",
       "0     LacPavin_0419_WC53_scaffold_20050   LacPavin_0419_WC53       both   \n",
       "1    LacPavin_0818_WC55_scaffold_109062   LacPavin_0818_WC55       both   \n",
       "2    LacPavin_0818_WC40_scaffold_137667   LacPavin_0818_WC40       both   \n",
       "3   LacPavin_0419_WC70S_scaffold_385877  LacPavin_0419_WC70S  virsorter   \n",
       "4  LacPavin_0419_WC70S_scaffold_1098789  LacPavin_0419_WC70S       both   \n",
       "\n",
       "   scaffold_length provirus proviral_length  gene_count  viral_genes  \\\n",
       "0            32549       No            None          48            2   \n",
       "1            12965       No            None          15           10   \n",
       "2            10302       No            None          29            6   \n",
       "3            25654       No            None          32            3   \n",
       "4            16286       No            None          18            5   \n",
       "\n",
       "   host_genes  checkv_quality  ... contamination kmer_freq warnings  \\\n",
       "0           1  Medium-quality  ...           0.0       1.0     None   \n",
       "1           0     Low-quality  ...           0.0       1.0     None   \n",
       "2           0     Low-quality  ...           0.0       1.0     None   \n",
       "3           1  Medium-quality  ...           0.0       1.0     None   \n",
       "4           0     Low-quality  ...           0.0       1.0     None   \n",
       "\n",
       "   host_virus_ratio        category putative_euk_virus primary_cluster  \\\n",
       "0               0.5  unknown:length               None            None   \n",
       "1               0.0  unknown:length               None            None   \n",
       "2               0.0  unknown:length               None            None   \n",
       "3          0.333333  unknown:length               None            None   \n",
       "4               0.0  unknown:length               None            None   \n",
       "\n",
       "  secondary_cluster viral_region_length representative  \n",
       "0              None                None           None  \n",
       "1              None                None           None  \n",
       "2              None                None           None  \n",
       "3              None                None           None  \n",
       "4              None                None           None  \n",
       "\n",
       "[5 rows x 23 columns]"
      ]
     },
     "execution_count": 72,
     "metadata": {},
     "output_type": "execute_result"
    }
   ],
   "source": [
    "# merge back all info\n",
    "final_merge = vmerge.merge(bpiv[[\"scaffold\", \"putative_euk_virus\"]], on=\"scaffold\",how=\"left\")\n",
    "final_merge = final_merge.merge(vclustsub, how=\"left\", on=\"scaffold\").fillna(\"None\")\n",
    "final_merge.head()"
   ]
  },
  {
   "cell_type": "code",
   "execution_count": 1259,
   "metadata": {},
   "outputs": [],
   "source": [
    "# manual curation out\n",
    "final_merge[(final_merge[\"category\"]==\"curate\") & (final_merge[\"representative\"]==True)].to_csv(rootdir + \"viral/metadata/curate_in.tsv\", sep=\"\\t\", index=False)"
   ]
  },
  {
   "cell_type": "code",
   "execution_count": 73,
   "metadata": {},
   "outputs": [],
   "source": [
    "# manual curation in\n",
    "curation_results = pd.read_csv(rootdir + \"viral/metadata/curate_out.tsv\", sep=\"\\t\")\n",
    "final_merge = final_merge.merge(curation_results[[\"scaffold\", \"manual\"]], how=\"left\", on=\"scaffold\").fillna(\"None\")"
   ]
  },
  {
   "cell_type": "markdown",
   "metadata": {
    "tags": []
   },
   "source": [
    "### dereplicate again"
   ]
  },
  {
   "cell_type": "code",
   "execution_count": 1508,
   "metadata": {},
   "outputs": [],
   "source": [
    "cmdir(rootdir + \"viral/drep2\")\n",
    "cmdir(rootdir + \"viral/genomes/checkv_genomes_50kb_curated/\")"
   ]
  },
  {
   "cell_type": "code",
   "execution_count": 1510,
   "metadata": {},
   "outputs": [],
   "source": [
    "for key, row in final_merge.query(\"representative!='None'\").iterrows():\n",
    "    \n",
    "    with open(rootdir + \"viral/genomes/checkv_genomes_50kb_curated/\" + row[\"scaffold\"] + \".fna\", \"w\") as out:\n",
    "  \n",
    "        if (row[\"category\"] == \"provirus:checkv\") or (row[\"manual\"]==\"provirus:manual\"):\n",
    "            sequence = pro_seq_dict[row[\"scaffold\"]]\n",
    "        else: sequence = full_seq_dict[row[\"scaffold\"]]\n",
    "\n",
    "        out.write(\">%s\\n%s\\n\" %(row[\"scaffold\"], sequence))"
   ]
  },
  {
   "cell_type": "code",
   "execution_count": 1513,
   "metadata": {},
   "outputs": [
    {
     "name": "stdout",
     "output_type": "stream",
     "text": [
      "sbatch --wrap 'dRep cluster -g /groups/banfield/projects/environmental/LacPavin/analysis/viral/genomes/checkv_genomes_50kb_curated/* -p 48 -pa 0.80 -sa 0.95 --clusterAlg single /groups/banfield/projects/environmental/LacPavin/analysis/viral/drep2'\n"
     ]
    }
   ],
   "source": [
    "call = \"sbatch --wrap 'dRep cluster -g %s -p 48 -pa 0.80 -sa 0.95 --clusterAlg single %s'\" %(rootdir + \\\n",
    "    \"viral/genomes/checkv_genomes_50kb_curated/*\", rootdir + \"viral/drep2\")\n",
    "print(call)"
   ]
  },
  {
   "cell_type": "code",
   "execution_count": 74,
   "metadata": {},
   "outputs": [],
   "source": [
    "# select representatives\n",
    "reclust = pd.read_csv(rootdir + \"viral/drep2/data_tables/Cdb.csv\")\n",
    "# get all scaflens\n",
    "reclust[\"scaffold\"] = reclust[\"genome\"].apply(lambda x: x.replace(\".fna\", \"\"))\n",
    "reclust[\"viral_region_length\"] = reclust[\"scaffold\"].map(vlens)\n",
    "# define representatives as longest sequence\n",
    "reps = reclust.sort_values([\"secondary_cluster\", \"viral_region_length\"], ascending=[True,False]).drop_duplicates(\"secondary_cluster\")[\"scaffold\"].to_list()\n",
    "reclust[\"representative\"] = reclust[\"scaffold\"].apply(lambda x: x in reps)\n",
    "reclust_dict = {row[\"scaffold\"]: row[\"representative\"] for key, row in reclust.iterrows()}\n",
    "# merge back in\n",
    "final_merge[\"reclust\"] = final_merge[\"scaffold\"].apply(lambda x: reclust_dict[x] if x in list(reclust_dict.keys()) else \"None\")"
   ]
  },
  {
   "cell_type": "code",
   "execution_count": 75,
   "metadata": {},
   "outputs": [
    {
     "data": {
      "text/html": [
       "<div>\n",
       "<style scoped>\n",
       "    .dataframe tbody tr th:only-of-type {\n",
       "        vertical-align: middle;\n",
       "    }\n",
       "\n",
       "    .dataframe tbody tr th {\n",
       "        vertical-align: top;\n",
       "    }\n",
       "\n",
       "    .dataframe thead th {\n",
       "        text-align: right;\n",
       "    }\n",
       "</style>\n",
       "<table border=\"1\" class=\"dataframe\">\n",
       "  <thead>\n",
       "    <tr style=\"text-align: right;\">\n",
       "      <th></th>\n",
       "      <th>scaffold</th>\n",
       "      <th>sample</th>\n",
       "      <th>source</th>\n",
       "      <th>scaffold_length</th>\n",
       "      <th>provirus</th>\n",
       "      <th>proviral_length</th>\n",
       "      <th>gene_count</th>\n",
       "      <th>viral_genes</th>\n",
       "      <th>host_genes</th>\n",
       "      <th>checkv_quality</th>\n",
       "      <th>...</th>\n",
       "      <th>warnings</th>\n",
       "      <th>host_virus_ratio</th>\n",
       "      <th>category</th>\n",
       "      <th>putative_euk_virus</th>\n",
       "      <th>primary_cluster</th>\n",
       "      <th>secondary_cluster</th>\n",
       "      <th>viral_region_length</th>\n",
       "      <th>representative</th>\n",
       "      <th>manual</th>\n",
       "      <th>reclust</th>\n",
       "    </tr>\n",
       "  </thead>\n",
       "  <tbody>\n",
       "  </tbody>\n",
       "</table>\n",
       "<p>0 rows × 25 columns</p>\n",
       "</div>"
      ],
      "text/plain": [
       "Empty DataFrame\n",
       "Columns: [scaffold, sample, source, scaffold_length, provirus, proviral_length, gene_count, viral_genes, host_genes, checkv_quality, miuvig_quality, completeness, completeness_method, contamination, kmer_freq, warnings, host_virus_ratio, category, putative_euk_virus, primary_cluster, secondary_cluster, viral_region_length, representative, manual, reclust]\n",
       "Index: []\n",
       "\n",
       "[0 rows x 25 columns]"
      ]
     },
     "execution_count": 75,
     "metadata": {},
     "output_type": "execute_result"
    }
   ],
   "source": [
    "final_merge[final_merge[\"representative\"]!=final_merge[\"reclust\"]]"
   ]
  },
  {
   "cell_type": "markdown",
   "metadata": {},
   "source": [
    "No differences, so okay to leave as is for now."
   ]
  },
  {
   "cell_type": "markdown",
   "metadata": {},
   "source": [
    "### create metadata"
   ]
  },
  {
   "cell_type": "code",
   "execution_count": 80,
   "metadata": {},
   "outputs": [],
   "source": [
    "# final\n",
    "fmeta = defaultdict(list)\n",
    "\n",
    "for key, row in final_merge.iterrows():\n",
    "    \n",
    "    # to maintain\n",
    "    for item in [\"scaffold\", \"sample\", \"source\"]:\n",
    "        fmeta[item].append(row[item])\n",
    "    \n",
    "    # final category\n",
    "    if (row[\"category\"] == \"curate\") & (row[\"representative\"]==False):\n",
    "        # get representative sequence\n",
    "        rep = final_merge[(final_merge[\"secondary_cluster\"]==row[\"secondary_cluster\"]) & \\\n",
    "            (final_merge[\"representative\"]==True)][\"scaffold\"].iloc[0]\n",
    "        # if representative was automated\n",
    "        if final_merge[final_merge[\"scaffold\"]==rep][\"manual\"].iloc[0] == \"None\":\n",
    "            ccat = final_merge[final_merge[\"scaffold\"]==rep][\"category\"].iloc[0]\n",
    "        else: ccat = final_merge[final_merge[\"scaffold\"]==rep][\"manual\"].iloc[0]\n",
    "        \n",
    "    elif row[\"category\"] == \"curate\":\n",
    "        ccat = row[\"manual\"]\n",
    "    else: ccat = row[\"category\"]\n",
    "    \n",
    "    fmeta[\"curated_category\"].append(ccat)\n",
    "    fmeta[\"scaffold_length\"].append(row[\"scaffold_length\"])\n",
    "    \n",
    "    if \"provirus\" in ccat:\n",
    "        fmeta[\"region_length\"].append(row[\"viral_region_length\"])\n",
    "    else: fmeta[\"region_length\"].append(row[\"scaffold_length\"])\n",
    "    \n",
    "    for item in [\"putative_euk_virus\", \"primary_cluster\", \"secondary_cluster\", \"representative\"]:\n",
    "        fmeta[item].append(row[item])\n",
    "        \n",
    "    # circularization\n",
    "    if row[\"completeness_method\"] == \"DTR (high-confidence)\":\n",
    "        fmeta[\"circularized\"].append(True)\n",
    "    else: fmeta[\"circularized\"].append(False)\n",
    "        \n",
    "fmetadf = pd.DataFrame(fmeta)"
   ]
  },
  {
   "cell_type": "code",
   "execution_count": 81,
   "metadata": {},
   "outputs": [],
   "source": [
    "# all\n",
    "fmetadf.to_csv(rootdir + \"viral/metadata/curated_viral_metadata_all.tsv\", sep=\"\\t\", index=False)\n",
    "# subset\n",
    "subset = fmetadf[(fmetadf[\"curated_category\"]).str.contains(\"virus\") & (fmetadf[\"putative_euk_virus\"]==False) & \\\n",
    "        (fmetadf[\"representative\"]==True)]\n",
    "subset.to_csv(rootdir + \"viral/metadata/curated_viral_metadata_subset.tsv\", sep=\"\\t\", index=False)"
   ]
  },
  {
   "cell_type": "markdown",
   "metadata": {},
   "source": [
    "### write out sequences"
   ]
  },
  {
   "cell_type": "code",
   "execution_count": 1532,
   "metadata": {},
   "outputs": [],
   "source": [
    "cmdir(rootdir + \"viral/genomes/final_genomes/\")"
   ]
  },
  {
   "cell_type": "code",
   "execution_count": 1544,
   "metadata": {},
   "outputs": [],
   "source": [
    "for genome in glob.glob(rootdir + \"viral/genomes/checkv_genomes_50kb_curated/*\"):\n",
    "    \n",
    "    name = os.path.basename(genome).split(\".\")[0]\n",
    "    \n",
    "    if name in list(subset[\"scaffold\"].unique()):\n",
    "        sp.call(\"cp %s %s\" %(genome, rootdir + \"viral/genomes/final_genomes/\"), shell=True)"
   ]
  }
 ],
 "metadata": {
  "kernelspec": {
   "display_name": "Python 3",
   "language": "python",
   "name": "python3"
  },
  "language_info": {
   "codemirror_mode": {
    "name": "ipython",
    "version": 3
   },
   "file_extension": ".py",
   "mimetype": "text/x-python",
   "name": "python",
   "nbconvert_exporter": "python",
   "pygments_lexer": "ipython3",
   "version": "3.8.2"
  }
 },
 "nbformat": 4,
 "nbformat_minor": 4
}
